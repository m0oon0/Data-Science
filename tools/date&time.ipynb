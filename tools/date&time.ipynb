{
  "nbformat": 4,
  "nbformat_minor": 0,
  "metadata": {
    "colab": {
      "name": "date&time.ipynb",
      "provenance": [],
      "collapsed_sections": [],
      "authorship_tag": "ABX9TyONP9+ai9jwJOH6qhw5zJKy"
    },
    "kernelspec": {
      "name": "python3",
      "display_name": "Python 3"
    },
    "language_info": {
      "name": "python"
    }
  },
  "cells": [
    {
      "cell_type": "code",
      "execution_count": null,
      "metadata": {
        "colab": {
          "base_uri": "https://localhost:8080/"
        },
        "id": "jiWxciWP70zw",
        "outputId": "8fc2faf5-c495-4c9f-dd26-3cb3e97cae71"
      },
      "outputs": [
        {
          "output_type": "stream",
          "name": "stdout",
          "text": [
            "<class 'datetime.datetime'>\n",
            "2022-01-01 12:00:30\n"
          ]
        }
      ],
      "source": [
        "import datetime as dt\n",
        "format = \"%Y-%m-%d %H:%M:%S\"\n",
        "\n",
        "datetime_str = '2022-01-01 12:00:30'\n",
        "datetime_dt = dt.datetime.strptime(datetime_str, format)\n",
        "# datetime 모듈의 datetime 클래스의 strptime 함수\n",
        "\n",
        "print(type(datetime_dt))\n",
        "print(datetime_dt)"
      ]
    },
    {
      "cell_type": "code",
      "source": [
        "datetime_str = datetime_dt.strftime(format)\n",
        "\n",
        "print(type(datetime_str))\n",
        "print(datetime_str)"
      ],
      "metadata": {
        "colab": {
          "base_uri": "https://localhost:8080/"
        },
        "id": "VZviUn0E-NxN",
        "outputId": "db03382a-9edd-4670-b68c-8916343a5ee8"
      },
      "execution_count": null,
      "outputs": [
        {
          "output_type": "stream",
          "name": "stdout",
          "text": [
            "<class 'str'>\n",
            "2022-01-01 12:00:30\n"
          ]
        }
      ]
    },
    {
      "cell_type": "code",
      "source": [
        "datetime_str2 = datetime_dt.strftime('%Y년 %m월 %H시')\n",
        "print(type(datetime_str2))\n",
        "print(datetime_str2)"
      ],
      "metadata": {
        "colab": {
          "base_uri": "https://localhost:8080/"
        },
        "id": "NGZRa-_X-gyM",
        "outputId": "a81f2d6b-7127-4ee5-d041-86a24b156693"
      },
      "execution_count": null,
      "outputs": [
        {
          "output_type": "stream",
          "name": "stdout",
          "text": [
            "<class 'str'>\n",
            "2022년 01월 12시\n"
          ]
        }
      ]
    },
    {
      "cell_type": "code",
      "source": [
        "import numpy as np"
      ],
      "metadata": {
        "id": "_VlBqb4D-vqi"
      },
      "execution_count": 10,
      "outputs": []
    },
    {
      "cell_type": "code",
      "source": [
        "np.datetime64('2022-01-01') # string to datetime64"
      ],
      "metadata": {
        "colab": {
          "base_uri": "https://localhost:8080/"
        },
        "id": "jeR0EgoVZyaH",
        "outputId": "888936d3-7a59-4d20-fdea-e897c33fa6b8"
      },
      "execution_count": 11,
      "outputs": [
        {
          "output_type": "execute_result",
          "data": {
            "text/plain": [
              "numpy.datetime64('2022-01-01')"
            ]
          },
          "metadata": {},
          "execution_count": 11
        }
      ]
    },
    {
      "cell_type": "code",
      "source": [
        "np.array(['2020-01-01', '2021-02-02', '2022-01-01'], dtype='datetime64')"
      ],
      "metadata": {
        "colab": {
          "base_uri": "https://localhost:8080/"
        },
        "id": "_MdgIxcFaIkP",
        "outputId": "4165b9f2-a3ca-4b6f-fc20-42c6dd684846"
      },
      "execution_count": 13,
      "outputs": [
        {
          "output_type": "execute_result",
          "data": {
            "text/plain": [
              "array(['2020-01-01', '2021-02-02', '2022-01-01'], dtype='datetime64[D]')"
            ]
          },
          "metadata": {},
          "execution_count": 13
        }
      ]
    },
    {
      "cell_type": "code",
      "source": [
        "np.arange('2020-01', '2020-02', dtype='datetime64[D]')"
      ],
      "metadata": {
        "colab": {
          "base_uri": "https://localhost:8080/"
        },
        "id": "rmuqdmppbP1j",
        "outputId": "9baf6863-a702-48b3-ef11-cae23567e0fb"
      },
      "execution_count": 15,
      "outputs": [
        {
          "output_type": "execute_result",
          "data": {
            "text/plain": [
              "array(['2020-01-01', '2020-01-02', '2020-01-03', '2020-01-04',\n",
              "       '2020-01-05', '2020-01-06', '2020-01-07', '2020-01-08',\n",
              "       '2020-01-09', '2020-01-10', '2020-01-11', '2020-01-12',\n",
              "       '2020-01-13', '2020-01-14', '2020-01-15', '2020-01-16',\n",
              "       '2020-01-17', '2020-01-18', '2020-01-19', '2020-01-20',\n",
              "       '2020-01-21', '2020-01-22', '2020-01-23', '2020-01-24',\n",
              "       '2020-01-25', '2020-01-26', '2020-01-27', '2020-01-28',\n",
              "       '2020-01-29', '2020-01-30', '2020-01-31'], dtype='datetime64[D]')"
            ]
          },
          "metadata": {},
          "execution_count": 15
        }
      ]
    },
    {
      "cell_type": "code",
      "source": [
        "np.arange('2020-01', '2021-01', dtype='datetime64[W]')"
      ],
      "metadata": {
        "colab": {
          "base_uri": "https://localhost:8080/"
        },
        "id": "PDX7O5wYbmDB",
        "outputId": "77e46afd-8275-4f16-eac2-6a1aaaa45d64"
      },
      "execution_count": 18,
      "outputs": [
        {
          "output_type": "execute_result",
          "data": {
            "text/plain": [
              "array(['2019-12-26', '2020-01-02', '2020-01-09', '2020-01-16',\n",
              "       '2020-01-23', '2020-01-30', '2020-02-06', '2020-02-13',\n",
              "       '2020-02-20', '2020-02-27', '2020-03-05', '2020-03-12',\n",
              "       '2020-03-19', '2020-03-26', '2020-04-02', '2020-04-09',\n",
              "       '2020-04-16', '2020-04-23', '2020-04-30', '2020-05-07',\n",
              "       '2020-05-14', '2020-05-21', '2020-05-28', '2020-06-04',\n",
              "       '2020-06-11', '2020-06-18', '2020-06-25', '2020-07-02',\n",
              "       '2020-07-09', '2020-07-16', '2020-07-23', '2020-07-30',\n",
              "       '2020-08-06', '2020-08-13', '2020-08-20', '2020-08-27',\n",
              "       '2020-09-03', '2020-09-10', '2020-09-17', '2020-09-24',\n",
              "       '2020-10-01', '2020-10-08', '2020-10-15', '2020-10-22',\n",
              "       '2020-10-29', '2020-11-05', '2020-11-12', '2020-11-19',\n",
              "       '2020-11-26', '2020-12-03', '2020-12-10', '2020-12-17',\n",
              "       '2020-12-24'], dtype='datetime64[W]')"
            ]
          },
          "metadata": {},
          "execution_count": 18
        }
      ]
    },
    {
      "cell_type": "code",
      "source": [
        "np.datetime64('2022-01-01') - np.datetime64('2020-05-19')"
      ],
      "metadata": {
        "colab": {
          "base_uri": "https://localhost:8080/"
        },
        "id": "vq-UsKBscf_9",
        "outputId": "57ffe94e-bc10-4600-9dc2-e1a2e780a21f"
      },
      "execution_count": 17,
      "outputs": [
        {
          "output_type": "execute_result",
          "data": {
            "text/plain": [
              "numpy.timedelta64(592,'D')"
            ]
          },
          "metadata": {},
          "execution_count": 17
        }
      ]
    },
    {
      "cell_type": "code",
      "source": [
        "import pandas as pd"
      ],
      "metadata": {
        "id": "jodFLmV9clsL"
      },
      "execution_count": 19,
      "outputs": []
    },
    {
      "cell_type": "code",
      "source": [
        "pd.Timestamp('2022-01-01 12:00:30')"
      ],
      "metadata": {
        "colab": {
          "base_uri": "https://localhost:8080/"
        },
        "id": "J5ONKNgbmmUr",
        "outputId": "fac235e3-04e3-4d1f-f3bb-2772a793b4f5"
      },
      "execution_count": 20,
      "outputs": [
        {
          "output_type": "execute_result",
          "data": {
            "text/plain": [
              "Timestamp('2022-01-01 12:00:30')"
            ]
          },
          "metadata": {},
          "execution_count": 20
        }
      ]
    },
    {
      "cell_type": "code",
      "source": [
        "pd.to_datetime('2022-01-01 12')"
      ],
      "metadata": {
        "colab": {
          "base_uri": "https://localhost:8080/"
        },
        "id": "y5uze4cWm7pS",
        "outputId": "a54172fe-fe84-4db6-960b-52aa95dffd29"
      },
      "execution_count": 21,
      "outputs": [
        {
          "output_type": "execute_result",
          "data": {
            "text/plain": [
              "Timestamp('2022-01-01 12:00:00')"
            ]
          },
          "metadata": {},
          "execution_count": 21
        }
      ]
    },
    {
      "cell_type": "code",
      "source": [
        "pd.to_datetime(['2022-01-01', '2022-01-02'])"
      ],
      "metadata": {
        "colab": {
          "base_uri": "https://localhost:8080/"
        },
        "id": "DUSXJoA5nQo_",
        "outputId": "e5544870-c977-48cf-bd3e-580555708a36"
      },
      "execution_count": 29,
      "outputs": [
        {
          "output_type": "execute_result",
          "data": {
            "text/plain": [
              "DatetimeIndex(['2022-01-01', '2022-01-02'], dtype='datetime64[ns]', freq=None)"
            ]
          },
          "metadata": {},
          "execution_count": 29
        }
      ]
    },
    {
      "cell_type": "code",
      "source": [
        "pd.date_range('2020-01', '2020-03')"
      ],
      "metadata": {
        "colab": {
          "base_uri": "https://localhost:8080/"
        },
        "id": "TnWq1MO4nXm8",
        "outputId": "ad645c04-e08e-4fe1-cdfa-2c7ac8151369"
      },
      "execution_count": 27,
      "outputs": [
        {
          "output_type": "execute_result",
          "data": {
            "text/plain": [
              "DatetimeIndex(['2020-01-01', '2020-01-02', '2020-01-03', '2020-01-04',\n",
              "               '2020-01-05', '2020-01-06', '2020-01-07', '2020-01-08',\n",
              "               '2020-01-09', '2020-01-10', '2020-01-11', '2020-01-12',\n",
              "               '2020-01-13', '2020-01-14', '2020-01-15', '2020-01-16',\n",
              "               '2020-01-17', '2020-01-18', '2020-01-19', '2020-01-20',\n",
              "               '2020-01-21', '2020-01-22', '2020-01-23', '2020-01-24',\n",
              "               '2020-01-25', '2020-01-26', '2020-01-27', '2020-01-28',\n",
              "               '2020-01-29', '2020-01-30', '2020-01-31', '2020-02-01',\n",
              "               '2020-02-02', '2020-02-03', '2020-02-04', '2020-02-05',\n",
              "               '2020-02-06', '2020-02-07', '2020-02-08', '2020-02-09',\n",
              "               '2020-02-10', '2020-02-11', '2020-02-12', '2020-02-13',\n",
              "               '2020-02-14', '2020-02-15', '2020-02-16', '2020-02-17',\n",
              "               '2020-02-18', '2020-02-19', '2020-02-20', '2020-02-21',\n",
              "               '2020-02-22', '2020-02-23', '2020-02-24', '2020-02-25',\n",
              "               '2020-02-26', '2020-02-27', '2020-02-28', '2020-02-29',\n",
              "               '2020-03-01'],\n",
              "              dtype='datetime64[ns]', freq='D')"
            ]
          },
          "metadata": {},
          "execution_count": 27
        }
      ]
    },
    {
      "cell_type": "code",
      "source": [
        "pd.Period('2022-01')"
      ],
      "metadata": {
        "colab": {
          "base_uri": "https://localhost:8080/"
        },
        "id": "G0jjdZCFnnH1",
        "outputId": "df4d80c3-8837-4c20-9664-17a7092461fe"
      },
      "execution_count": 31,
      "outputs": [
        {
          "output_type": "execute_result",
          "data": {
            "text/plain": [
              "Period('2022-01', 'M')"
            ]
          },
          "metadata": {},
          "execution_count": 31
        }
      ]
    },
    {
      "cell_type": "code",
      "source": [
        "pd.Period('2022-01', freq='D')\n"
      ],
      "metadata": {
        "colab": {
          "base_uri": "https://localhost:8080/"
        },
        "id": "oTb0k4UEqFsR",
        "outputId": "247e5752-fd44-4c95-9ef5-e4b4592f2481"
      },
      "execution_count": 32,
      "outputs": [
        {
          "output_type": "execute_result",
          "data": {
            "text/plain": [
              "Period('2022-01-01', 'D')"
            ]
          },
          "metadata": {},
          "execution_count": 32
        }
      ]
    },
    {
      "cell_type": "code",
      "source": [
        "pr = pd.period_range('2020-01', '2020-03', freq='D')"
      ],
      "metadata": {
        "id": "wtWMu_slqMaR"
      },
      "execution_count": 34,
      "outputs": []
    },
    {
      "cell_type": "code",
      "source": [
        "type(pr) # PeriodIndex 라는 객체"
      ],
      "metadata": {
        "colab": {
          "base_uri": "https://localhost:8080/"
        },
        "id": "vKubImflqMxa",
        "outputId": "c0a6fcd0-514a-4c1d-8a2c-85d77bb49acc"
      },
      "execution_count": 35,
      "outputs": [
        {
          "output_type": "execute_result",
          "data": {
            "text/plain": [
              "pandas.core.indexes.period.PeriodIndex"
            ]
          },
          "metadata": {},
          "execution_count": 35
        }
      ]
    },
    {
      "cell_type": "code",
      "source": [
        "p = pd.Period('2050-01-01')"
      ],
      "metadata": {
        "id": "Z6by93E1rVX4"
      },
      "execution_count": 49,
      "outputs": []
    },
    {
      "cell_type": "code",
      "source": [
        "p.start_time"
      ],
      "metadata": {
        "colab": {
          "base_uri": "https://localhost:8080/"
        },
        "id": "PK-1t8_AspIc",
        "outputId": "f0036ce6-ba0f-4db6-d869-74c40be93ee6"
      },
      "execution_count": 50,
      "outputs": [
        {
          "output_type": "execute_result",
          "data": {
            "text/plain": [
              "Timestamp('2050-01-01 00:00:00')"
            ]
          },
          "metadata": {},
          "execution_count": 50
        }
      ]
    },
    {
      "cell_type": "code",
      "source": [
        "p.end_time"
      ],
      "metadata": {
        "colab": {
          "base_uri": "https://localhost:8080/"
        },
        "id": "vogSY4PXsrGF",
        "outputId": "c5bf36f9-63ae-4aac-c9cf-f5b78e9d8b6c"
      },
      "execution_count": 51,
      "outputs": [
        {
          "output_type": "execute_result",
          "data": {
            "text/plain": [
              "Timestamp('2050-01-01 23:59:59.999999999')"
            ]
          },
          "metadata": {},
          "execution_count": 51
        }
      ]
    },
    {
      "cell_type": "code",
      "source": [
        "ts = pd.Timestamp('2020-01-01 10:00')"
      ],
      "metadata": {
        "id": "JgJKmuFFssR1"
      },
      "execution_count": 41,
      "outputs": []
    },
    {
      "cell_type": "code",
      "source": [
        "arr1 = pd.period_range('2021-01-01', '2021-06-30', freq='W-MON')"
      ],
      "metadata": {
        "id": "8pW9f07wsyvf"
      },
      "execution_count": 57,
      "outputs": []
    },
    {
      "cell_type": "code",
      "source": [
        "arr1 # PeriodIndex 객체"
      ],
      "metadata": {
        "colab": {
          "base_uri": "https://localhost:8080/"
        },
        "id": "ThHYwDARv9Bz",
        "outputId": "5eadf9f5-f4a6-4598-dcb9-8a158dd55106"
      },
      "execution_count": 58,
      "outputs": [
        {
          "output_type": "execute_result",
          "data": {
            "text/plain": [
              "PeriodIndex(['2020-12-29/2021-01-04', '2021-01-05/2021-01-11',\n",
              "             '2021-01-12/2021-01-18', '2021-01-19/2021-01-25',\n",
              "             '2021-01-26/2021-02-01', '2021-02-02/2021-02-08',\n",
              "             '2021-02-09/2021-02-15', '2021-02-16/2021-02-22',\n",
              "             '2021-02-23/2021-03-01', '2021-03-02/2021-03-08',\n",
              "             '2021-03-09/2021-03-15', '2021-03-16/2021-03-22',\n",
              "             '2021-03-23/2021-03-29', '2021-03-30/2021-04-05',\n",
              "             '2021-04-06/2021-04-12', '2021-04-13/2021-04-19',\n",
              "             '2021-04-20/2021-04-26', '2021-04-27/2021-05-03',\n",
              "             '2021-05-04/2021-05-10', '2021-05-11/2021-05-17',\n",
              "             '2021-05-18/2021-05-24', '2021-05-25/2021-05-31',\n",
              "             '2021-06-01/2021-06-07', '2021-06-08/2021-06-14',\n",
              "             '2021-06-15/2021-06-21', '2021-06-22/2021-06-28',\n",
              "             '2021-06-29/2021-07-05'],\n",
              "            dtype='period[W-MON]', freq='W-MON')"
            ]
          },
          "metadata": {},
          "execution_count": 58
        }
      ]
    },
    {
      "cell_type": "code",
      "source": [
        "arr1[0] # Period 객체"
      ],
      "metadata": {
        "colab": {
          "base_uri": "https://localhost:8080/"
        },
        "id": "xRYBc282wMBP",
        "outputId": "ca17357e-ca4b-47cc-fac8-af3d0d528b84"
      },
      "execution_count": 59,
      "outputs": [
        {
          "output_type": "execute_result",
          "data": {
            "text/plain": [
              "Period('2020-12-29/2021-01-04', 'W-MON')"
            ]
          },
          "metadata": {},
          "execution_count": 59
        }
      ]
    },
    {
      "cell_type": "code",
      "source": [
        "arr1[0].start_time # Timestamp 객체"
      ],
      "metadata": {
        "colab": {
          "base_uri": "https://localhost:8080/"
        },
        "id": "Km0bAuy8wkIR",
        "outputId": "3a3f5d64-013b-4390-f342-e98d408a60d1"
      },
      "execution_count": 60,
      "outputs": [
        {
          "output_type": "execute_result",
          "data": {
            "text/plain": [
              "Timestamp('2020-12-29 00:00:00')"
            ]
          },
          "metadata": {},
          "execution_count": 60
        }
      ]
    },
    {
      "cell_type": "code",
      "source": [
        "arr1[0].end_time"
      ],
      "metadata": {
        "colab": {
          "base_uri": "https://localhost:8080/"
        },
        "id": "UI4-EKFowmZS",
        "outputId": "edcfa4b8-d4ea-4613-a3a6-f74ebc04ec70"
      },
      "execution_count": 61,
      "outputs": [
        {
          "output_type": "execute_result",
          "data": {
            "text/plain": [
              "Timestamp('2021-01-04 23:59:59.999999999')"
            ]
          },
          "metadata": {},
          "execution_count": 61
        }
      ]
    },
    {
      "cell_type": "code",
      "source": [
        "arr1.start_time # DatetimeIndex 객체"
      ],
      "metadata": {
        "colab": {
          "base_uri": "https://localhost:8080/"
        },
        "id": "fnvnImdzxQB1",
        "outputId": "d6a8d23c-af36-4040-af00-e43eeedd7090"
      },
      "execution_count": 65,
      "outputs": [
        {
          "output_type": "execute_result",
          "data": {
            "text/plain": [
              "DatetimeIndex(['2020-12-29', '2021-01-05', '2021-01-12', '2021-01-19',\n",
              "               '2021-01-26', '2021-02-02', '2021-02-09', '2021-02-16',\n",
              "               '2021-02-23', '2021-03-02', '2021-03-09', '2021-03-16',\n",
              "               '2021-03-23', '2021-03-30', '2021-04-06', '2021-04-13',\n",
              "               '2021-04-20', '2021-04-27', '2021-05-04', '2021-05-11',\n",
              "               '2021-05-18', '2021-05-25', '2021-06-01', '2021-06-08',\n",
              "               '2021-06-15', '2021-06-22', '2021-06-29'],\n",
              "              dtype='datetime64[ns]', freq='W-TUE')"
            ]
          },
          "metadata": {},
          "execution_count": 65
        }
      ]
    }
  ]
}

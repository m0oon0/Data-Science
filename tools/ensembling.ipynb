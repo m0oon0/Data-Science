{
  "nbformat": 4,
  "nbformat_minor": 0,
  "metadata": {
    "colab": {
      "name": "ensembling.ipynb",
      "provenance": [],
      "collapsed_sections": [],
      "authorship_tag": "ABX9TyPAtbFzUT1Afy7EorF6wOW7"
    },
    "kernelspec": {
      "name": "python3",
      "display_name": "Python 3"
    },
    "language_info": {
      "name": "python"
    }
  },
  "cells": [
    {
      "cell_type": "code",
      "execution_count": 3,
      "metadata": {
        "id": "XIR0ebyZVpLA"
      },
      "outputs": [],
      "source": [
        "from sklearn.datasets import load_breast_cancer\n",
        "from sklearn.model_selection import train_test_split\n",
        "from sklearn.tree import DecisionTreeClassifier # Use DT classifier"
      ]
    },
    {
      "cell_type": "code",
      "source": [
        "cancer = load_breast_cancer()\n",
        "X_train, X_test, y_train, y_test = train_test_split(cancer.data, cancer.target)\n",
        "model = DecisionTreeClassifier(random_state=0) # Vanilla DT\n",
        "model.fit(X_train, y_train)\n",
        "\n",
        "print(model.score(X_train, y_train))\n",
        "print(model.score(X_test, y_test))"
      ],
      "metadata": {
        "colab": {
          "base_uri": "https://localhost:8080/"
        },
        "id": "9LZydPCXXMuZ",
        "outputId": "74c21dab-4cc6-4a59-9158-bd415f7d9321"
      },
      "execution_count": 43,
      "outputs": [
        {
          "output_type": "stream",
          "name": "stdout",
          "text": [
            "1.0\n",
            "0.9090909090909091\n"
          ]
        }
      ]
    },
    {
      "cell_type": "code",
      "source": [
        "dir(DecisionTreeClassifier)"
      ],
      "metadata": {
        "colab": {
          "base_uri": "https://localhost:8080/"
        },
        "id": "F76n2raEZZg0",
        "outputId": "74c88b2e-6d58-477b-dcb0-a17cf21cf2a9"
      },
      "execution_count": null,
      "outputs": [
        {
          "output_type": "execute_result",
          "data": {
            "text/plain": [
              "['__abstractmethods__',\n",
              " '__class__',\n",
              " '__delattr__',\n",
              " '__dict__',\n",
              " '__dir__',\n",
              " '__doc__',\n",
              " '__eq__',\n",
              " '__format__',\n",
              " '__ge__',\n",
              " '__getattribute__',\n",
              " '__getstate__',\n",
              " '__gt__',\n",
              " '__hash__',\n",
              " '__init__',\n",
              " '__init_subclass__',\n",
              " '__le__',\n",
              " '__lt__',\n",
              " '__module__',\n",
              " '__ne__',\n",
              " '__new__',\n",
              " '__reduce__',\n",
              " '__reduce_ex__',\n",
              " '__repr__',\n",
              " '__setattr__',\n",
              " '__setstate__',\n",
              " '__sizeof__',\n",
              " '__str__',\n",
              " '__subclasshook__',\n",
              " '__weakref__',\n",
              " '_abc_impl',\n",
              " '_check_feature_names',\n",
              " '_check_n_features',\n",
              " '_estimator_type',\n",
              " '_get_param_names',\n",
              " '_get_tags',\n",
              " '_more_tags',\n",
              " '_prune_tree',\n",
              " '_repr_html_',\n",
              " '_repr_html_inner',\n",
              " '_repr_mimebundle_',\n",
              " '_validate_X_predict',\n",
              " '_validate_data',\n",
              " 'apply',\n",
              " 'cost_complexity_pruning_path',\n",
              " 'decision_path',\n",
              " 'feature_importances_',\n",
              " 'fit',\n",
              " 'get_depth',\n",
              " 'get_n_leaves',\n",
              " 'get_params',\n",
              " 'n_features_',\n",
              " 'predict',\n",
              " 'predict_log_proba',\n",
              " 'predict_proba',\n",
              " 'score',\n",
              " 'set_params']"
            ]
          },
          "metadata": {},
          "execution_count": 3
        }
      ]
    },
    {
      "cell_type": "code",
      "source": [
        "cancer.feature_names"
      ],
      "metadata": {
        "colab": {
          "base_uri": "https://localhost:8080/"
        },
        "id": "i-Sgv4DRbePf",
        "outputId": "0e4d45c1-17ce-4c02-b6d1-3fc008648f4f"
      },
      "execution_count": null,
      "outputs": [
        {
          "output_type": "execute_result",
          "data": {
            "text/plain": [
              "array(['mean radius', 'mean texture', 'mean perimeter', 'mean area',\n",
              "       'mean smoothness', 'mean compactness', 'mean concavity',\n",
              "       'mean concave points', 'mean symmetry', 'mean fractal dimension',\n",
              "       'radius error', 'texture error', 'perimeter error', 'area error',\n",
              "       'smoothness error', 'compactness error', 'concavity error',\n",
              "       'concave points error', 'symmetry error',\n",
              "       'fractal dimension error', 'worst radius', 'worst texture',\n",
              "       'worst perimeter', 'worst area', 'worst smoothness',\n",
              "       'worst compactness', 'worst concavity', 'worst concave points',\n",
              "       'worst symmetry', 'worst fractal dimension'], dtype='<U23')"
            ]
          },
          "metadata": {},
          "execution_count": 11
        }
      ]
    },
    {
      "cell_type": "code",
      "source": [
        "len(cancer.feature_names) # 30 features"
      ],
      "metadata": {
        "colab": {
          "base_uri": "https://localhost:8080/"
        },
        "id": "Dm-jsbHZdWnF",
        "outputId": "189b6abd-03c3-48bb-c024-b169cbf9be03"
      },
      "execution_count": null,
      "outputs": [
        {
          "output_type": "execute_result",
          "data": {
            "text/plain": [
              "30"
            ]
          },
          "metadata": {},
          "execution_count": 17
        }
      ]
    },
    {
      "cell_type": "code",
      "source": [
        "print(model.get_depth())\n",
        "print(model.get_n_leaves())\n",
        "print(model.get_params()) # default"
      ],
      "metadata": {
        "colab": {
          "base_uri": "https://localhost:8080/"
        },
        "id": "8vun7U9eZiNe",
        "outputId": "c3c12f03-47c8-4ae2-abd0-931e9c0f3eba"
      },
      "execution_count": null,
      "outputs": [
        {
          "output_type": "stream",
          "name": "stdout",
          "text": [
            "8\n",
            "16\n",
            "{'ccp_alpha': 0.0, 'class_weight': None, 'criterion': 'gini', 'max_depth': None, 'max_features': None, 'max_leaf_nodes': None, 'min_impurity_decrease': 0.0, 'min_samples_leaf': 1, 'min_samples_split': 2, 'min_weight_fraction_leaf': 0.0, 'random_state': 0, 'splitter': 'best'}\n"
          ]
        }
      ]
    },
    {
      "cell_type": "markdown",
      "source": [
        "set parameters"
      ],
      "metadata": {
        "id": "C4gy61BgaR6Q"
      }
    },
    {
      "cell_type": "code",
      "source": [
        "model = DecisionTreeClassifier(max_depth=4)\n",
        "model.fit(X_train, y_train)\n",
        "\n",
        "print(model.score(X_train, y_train))\n",
        "print(model.score(X_test, y_test))\n",
        "\n",
        "# max depth 제한으로 over fitting 방지 - test accuracy 상승"
      ],
      "metadata": {
        "colab": {
          "base_uri": "https://localhost:8080/"
        },
        "id": "QjyqU5brYpEE",
        "outputId": "dc6da780-012d-46e7-8f19-31c28cbe3717"
      },
      "execution_count": null,
      "outputs": [
        {
          "output_type": "stream",
          "name": "stdout",
          "text": [
            "0.9765258215962441\n",
            "0.951048951048951\n"
          ]
        }
      ]
    },
    {
      "cell_type": "markdown",
      "source": [
        "criterion ; gini impurity (default) 대신 entropy (information gain) 사용"
      ],
      "metadata": {
        "id": "3336cYnNmCGW"
      }
    },
    {
      "cell_type": "code",
      "source": [
        "model = DecisionTreeClassifier(criterion='entropy', max_depth=4)\n",
        "model.fit(X_train, y_train)\n",
        "\n",
        "print(model.score(X_train, y_train))\n",
        "print(model.score(X_test, y_test)) # 결과는 비슷함"
      ],
      "metadata": {
        "colab": {
          "base_uri": "https://localhost:8080/"
        },
        "id": "jDLTq5ZbaNO8",
        "outputId": "9c6074bd-7d2d-4652-bfc0-953fa50d085e"
      },
      "execution_count": null,
      "outputs": [
        {
          "output_type": "stream",
          "name": "stdout",
          "text": [
            "0.9812206572769953\n",
            "0.958041958041958\n"
          ]
        }
      ]
    },
    {
      "cell_type": "code",
      "source": [
        "from sklearn import tree\n",
        "tree.plot_tree(model)"
      ],
      "metadata": {
        "colab": {
          "base_uri": "https://localhost:8080/",
          "height": 592
        },
        "id": "i6vEuEbBmSuH",
        "outputId": "e7ab2d61-bd17-4129-d2c7-085d312f0d58"
      },
      "execution_count": null,
      "outputs": [
        {
          "output_type": "execute_result",
          "data": {
            "text/plain": [
              "[Text(201.86470588235295, 195.696, 'X[22] <= 114.45\\nentropy = 0.946\\nsamples = 426\\nvalue = [155, 271]'),\n",
              " Text(108.31764705882354, 152.208, 'X[27] <= 0.111\\nentropy = 0.471\\nsamples = 298\\nvalue = [30, 268]'),\n",
              " Text(39.38823529411765, 108.72, 'X[13] <= 45.17\\nentropy = 0.123\\nsamples = 238\\nvalue = [4, 234]'),\n",
              " Text(19.694117647058825, 65.232, 'entropy = 0.0\\nsamples = 229\\nvalue = [0, 229]'),\n",
              " Text(59.082352941176474, 65.232, 'X[21] <= 22.76\\nentropy = 0.991\\nsamples = 9\\nvalue = [4, 5]'),\n",
              " Text(39.38823529411765, 21.744, 'entropy = 0.0\\nsamples = 4\\nvalue = [0, 4]'),\n",
              " Text(78.7764705882353, 21.744, 'entropy = 0.722\\nsamples = 5\\nvalue = [4, 1]'),\n",
              " Text(177.24705882352941, 108.72, 'X[21] <= 25.825\\nentropy = 0.987\\nsamples = 60\\nvalue = [26, 34]'),\n",
              " Text(137.85882352941178, 65.232, 'X[4] <= 0.126\\nentropy = 0.242\\nsamples = 25\\nvalue = [1, 24]'),\n",
              " Text(118.16470588235295, 21.744, 'entropy = 0.0\\nsamples = 24\\nvalue = [0, 24]'),\n",
              " Text(157.5529411764706, 21.744, 'entropy = 0.0\\nsamples = 1\\nvalue = [1, 0]'),\n",
              " Text(216.63529411764708, 65.232, 'X[7] <= 0.052\\nentropy = 0.863\\nsamples = 35\\nvalue = [25, 10]'),\n",
              " Text(196.94117647058823, 21.744, 'entropy = 0.977\\nsamples = 17\\nvalue = [7, 10]'),\n",
              " Text(236.3294117647059, 21.744, 'entropy = 0.0\\nsamples = 18\\nvalue = [18, 0]'),\n",
              " Text(295.4117647058824, 152.208, 'X[27] <= 0.113\\nentropy = 0.16\\nsamples = 128\\nvalue = [125, 3]'),\n",
              " Text(275.71764705882356, 108.72, 'X[1] <= 18.835\\nentropy = 0.954\\nsamples = 8\\nvalue = [5, 3]'),\n",
              " Text(256.02352941176474, 65.232, 'entropy = 0.0\\nsamples = 3\\nvalue = [0, 3]'),\n",
              " Text(295.4117647058824, 65.232, 'entropy = 0.0\\nsamples = 5\\nvalue = [5, 0]'),\n",
              " Text(315.1058823529412, 108.72, 'entropy = 0.0\\nsamples = 120\\nvalue = [120, 0]')]"
            ]
          },
          "metadata": {},
          "execution_count": 25
        },
        {
          "output_type": "display_data",
          "data": {
            "image/png": "[encoded data removed]",
            "text/plain": [
              "<Figure size 432x288 with 1 Axes>"
            ]
          },
          "metadata": {
            "needs_background": "light"
          }
        }
      ]
    },
    {
      "cell_type": "markdown",
      "source": [
        "### Ensemble"
      ],
      "metadata": {
        "id": "8clWgKDqzfHY"
      }
    },
    {
      "cell_type": "markdown",
      "source": [
        "### 1) bagging"
      ],
      "metadata": {
        "id": "OCTSIXhrTeYh"
      }
    },
    {
      "cell_type": "code",
      "source": [
        "from sklearn.ensemble import RandomForestClassifier # Use Random Forest # Bagging"
      ],
      "metadata": {
        "id": "AT3yOBF9uhVG"
      },
      "execution_count": 10,
      "outputs": []
    },
    {
      "cell_type": "code",
      "source": [
        "rf = RandomForestClassifier(n_estimators = 50, max_depth=5, max_leaf_nodes=10, n_jobs=-1)\n",
        "rf.fit(X_train, y_train)\n",
        "\n",
        "print(rf.score(X_train, y_train))\n",
        "print(rf.score(X_test, y_test))"
      ],
      "metadata": {
        "colab": {
          "base_uri": "https://localhost:8080/"
        },
        "id": "btJM3CUfvHTy",
        "outputId": "b38996cf-1d06-43a8-ae3f-939ed10a0a9b"
      },
      "execution_count": null,
      "outputs": [
        {
          "output_type": "stream",
          "name": "stdout",
          "text": [
            "0.9906103286384976\n",
            "0.972027972027972\n"
          ]
        }
      ]
    },
    {
      "cell_type": "code",
      "source": [
        "rf = RandomForestClassifier(n_estimators = 50, max_depth=5, max_leaf_nodes=10, n_jobs=-1)\n",
        "rf.fit(X_train, y_train)\n",
        "\n",
        "print(rf.score(X_train, y_train))\n",
        "print(rf.score(X_test, y_test))"
      ],
      "metadata": {
        "id": "7W8sPRv8w21G"
      },
      "execution_count": null,
      "outputs": []
    },
    {
      "cell_type": "code",
      "source": [
        "from sklearn.ensemble import VotingClassifier # Use voting classifier\n",
        "\n",
        "from sklearn.svm import SVC\n",
        "from sklearn.linear_model import LogisticRegression"
      ],
      "metadata": {
        "id": "NF6sBwREuUpf"
      },
      "execution_count": null,
      "outputs": []
    },
    {
      "cell_type": "code",
      "source": [
        "clf1 = LogisticRegression(solver='lbfgs')\n",
        "clf2 = RandomForestClassifier()\n",
        "clf3 = SVC(probability=True)"
      ],
      "metadata": {
        "id": "D_mdhKkp0IeU"
      },
      "execution_count": null,
      "outputs": []
    },
    {
      "cell_type": "code",
      "source": [
        "voting_c = VotingClassifier(estimators=[('LR', clf1), ('RF', clf2), ('SV', clf3)], voting='soft')"
      ],
      "metadata": {
        "id": "s47Oanmkz7Qe"
      },
      "execution_count": null,
      "outputs": []
    },
    {
      "cell_type": "code",
      "source": [
        "for clf in (clf1, clf2, clf3, voting_c):\n",
        "  clf.fit(X_train, y_train)\n",
        "  print(clf.__class__.__name__, clf.score(X_test, y_test))"
      ],
      "metadata": {
        "colab": {
          "base_uri": "https://localhost:8080/"
        },
        "id": "rUc4-SNBz9UD",
        "outputId": "eb47e344-5dd0-43ab-8cf9-62b02312ff09"
      },
      "execution_count": null,
      "outputs": [
        {
          "output_type": "stream",
          "name": "stderr",
          "text": [
            "/usr/local/lib/python3.7/dist-packages/sklearn/linear_model/_logistic.py:818: ConvergenceWarning: lbfgs failed to converge (status=1):\n",
            "STOP: TOTAL NO. of ITERATIONS REACHED LIMIT.\n",
            "\n",
            "Increase the number of iterations (max_iter) or scale the data as shown in:\n",
            "    https://scikit-learn.org/stable/modules/preprocessing.html\n",
            "Please also refer to the documentation for alternative solver options:\n",
            "    https://scikit-learn.org/stable/modules/linear_model.html#logistic-regression\n",
            "  extra_warning_msg=_LOGISTIC_SOLVER_CONVERGENCE_MSG,\n"
          ]
        },
        {
          "output_type": "stream",
          "name": "stdout",
          "text": [
            "LogisticRegression 0.951048951048951\n",
            "RandomForestClassifier 0.972027972027972\n",
            "SVC 0.916083916083916\n"
          ]
        },
        {
          "output_type": "stream",
          "name": "stderr",
          "text": [
            "/usr/local/lib/python3.7/dist-packages/sklearn/linear_model/_logistic.py:818: ConvergenceWarning: lbfgs failed to converge (status=1):\n",
            "STOP: TOTAL NO. of ITERATIONS REACHED LIMIT.\n",
            "\n",
            "Increase the number of iterations (max_iter) or scale the data as shown in:\n",
            "    https://scikit-learn.org/stable/modules/preprocessing.html\n",
            "Please also refer to the documentation for alternative solver options:\n",
            "    https://scikit-learn.org/stable/modules/linear_model.html#logistic-regression\n",
            "  extra_warning_msg=_LOGISTIC_SOLVER_CONVERGENCE_MSG,\n"
          ]
        },
        {
          "output_type": "stream",
          "name": "stdout",
          "text": [
            "VotingClassifier 0.965034965034965\n"
          ]
        }
      ]
    },
    {
      "cell_type": "code",
      "source": [
        "from sklearn.ensemble import BaggingClassifier"
      ],
      "metadata": {
        "id": "f53YQavC4jWV"
      },
      "execution_count": 1,
      "outputs": []
    },
    {
      "cell_type": "code",
      "source": [
        "from sklearn.neighbors import KNeighborsClassifier\n",
        "bagging = BaggingClassifier(KNeighborsClassifier(), bootstrap=True)\n",
        "bagging.fit(X_train, y_train)\n",
        "\n",
        "print(bagging.score(X_test, y_test))"
      ],
      "metadata": {
        "colab": {
          "base_uri": "https://localhost:8080/"
        },
        "id": "sQIAGG817cVG",
        "outputId": "01a29610-6ad2-4425-eb92-a8e7e69a8203"
      },
      "execution_count": 47,
      "outputs": [
        {
          "output_type": "stream",
          "name": "stdout",
          "text": [
            "0.9370629370629371\n"
          ]
        }
      ]
    },
    {
      "cell_type": "code",
      "source": [
        "bagging = BaggingClassifier(KNeighborsClassifier(), bootstrap=False)\n",
        "bagging.fit(X_train, y_train)\n",
        "\n",
        "print(bagging.score(X_test, y_test))"
      ],
      "metadata": {
        "colab": {
          "base_uri": "https://localhost:8080/"
        },
        "id": "pNRnOLls7fpA",
        "outputId": "f58ad87d-8120-4a00-9627-e27d1d3ca8f1"
      },
      "execution_count": 6,
      "outputs": [
        {
          "output_type": "stream",
          "name": "stdout",
          "text": [
            "0.916083916083916\n"
          ]
        }
      ]
    },
    {
      "cell_type": "code",
      "source": [
        "bagging = BaggingClassifier(KNeighborsClassifier(), bootstrap=True, bootstrap_features=True)\n",
        "bagging.fit(X_train, y_train)\n",
        "\n",
        "print(bagging.score(X_test, y_test))"
      ],
      "metadata": {
        "colab": {
          "base_uri": "https://localhost:8080/"
        },
        "id": "t6G7ZMre8XG7",
        "outputId": "ad95f383-1ed6-4ff9-de1d-e8668cbf3320"
      },
      "execution_count": 8,
      "outputs": [
        {
          "output_type": "stream",
          "name": "stdout",
          "text": [
            "0.9300699300699301\n"
          ]
        }
      ]
    },
    {
      "cell_type": "code",
      "source": [
        "from sklearn.ensemble import ExtraTreesClassifier"
      ],
      "metadata": {
        "id": "b0Rpsyd18eoM"
      },
      "execution_count": 12,
      "outputs": []
    },
    {
      "cell_type": "code",
      "source": [
        "et_c = ExtraTreesClassifier(n_estimators = 50, max_depth=5, max_leaf_nodes=10, n_jobs=-1)\n",
        "et_c.fit(X_train, y_train)\n",
        "print(et_c.score(X_test, y_test))"
      ],
      "metadata": {
        "colab": {
          "base_uri": "https://localhost:8080/"
        },
        "id": "-AM0oCvqIXkk",
        "outputId": "53bf1542-e563-4961-9531-3593f9e50093"
      },
      "execution_count": 17,
      "outputs": [
        {
          "output_type": "stream",
          "name": "stdout",
          "text": [
            "0.9300699300699301\n"
          ]
        }
      ]
    },
    {
      "cell_type": "markdown",
      "source": [
        "### 2) boosting"
      ],
      "metadata": {
        "id": "osDbxA-cT1hs"
      }
    },
    {
      "cell_type": "code",
      "source": [
        "from sklearn.ensemble import AdaBoostClassifier"
      ],
      "metadata": {
        "id": "ToyPKcad1FW3"
      },
      "execution_count": 41,
      "outputs": []
    },
    {
      "cell_type": "code",
      "source": [
        "ab_c = AdaBoostClassifier(DecisionTreeClassifier(), n_estimators=100, learning_rate=0.8) # If None, base estimator is DT\n",
        "ab_c.fit(X_train, y_train)\n",
        "\n",
        "print(ab_c.score(X_train, y_train))\n",
        "print(ab_c.score(X_test, y_test))"
      ],
      "metadata": {
        "colab": {
          "base_uri": "https://localhost:8080/"
        },
        "id": "1IHpSeWC37um",
        "outputId": "2c53a5c1-e167-4764-8aa3-5ab37c0b3213"
      },
      "execution_count": 44,
      "outputs": [
        {
          "output_type": "stream",
          "name": "stdout",
          "text": [
            "1.0\n",
            "0.8811188811188811\n"
          ]
        }
      ]
    },
    {
      "cell_type": "code",
      "source": [
        "import warnings\n",
        "warnings.filterwarnings(\"ignore\")"
      ],
      "metadata": {
        "id": "EYF-kfRqABQu"
      },
      "execution_count": 59,
      "outputs": []
    },
    {
      "cell_type": "code",
      "source": [
        "from sklearn.linear_model import LogisticRegression"
      ],
      "metadata": {
        "id": "_OQjTwlj-n_i"
      },
      "execution_count": 55,
      "outputs": []
    },
    {
      "cell_type": "code",
      "source": [
        "ab_c = AdaBoostClassifier(LogisticRegression(), n_estimators=100, algorithm='SAMME') # If None, base estimator is DT\n",
        "ab_c.fit(X_train, y_train)\n",
        "\n",
        "print(ab_c.score(X_train, y_train))\n",
        "print(ab_c.score(X_test, y_test))"
      ],
      "metadata": {
        "colab": {
          "base_uri": "https://localhost:8080/"
        },
        "id": "5fMsfBh59hEr",
        "outputId": "1ad04553-cf52-4356-c54a-42ea36c4339d"
      },
      "execution_count": 60,
      "outputs": [
        {
          "output_type": "stream",
          "name": "stdout",
          "text": [
            "0.92018779342723\n",
            "0.951048951048951\n"
          ]
        }
      ]
    },
    {
      "cell_type": "code",
      "source": [
        "from sklearn.ensemble import GradientBoostingClassifier\n",
        "\n",
        "gb_c = GradientBoostingClassifier(n_estimators=100, learning_rate=0.8).fit(X_train, y_train)\n",
        "print(gb_c.score(X_test, y_test))"
      ],
      "metadata": {
        "colab": {
          "base_uri": "https://localhost:8080/"
        },
        "id": "VAusvriLVDu7",
        "outputId": "be628858-bdf9-42ec-d46e-8056d40fc156"
      },
      "execution_count": 24,
      "outputs": [
        {
          "output_type": "stream",
          "name": "stdout",
          "text": [
            "0.965034965034965\n"
          ]
        }
      ]
    },
    {
      "cell_type": "code",
      "source": [
        "from sklearn.datasets import make_friedman1\n",
        "from sklearn.ensemble import GradientBoostingRegressor"
      ],
      "metadata": {
        "id": "DwUETRvBzI7g"
      },
      "execution_count": 25,
      "outputs": []
    },
    {
      "cell_type": "code",
      "source": [
        "X, y = make_friedman1(n_samples=1200)"
      ],
      "metadata": {
        "id": "1DMu04ucz0HG"
      },
      "execution_count": 34,
      "outputs": []
    },
    {
      "cell_type": "code",
      "source": [
        "X.shape"
      ],
      "metadata": {
        "colab": {
          "base_uri": "https://localhost:8080/"
        },
        "id": "7pUjI2Ne0qmY",
        "outputId": "b5937140-96fb-42a0-ba15-f54f81a993c8"
      },
      "execution_count": 35,
      "outputs": [
        {
          "output_type": "execute_result",
          "data": {
            "text/plain": [
              "(1200, 10)"
            ]
          },
          "metadata": {},
          "execution_count": 35
        }
      ]
    },
    {
      "cell_type": "code",
      "source": [
        "X_train, X_test, y_train, y_test = train_test_split(X, y, train_size=200)"
      ],
      "metadata": {
        "id": "uKICDbbEz7pv"
      },
      "execution_count": 37,
      "outputs": []
    },
    {
      "cell_type": "code",
      "source": [
        "gd_r = GradientBoostingRegressor(loss='squared_error', n_estimators=100, learning_rate=0.1)"
      ],
      "metadata": {
        "id": "RFnvdD_bz_yp"
      },
      "execution_count": 38,
      "outputs": []
    },
    {
      "cell_type": "code",
      "source": [
        "gd_r.fit(X_train, y_train)\n",
        "print(gd_r.score(X_test, y_test))"
      ],
      "metadata": {
        "colab": {
          "base_uri": "https://localhost:8080/"
        },
        "id": "VayeIpco3F90",
        "outputId": "269dabe8-f7a8-46a8-b08d-5db932e7ad11"
      },
      "execution_count": 39,
      "outputs": [
        {
          "output_type": "stream",
          "name": "stdout",
          "text": [
            "0.8830212320053763\n"
          ]
        }
      ]
    },
    {
      "cell_type": "code",
      "source": [
        "import xgboost"
      ],
      "metadata": {
        "id": "5ZLUp1xE3KrX"
      },
      "execution_count": 62,
      "outputs": []
    },
    {
      "cell_type": "code",
      "source": [
        "xgb_c = xgboost.XGBClassifier()\n",
        "cancer = load_breast_cancer()\n",
        "X_train, X_test, y_train, y_test = train_test_split(cancer.data, cancer.target)\n",
        "xgb_c.fit(X_train, y_train)\n",
        "print(xgb_c.score(X_test, y_test))"
      ],
      "metadata": {
        "colab": {
          "base_uri": "https://localhost:8080/"
        },
        "id": "TvQoihqVE5BB",
        "outputId": "03d3d9a4-f21f-41cc-bd09-303410a9aa4f"
      },
      "execution_count": 63,
      "outputs": [
        {
          "output_type": "stream",
          "name": "stdout",
          "text": [
            "0.958041958041958\n"
          ]
        }
      ]
    },
    {
      "cell_type": "code",
      "source": [
        "import lightgbm"
      ],
      "metadata": {
        "id": "xdA7jGuNFWbN"
      },
      "execution_count": 64,
      "outputs": []
    },
    {
      "cell_type": "code",
      "source": [
        "lgbm_c = lightgbm.LGBMClassifier()\n",
        "lgbm_c.fit(X_train, y_train)\n",
        "print(lgbm_c.score(X_test, y_test))"
      ],
      "metadata": {
        "colab": {
          "base_uri": "https://localhost:8080/"
        },
        "id": "GGzbYA5KH2_g",
        "outputId": "f5574a88-7cd8-4ee7-f8b7-c6e2f31d69b4"
      },
      "execution_count": 66,
      "outputs": [
        {
          "output_type": "stream",
          "name": "stdout",
          "text": [
            "0.972027972027972\n"
          ]
        }
      ]
    }
  ]
}
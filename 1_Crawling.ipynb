{
  "nbformat": 4,
  "nbformat_minor": 0,
  "metadata": {
    "colab": {
      "name": "1_Crawling.ipynb",
      "provenance": [],
      "collapsed_sections": [],
      "mount_file_id": "1KryG4bvw8qoJtLmE8JP9jEO6cxGEuWiR",
      "authorship_tag": "ABX9TyNJvgNXTwi+ExNoMY9o1++3"
    },
    "kernelspec": {
      "name": "python3",
      "display_name": "Python 3"
    },
    "language_info": {
      "name": "python"
    },
    "widgets": {
      "application/vnd.jupyter.widget-state+json": {
        "90af8ac437c9492aa987cc399dfc8b5c": {
          "model_module": "@jupyter-widgets/controls",
          "model_name": "HBoxModel",
          "model_module_version": "1.5.0",
          "state": {
            "_dom_classes": [],
            "_model_module": "@jupyter-widgets/controls",
            "_model_module_version": "1.5.0",
            "_model_name": "HBoxModel",
            "_view_count": null,
            "_view_module": "@jupyter-widgets/controls",
            "_view_module_version": "1.5.0",
            "_view_name": "HBoxView",
            "box_style": "",
            "children": [
              "IPY_MODEL_fb0c477fd6414ddbbf1bfcb04f4796b8",
              "IPY_MODEL_7bfe6d62db344801b236ebdcd9df256b",
              "IPY_MODEL_62cb481ff8744fd59d91c2b1a560b5a1"
            ],
            "layout": "IPY_MODEL_f77402d7602a43d59eea60f6af3af91c"
          }
        },
        "fb0c477fd6414ddbbf1bfcb04f4796b8": {
          "model_module": "@jupyter-widgets/controls",
          "model_name": "HTMLModel",
          "model_module_version": "1.5.0",
          "state": {
            "_dom_classes": [],
            "_model_module": "@jupyter-widgets/controls",
            "_model_module_version": "1.5.0",
            "_model_name": "HTMLModel",
            "_view_count": null,
            "_view_module": "@jupyter-widgets/controls",
            "_view_module_version": "1.5.0",
            "_view_name": "HTMLView",
            "description": "",
            "description_tooltip": null,
            "layout": "IPY_MODEL_000d450d63d24f97a7963798532e1f3e",
            "placeholder": "​",
            "style": "IPY_MODEL_1a22d9dc8ce1495084e6cf4fe803b884",
            "value": "100%"
          }
        },
        "7bfe6d62db344801b236ebdcd9df256b": {
          "model_module": "@jupyter-widgets/controls",
          "model_name": "FloatProgressModel",
          "model_module_version": "1.5.0",
          "state": {
            "_dom_classes": [],
            "_model_module": "@jupyter-widgets/controls",
            "_model_module_version": "1.5.0",
            "_model_name": "FloatProgressModel",
            "_view_count": null,
            "_view_module": "@jupyter-widgets/controls",
            "_view_module_version": "1.5.0",
            "_view_name": "ProgressView",
            "bar_style": "success",
            "description": "",
            "description_tooltip": null,
            "layout": "IPY_MODEL_03efa3c7defd42adac8e4031ff0e15f7",
            "max": 14,
            "min": 0,
            "orientation": "horizontal",
            "style": "IPY_MODEL_ef7bef6a002b42bd912e3ad2de81f3b0",
            "value": 14
          }
        },
        "62cb481ff8744fd59d91c2b1a560b5a1": {
          "model_module": "@jupyter-widgets/controls",
          "model_name": "HTMLModel",
          "model_module_version": "1.5.0",
          "state": {
            "_dom_classes": [],
            "_model_module": "@jupyter-widgets/controls",
            "_model_module_version": "1.5.0",
            "_model_name": "HTMLModel",
            "_view_count": null,
            "_view_module": "@jupyter-widgets/controls",
            "_view_module_version": "1.5.0",
            "_view_name": "HTMLView",
            "description": "",
            "description_tooltip": null,
            "layout": "IPY_MODEL_07dbf11b9a9749dda8c6cc175a936d73",
            "placeholder": "​",
            "style": "IPY_MODEL_c3bfe761157c4cd990aa006bd5038b9d",
            "value": " 14/14 [03:38&lt;00:00, 15.38s/it]"
          }
        },
        "f77402d7602a43d59eea60f6af3af91c": {
          "model_module": "@jupyter-widgets/base",
          "model_name": "LayoutModel",
          "model_module_version": "1.2.0",
          "state": {
            "_model_module": "@jupyter-widgets/base",
            "_model_module_version": "1.2.0",
            "_model_name": "LayoutModel",
            "_view_count": null,
            "_view_module": "@jupyter-widgets/base",
            "_view_module_version": "1.2.0",
            "_view_name": "LayoutView",
            "align_content": null,
            "align_items": null,
            "align_self": null,
            "border": null,
            "bottom": null,
            "display": null,
            "flex": null,
            "flex_flow": null,
            "grid_area": null,
            "grid_auto_columns": null,
            "grid_auto_flow": null,
            "grid_auto_rows": null,
            "grid_column": null,
            "grid_gap": null,
            "grid_row": null,
            "grid_template_areas": null,
            "grid_template_columns": null,
            "grid_template_rows": null,
            "height": null,
            "justify_content": null,
            "justify_items": null,
            "left": null,
            "margin": null,
            "max_height": null,
            "max_width": null,
            "min_height": null,
            "min_width": null,
            "object_fit": null,
            "object_position": null,
            "order": null,
            "overflow": null,
            "overflow_x": null,
            "overflow_y": null,
            "padding": null,
            "right": null,
            "top": null,
            "visibility": null,
            "width": null
          }
        },
        "000d450d63d24f97a7963798532e1f3e": {
          "model_module": "@jupyter-widgets/base",
          "model_name": "LayoutModel",
          "model_module_version": "1.2.0",
          "state": {
            "_model_module": "@jupyter-widgets/base",
            "_model_module_version": "1.2.0",
            "_model_name": "LayoutModel",
            "_view_count": null,
            "_view_module": "@jupyter-widgets/base",
            "_view_module_version": "1.2.0",
            "_view_name": "LayoutView",
            "align_content": null,
            "align_items": null,
            "align_self": null,
            "border": null,
            "bottom": null,
            "display": null,
            "flex": null,
            "flex_flow": null,
            "grid_area": null,
            "grid_auto_columns": null,
            "grid_auto_flow": null,
            "grid_auto_rows": null,
            "grid_column": null,
            "grid_gap": null,
            "grid_row": null,
            "grid_template_areas": null,
            "grid_template_columns": null,
            "grid_template_rows": null,
            "height": null,
            "justify_content": null,
            "justify_items": null,
            "left": null,
            "margin": null,
            "max_height": null,
            "max_width": null,
            "min_height": null,
            "min_width": null,
            "object_fit": null,
            "object_position": null,
            "order": null,
            "overflow": null,
            "overflow_x": null,
            "overflow_y": null,
            "padding": null,
            "right": null,
            "top": null,
            "visibility": null,
            "width": null
          }
        },
        "1a22d9dc8ce1495084e6cf4fe803b884": {
          "model_module": "@jupyter-widgets/controls",
          "model_name": "DescriptionStyleModel",
          "model_module_version": "1.5.0",
          "state": {
            "_model_module": "@jupyter-widgets/controls",
            "_model_module_version": "1.5.0",
            "_model_name": "DescriptionStyleModel",
            "_view_count": null,
            "_view_module": "@jupyter-widgets/base",
            "_view_module_version": "1.2.0",
            "_view_name": "StyleView",
            "description_width": ""
          }
        },
        "03efa3c7defd42adac8e4031ff0e15f7": {
          "model_module": "@jupyter-widgets/base",
          "model_name": "LayoutModel",
          "model_module_version": "1.2.0",
          "state": {
            "_model_module": "@jupyter-widgets/base",
            "_model_module_version": "1.2.0",
            "_model_name": "LayoutModel",
            "_view_count": null,
            "_view_module": "@jupyter-widgets/base",
            "_view_module_version": "1.2.0",
            "_view_name": "LayoutView",
            "align_content": null,
            "align_items": null,
            "align_self": null,
            "border": null,
            "bottom": null,
            "display": null,
            "flex": null,
            "flex_flow": null,
            "grid_area": null,
            "grid_auto_columns": null,
            "grid_auto_flow": null,
            "grid_auto_rows": null,
            "grid_column": null,
            "grid_gap": null,
            "grid_row": null,
            "grid_template_areas": null,
            "grid_template_columns": null,
            "grid_template_rows": null,
            "height": null,
            "justify_content": null,
            "justify_items": null,
            "left": null,
            "margin": null,
            "max_height": null,
            "max_width": null,
            "min_height": null,
            "min_width": null,
            "object_fit": null,
            "object_position": null,
            "order": null,
            "overflow": null,
            "overflow_x": null,
            "overflow_y": null,
            "padding": null,
            "right": null,
            "top": null,
            "visibility": null,
            "width": null
          }
        },
        "ef7bef6a002b42bd912e3ad2de81f3b0": {
          "model_module": "@jupyter-widgets/controls",
          "model_name": "ProgressStyleModel",
          "model_module_version": "1.5.0",
          "state": {
            "_model_module": "@jupyter-widgets/controls",
            "_model_module_version": "1.5.0",
            "_model_name": "ProgressStyleModel",
            "_view_count": null,
            "_view_module": "@jupyter-widgets/base",
            "_view_module_version": "1.2.0",
            "_view_name": "StyleView",
            "bar_color": null,
            "description_width": ""
          }
        },
        "07dbf11b9a9749dda8c6cc175a936d73": {
          "model_module": "@jupyter-widgets/base",
          "model_name": "LayoutModel",
          "model_module_version": "1.2.0",
          "state": {
            "_model_module": "@jupyter-widgets/base",
            "_model_module_version": "1.2.0",
            "_model_name": "LayoutModel",
            "_view_count": null,
            "_view_module": "@jupyter-widgets/base",
            "_view_module_version": "1.2.0",
            "_view_name": "LayoutView",
            "align_content": null,
            "align_items": null,
            "align_self": null,
            "border": null,
            "bottom": null,
            "display": null,
            "flex": null,
            "flex_flow": null,
            "grid_area": null,
            "grid_auto_columns": null,
            "grid_auto_flow": null,
            "grid_auto_rows": null,
            "grid_column": null,
            "grid_gap": null,
            "grid_row": null,
            "grid_template_areas": null,
            "grid_template_columns": null,
            "grid_template_rows": null,
            "height": null,
            "justify_content": null,
            "justify_items": null,
            "left": null,
            "margin": null,
            "max_height": null,
            "max_width": null,
            "min_height": null,
            "min_width": null,
            "object_fit": null,
            "object_position": null,
            "order": null,
            "overflow": null,
            "overflow_x": null,
            "overflow_y": null,
            "padding": null,
            "right": null,
            "top": null,
            "visibility": null,
            "width": null
          }
        },
        "c3bfe761157c4cd990aa006bd5038b9d": {
          "model_module": "@jupyter-widgets/controls",
          "model_name": "DescriptionStyleModel",
          "model_module_version": "1.5.0",
          "state": {
            "_model_module": "@jupyter-widgets/controls",
            "_model_module_version": "1.5.0",
            "_model_name": "DescriptionStyleModel",
            "_view_count": null,
            "_view_module": "@jupyter-widgets/base",
            "_view_module_version": "1.2.0",
            "_view_name": "StyleView",
            "description_width": ""
          }
        }
      }
    }
  },
  "cells": [
    {
      "cell_type": "code",
      "execution_count": null,
      "metadata": {
        "id": "0TKMZ8rhASpC"
      },
      "outputs": [],
      "source": [
        "import numpy as np\n",
        "import pandas as pd\n",
        "import matplotlib.pyplot as plt\n",
        "import warnings\n",
        "import re\n",
        "warnings.filterwarnings('ignore')\n",
        "from tqdm.auto import tqdm\n",
        "\n",
        "import requests\n",
        "from bs4 import BeautifulSoup as bs"
      ]
    },
    {
      "cell_type": "code",
      "source": [
        "headers = {\n",
        "    \"User-Agent\": \"Mozilla/5.0 (Windows NT 10.0; Win64; x64) AppleWebKit/537.36 (KHTML, like Gecko) Chrome/74.0.3729.169 Safari/537.36\"\n",
        "}"
      ],
      "metadata": {
        "id": "vX-iSCeNKuWc"
      },
      "execution_count": null,
      "outputs": []
    },
    {
      "cell_type": "code",
      "source": [
        "# Get album list\n",
        "\n",
        "artist_id = \"261143\"\n",
        "url = \"https://www.melon.com/artist/album.htm?artistId=261143#params%5BlistType%5D=0&params%5BorderBy%5D=ISSUE_DATE&params%5BartistId%5D=261143&po=pageObj&startIndex=\"\n",
        "album_list = []\n",
        "\n",
        "for index in range(0,4):\n",
        "  params = {'startIndex': str(index * 15 + 1)}\n",
        "  res = requests.get(url, params=params, headers=headers)\n",
        "\n",
        "  res = requests.get(url+str(index*15+1), headers=headers)\n",
        "  soup = bs(res.text, 'html.parser')\n",
        "  albums = soup.find_all('div', {'class':'wrap_album04'})\n",
        "\n",
        "  for album in albums:\n",
        "    if (album.find('span', {'class':'vdo_name'}).text.strip('[]') in ['EP', '정규'] and (album.find('a', {'class':'play_artist'}).span.text == '아이유')):\n",
        "      album_list.extend(re.findall(r'[0-9]{6,8}', album.find('a').attrs['href']))\n",
        "      "
      ],
      "metadata": {
        "id": "6HOCo2XRA1zz"
      },
      "execution_count": null,
      "outputs": []
    },
    {
      "cell_type": "code",
      "source": [
        "album_list = ['10827816', '10554246', '10346650', '10096855', '10056666', '2646282', '2256290', \n",
        "              '2222587', '2208448', '2040666', '1093562', '718505', '546853', '398025']"
      ],
      "metadata": {
        "id": "LVKfmkrq6Cws"
      },
      "execution_count": null,
      "outputs": []
    },
    {
      "cell_type": "code",
      "source": [
        "album_df = pd.DataFrame(columns = ['album_id', 'title', 'year'])\n",
        "album_df['album_id'] = album_list"
      ],
      "metadata": {
        "id": "vmGxS7QLCOiV"
      },
      "execution_count": null,
      "outputs": []
    },
    {
      "cell_type": "code",
      "source": [
        "# Get song, lyrics, metadata\n",
        "\n",
        "def get_songs(album_df):\n",
        "  album_id_list = []\n",
        "  song_id_list = []\n",
        "  song_title_list = []\n",
        "  lyrics_list = []\n",
        "  genre_list = []\n",
        "\n",
        "  for album_id in tqdm(album_df['album_id']):\n",
        "    album_url = \"https://www.melon.com/album/detail.htm?albumId=\" + album_id\n",
        "\n",
        "    res = requests.get(album_url, headers=headers)\n",
        "    soup = bs(res.text, 'html.parser')\n",
        "\n",
        "    # Get album\n",
        "    title = soup.select_one('div.song_name').text\n",
        "    title = re.sub(r\"[\\r\\n\\t앨범명]\", \"\", title)\n",
        "    year = soup.select_one('div.meta').select('dd')[0].text[0:4]\n",
        "\n",
        "    album_df.loc[album_df['album_id']==album_id] = [album_id, title, year]\n",
        "\n",
        "\n",
        "    # Get songs\n",
        "    songs = []\n",
        "    for song in soup.find_all('a', attrs={'class': 'btn button_icons type03 song_info'}):\n",
        "      songs.append(song.attrs['href'])\n",
        "\n",
        "    for song in songs:\n",
        "      song_id = re.findall(r'[0-9]{7,9}', song)[0]\n",
        "      song_url = \"https://www.melon.com/song/detail.htm?songId=\" + str(song_id)\n",
        "      song_res = requests.get(song_url, headers=headers)\n",
        "      song_soup = bs(song_res.text, 'html.parser')\n",
        "\n",
        "      title = song_soup.find('div', {'class':'song_name'}).text\n",
        "      title = re.sub(r\"[\\n\\t\\r곡명]\", \"\", title)\n",
        "      genre = song_soup.find('div', {'class':'meta'}).find_all('dd')[2].text\n",
        "      lyrics = song_soup.find('div', {'id':'d_video_summary'})\n",
        "      lyrics = re.sub(r'<[^>]*>', \" \", str(lyrics)).strip()\n",
        "\n",
        "      album_id_list.append(album_id)\n",
        "      song_id_list.append(song_id)\n",
        "      song_title_list.append(title)\n",
        "      lyrics_list.append(lyrics)\n",
        "      genre_list.append(genre)\n",
        "\n",
        "  try :\n",
        "    song_df = pd.DataFrame({'album_id' : album_id_list, \n",
        "                        'song_id' : song_id_list, \n",
        "                        'song_title' : song_title_list, \n",
        "                        'lyrics': lyrics_list, \n",
        "                        'genre':genre_list})\n",
        "  except :\n",
        "    return album_id_list, song_id_list, song_title_list, lyrics_list, genre_list\n",
        "      \n",
        "  return song_df\n"
      ],
      "metadata": {
        "id": "GFM5Pxgilic1"
      },
      "execution_count": null,
      "outputs": []
    },
    {
      "cell_type": "code",
      "source": [
        "song_df = get_songs(album_df)"
      ],
      "metadata": {
        "colab": {
          "base_uri": "https://localhost:8080/",
          "height": 49,
          "referenced_widgets": [
            "90af8ac437c9492aa987cc399dfc8b5c",
            "fb0c477fd6414ddbbf1bfcb04f4796b8",
            "7bfe6d62db344801b236ebdcd9df256b",
            "62cb481ff8744fd59d91c2b1a560b5a1",
            "f77402d7602a43d59eea60f6af3af91c",
            "000d450d63d24f97a7963798532e1f3e",
            "1a22d9dc8ce1495084e6cf4fe803b884",
            "03efa3c7defd42adac8e4031ff0e15f7",
            "ef7bef6a002b42bd912e3ad2de81f3b0",
            "07dbf11b9a9749dda8c6cc175a936d73",
            "c3bfe761157c4cd990aa006bd5038b9d"
          ]
        },
        "id": "J43k0KaimCzW",
        "outputId": "d4ddef35-81c9-4eae-c0d6-6103e40ebc3c"
      },
      "execution_count": null,
      "outputs": [
        {
          "output_type": "display_data",
          "data": {
            "text/plain": [
              "  0%|          | 0/14 [00:00<?, ?it/s]"
            ],
            "application/vnd.jupyter.widget-view+json": {
              "version_major": 2,
              "version_minor": 0,
              "model_id": "90af8ac437c9492aa987cc399dfc8b5c"
            }
          },
          "metadata": {}
        }
      ]
    },
    {
      "cell_type": "code",
      "source": [
        "song_df"
      ],
      "metadata": {
        "colab": {
          "base_uri": "https://localhost:8080/",
          "height": 423
        },
        "id": "xDvO8X1ZsaFd",
        "outputId": "f7999915-a3ae-4a2e-f7ea-5ff6df4bd281"
      },
      "execution_count": null,
      "outputs": [
        {
          "output_type": "execute_result",
          "data": {
            "text/plain": [
              "     album_id   song_id       song_title  \\\n",
              "0    10827816  34481680              드라마   \n",
              "1    10827816  34481681              정거장   \n",
              "2    10827816  34481682              겨울잠   \n",
              "3    10827816  34481683                너   \n",
              "4    10827816  34481684             러브레터   \n",
              "..        ...       ...              ...   \n",
              "123    398025   1929324               미아   \n",
              "124    398025   1929325  있잖아 (Feat. 마리오)   \n",
              "125    398025   1929326     Feel So Good   \n",
              "126    398025   1929327  Every Sweet Day   \n",
              "127    398025   1929328       미아 (Inst.)   \n",
              "\n",
              "                                                lyrics   genre  \n",
              "0    나도 한때는 그이의 손을 잡고 내가 온 세상 주인공이 된 듯 꽃송이의 꽃잎 하나하나...     발라드  \n",
              "1    다음 정거장에서 만나게 될까 그리워했던 얼굴을 다음 파란불에는 만나게 될까 그리곤 ...  포크/블루스  \n",
              "2    때 이른 봄 몇 송이 꺾어다 너의 방 문 앞에 두었어 긴 잠 실컷 자고 나오면 그때...     발라드  \n",
              "3    아득히 떨어진 곳에서 아무 관계없는 것들을 보며 조금 쓸쓸한 기분으로 나는 너를 보...  포크/블루스  \n",
              "4    골목길 머뭇하던 첫 안녕을 기억하오 그날의 끄덕임을 난 잊을 수 없다오  길가에 내...     발라드  \n",
              "..                                                 ...     ...  \n",
              "123  우리 둘 담아 준 사진을 태워 하나 둘 모아 둔 기억을 지워 그만 일어나 가야 하는...     발라드  \n",
              "124  Ye this song is my love story 첫 눈에 반한다는 말 절대로 ...      댄스  \n",
              "125  아침에 눈을 뜨면 다가오는 햇살 햇살에 눈 비비고 일어나고 일어나 남은 잠을 깨워보...     발라드  \n",
              "126  Hey boy what you gonna do for me honey  내 방안에 ...     발라드  \n",
              "127  우리 둘 담아 준 사진을 태워 하나 둘 모아 둔 기억을 지워 그만 일어나 가야 하는...     발라드  \n",
              "\n",
              "[128 rows x 5 columns]"
            ],
            "text/html": [
              "\n",
              "  <div id=\"df-7e84a05c-f936-41db-aeda-f6dcec91fc57\">\n",
              "    <div class=\"colab-df-container\">\n",
              "      <div>\n",
              "<style scoped>\n",
              "    .dataframe tbody tr th:only-of-type {\n",
              "        vertical-align: middle;\n",
              "    }\n",
              "\n",
              "    .dataframe tbody tr th {\n",
              "        vertical-align: top;\n",
              "    }\n",
              "\n",
              "    .dataframe thead th {\n",
              "        text-align: right;\n",
              "    }\n",
              "</style>\n",
              "<table border=\"1\" class=\"dataframe\">\n",
              "  <thead>\n",
              "    <tr style=\"text-align: right;\">\n",
              "      <th></th>\n",
              "      <th>album_id</th>\n",
              "      <th>song_id</th>\n",
              "      <th>song_title</th>\n",
              "      <th>lyrics</th>\n",
              "      <th>genre</th>\n",
              "    </tr>\n",
              "  </thead>\n",
              "  <tbody>\n",
              "    <tr>\n",
              "      <th>0</th>\n",
              "      <td>10827816</td>\n",
              "      <td>34481680</td>\n",
              "      <td>드라마</td>\n",
              "      <td>나도 한때는 그이의 손을 잡고 내가 온 세상 주인공이 된 듯 꽃송이의 꽃잎 하나하나...</td>\n",
              "      <td>발라드</td>\n",
              "    </tr>\n",
              "    <tr>\n",
              "      <th>1</th>\n",
              "      <td>10827816</td>\n",
              "      <td>34481681</td>\n",
              "      <td>정거장</td>\n",
              "      <td>다음 정거장에서 만나게 될까 그리워했던 얼굴을 다음 파란불에는 만나게 될까 그리곤 ...</td>\n",
              "      <td>포크/블루스</td>\n",
              "    </tr>\n",
              "    <tr>\n",
              "      <th>2</th>\n",
              "      <td>10827816</td>\n",
              "      <td>34481682</td>\n",
              "      <td>겨울잠</td>\n",
              "      <td>때 이른 봄 몇 송이 꺾어다 너의 방 문 앞에 두었어 긴 잠 실컷 자고 나오면 그때...</td>\n",
              "      <td>발라드</td>\n",
              "    </tr>\n",
              "    <tr>\n",
              "      <th>3</th>\n",
              "      <td>10827816</td>\n",
              "      <td>34481683</td>\n",
              "      <td>너</td>\n",
              "      <td>아득히 떨어진 곳에서 아무 관계없는 것들을 보며 조금 쓸쓸한 기분으로 나는 너를 보...</td>\n",
              "      <td>포크/블루스</td>\n",
              "    </tr>\n",
              "    <tr>\n",
              "      <th>4</th>\n",
              "      <td>10827816</td>\n",
              "      <td>34481684</td>\n",
              "      <td>러브레터</td>\n",
              "      <td>골목길 머뭇하던 첫 안녕을 기억하오 그날의 끄덕임을 난 잊을 수 없다오  길가에 내...</td>\n",
              "      <td>발라드</td>\n",
              "    </tr>\n",
              "    <tr>\n",
              "      <th>...</th>\n",
              "      <td>...</td>\n",
              "      <td>...</td>\n",
              "      <td>...</td>\n",
              "      <td>...</td>\n",
              "      <td>...</td>\n",
              "    </tr>\n",
              "    <tr>\n",
              "      <th>123</th>\n",
              "      <td>398025</td>\n",
              "      <td>1929324</td>\n",
              "      <td>미아</td>\n",
              "      <td>우리 둘 담아 준 사진을 태워 하나 둘 모아 둔 기억을 지워 그만 일어나 가야 하는...</td>\n",
              "      <td>발라드</td>\n",
              "    </tr>\n",
              "    <tr>\n",
              "      <th>124</th>\n",
              "      <td>398025</td>\n",
              "      <td>1929325</td>\n",
              "      <td>있잖아 (Feat. 마리오)</td>\n",
              "      <td>Ye this song is my love story 첫 눈에 반한다는 말 절대로 ...</td>\n",
              "      <td>댄스</td>\n",
              "    </tr>\n",
              "    <tr>\n",
              "      <th>125</th>\n",
              "      <td>398025</td>\n",
              "      <td>1929326</td>\n",
              "      <td>Feel So Good</td>\n",
              "      <td>아침에 눈을 뜨면 다가오는 햇살 햇살에 눈 비비고 일어나고 일어나 남은 잠을 깨워보...</td>\n",
              "      <td>발라드</td>\n",
              "    </tr>\n",
              "    <tr>\n",
              "      <th>126</th>\n",
              "      <td>398025</td>\n",
              "      <td>1929327</td>\n",
              "      <td>Every Sweet Day</td>\n",
              "      <td>Hey boy what you gonna do for me honey  내 방안에 ...</td>\n",
              "      <td>발라드</td>\n",
              "    </tr>\n",
              "    <tr>\n",
              "      <th>127</th>\n",
              "      <td>398025</td>\n",
              "      <td>1929328</td>\n",
              "      <td>미아 (Inst.)</td>\n",
              "      <td>우리 둘 담아 준 사진을 태워 하나 둘 모아 둔 기억을 지워 그만 일어나 가야 하는...</td>\n",
              "      <td>발라드</td>\n",
              "    </tr>\n",
              "  </tbody>\n",
              "</table>\n",
              "<p>128 rows × 5 columns</p>\n",
              "</div>\n",
              "      <button class=\"colab-df-convert\" onclick=\"convertToInteractive('df-7e84a05c-f936-41db-aeda-f6dcec91fc57')\"\n",
              "              title=\"Convert this dataframe to an interactive table.\"\n",
              "              style=\"display:none;\">\n",
              "        \n",
              "  <svg xmlns=\"http://www.w3.org/2000/svg\" height=\"24px\"viewBox=\"0 0 24 24\"\n",
              "       width=\"24px\">\n",
              "    <path d=\"M0 0h24v24H0V0z\" fill=\"none\"/>\n",
              "    <path d=\"M18.56 5.44l.94 2.06.94-2.06 2.06-.94-2.06-.94-.94-2.06-.94 2.06-2.06.94zm-11 1L8.5 8.5l.94-2.06 2.06-.94-2.06-.94L8.5 2.5l-.94 2.06-2.06.94zm10 10l.94 2.06.94-2.06 2.06-.94-2.06-.94-.94-2.06-.94 2.06-2.06.94z\"/><path d=\"M17.41 7.96l-1.37-1.37c-.4-.4-.92-.59-1.43-.59-.52 0-1.04.2-1.43.59L10.3 9.45l-7.72 7.72c-.78.78-.78 2.05 0 2.83L4 21.41c.39.39.9.59 1.41.59.51 0 1.02-.2 1.41-.59l7.78-7.78 2.81-2.81c.8-.78.8-2.07 0-2.86zM5.41 20L4 18.59l7.72-7.72 1.47 1.35L5.41 20z\"/>\n",
              "  </svg>\n",
              "      </button>\n",
              "      \n",
              "  <style>\n",
              "    .colab-df-container {\n",
              "      display:flex;\n",
              "      flex-wrap:wrap;\n",
              "      gap: 12px;\n",
              "    }\n",
              "\n",
              "    .colab-df-convert {\n",
              "      background-color: #E8F0FE;\n",
              "      border: none;\n",
              "      border-radius: 50%;\n",
              "      cursor: pointer;\n",
              "      display: none;\n",
              "      fill: #1967D2;\n",
              "      height: 32px;\n",
              "      padding: 0 0 0 0;\n",
              "      width: 32px;\n",
              "    }\n",
              "\n",
              "    .colab-df-convert:hover {\n",
              "      background-color: #E2EBFA;\n",
              "      box-shadow: 0px 1px 2px rgba(60, 64, 67, 0.3), 0px 1px 3px 1px rgba(60, 64, 67, 0.15);\n",
              "      fill: #174EA6;\n",
              "    }\n",
              "\n",
              "    [theme=dark] .colab-df-convert {\n",
              "      background-color: #3B4455;\n",
              "      fill: #D2E3FC;\n",
              "    }\n",
              "\n",
              "    [theme=dark] .colab-df-convert:hover {\n",
              "      background-color: #434B5C;\n",
              "      box-shadow: 0px 1px 3px 1px rgba(0, 0, 0, 0.15);\n",
              "      filter: drop-shadow(0px 1px 2px rgba(0, 0, 0, 0.3));\n",
              "      fill: #FFFFFF;\n",
              "    }\n",
              "  </style>\n",
              "\n",
              "      <script>\n",
              "        const buttonEl =\n",
              "          document.querySelector('#df-7e84a05c-f936-41db-aeda-f6dcec91fc57 button.colab-df-convert');\n",
              "        buttonEl.style.display =\n",
              "          google.colab.kernel.accessAllowed ? 'block' : 'none';\n",
              "\n",
              "        async function convertToInteractive(key) {\n",
              "          const element = document.querySelector('#df-7e84a05c-f936-41db-aeda-f6dcec91fc57');\n",
              "          const dataTable =\n",
              "            await google.colab.kernel.invokeFunction('convertToInteractive',\n",
              "                                                     [key], {});\n",
              "          if (!dataTable) return;\n",
              "\n",
              "          const docLinkHtml = 'Like what you see? Visit the ' +\n",
              "            '<a target=\"_blank\" href=https://colab.research.google.com/notebooks/data_table.ipynb>data table notebook</a>'\n",
              "            + ' to learn more about interactive tables.';\n",
              "          element.innerHTML = '';\n",
              "          dataTable['output_type'] = 'display_data';\n",
              "          await google.colab.output.renderOutput(dataTable, element);\n",
              "          const docLink = document.createElement('div');\n",
              "          docLink.innerHTML = docLinkHtml;\n",
              "          element.appendChild(docLink);\n",
              "        }\n",
              "      </script>\n",
              "    </div>\n",
              "  </div>\n",
              "  "
            ]
          },
          "metadata": {},
          "execution_count": 214
        }
      ]
    },
    {
      "cell_type": "code",
      "source": [
        "song_df[song_df['song_title'].str.contains('Inst')]"
      ],
      "metadata": {
        "id": "IOLOpE2dUxLk"
      },
      "execution_count": null,
      "outputs": []
    },
    {
      "cell_type": "code",
      "source": [
        "song_df = song_df[song_df['song_title'].str.contains('Inst')==False]"
      ],
      "metadata": {
        "id": "gDQ6xkMDUyvD"
      },
      "execution_count": null,
      "outputs": []
    },
    {
      "cell_type": "code",
      "source": [
        "song_df['album_id'].nunique()"
      ],
      "metadata": {
        "colab": {
          "base_uri": "https://localhost:8080/"
        },
        "id": "qNWFSXvL34Dv",
        "outputId": "0af782a5-c0f7-4749-9977-fd7052d7156c"
      },
      "execution_count": null,
      "outputs": [
        {
          "output_type": "execute_result",
          "data": {
            "text/plain": [
              "14"
            ]
          },
          "metadata": {},
          "execution_count": 215
        }
      ]
    },
    {
      "cell_type": "code",
      "source": [
        "song_df['song_id'].nunique()"
      ],
      "metadata": {
        "colab": {
          "base_uri": "https://localhost:8080/"
        },
        "id": "IHvXbP9K3xj4",
        "outputId": "4e787314-648b-4f91-f650-f41e87acb67e"
      },
      "execution_count": null,
      "outputs": [
        {
          "output_type": "execute_result",
          "data": {
            "text/plain": [
              "128"
            ]
          },
          "metadata": {},
          "execution_count": 216
        }
      ]
    },
    {
      "cell_type": "code",
      "source": [
        "song_df.groupby(['genre']).song_id.count().plot.bar()"
      ],
      "metadata": {
        "colab": {
          "base_uri": "https://localhost:8080/",
          "height": 334
        },
        "id": "Hmlskm-cvQin",
        "outputId": "a034adc1-e3e2-4b81-aeb5-91fa6b920ffe"
      },
      "execution_count": null,
      "outputs": [
        {
          "output_type": "execute_result",
          "data": {
            "text/plain": [
              "<matplotlib.axes._subplots.AxesSubplot at 0x7f9a3825ab10>"
            ]
          },
          "metadata": {},
          "execution_count": 217
        },
        {
          "output_type": "display_data",
          "data": {
            "text/plain": [
              "<Figure size 432x288 with 1 Axes>"
            ],
            "image/png": "[encoded data removed]"
          },
          "metadata": {
            "needs_background": "light"
          }
        }
      ]
    },
    {
      "cell_type": "code",
      "source": [
        "path = '/content/drive/MyDrive/text_mining_project/data/'\n",
        "song_df.to_csv(path+'song.csv')\n",
        "album_df.to_csv(path+'album.csv')"
      ],
      "metadata": {
        "id": "sRSZQ91PndG5"
      },
      "execution_count": null,
      "outputs": []
    }
  ]
}
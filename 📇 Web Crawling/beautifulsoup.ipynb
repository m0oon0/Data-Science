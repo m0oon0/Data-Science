{
  "nbformat": 4,
  "nbformat_minor": 0,
  "metadata": {
    "colab": {
      "name": "Beautiful Soup.ipynb",
      "provenance": [],
      "collapsed_sections": [],
      "authorship_tag": "ABX9TyMRVlbfphK/rD8nJDxa859Y"
    },
    "kernelspec": {
      "name": "python3",
      "display_name": "Python 3"
    },
    "language_info": {
      "name": "python"
    }
  },
  "cells": [
    {
      "cell_type": "markdown",
      "source": [
        "## Beautiful Soup Library\n",
        "\n",
        "Parse HTML tags to extract elements from HTML document🙂"
      ],
      "metadata": {
        "id": "Jp7fazDLPVpP"
      }
    },
    {
      "cell_type": "code",
      "execution_count": null,
      "metadata": {
        "id": "lGaiQuTbJJv1",
        "colab": {
          "base_uri": "https://localhost:8080/"
        },
        "outputId": "20e81b65-adf6-48a7-a0d6-74c525fec83c"
      },
      "outputs": [
        {
          "output_type": "stream",
          "name": "stdout",
          "text": [
            "Requirement already satisfied: beautifulsoup4 in /usr/local/lib/python3.7/dist-packages (4.6.3)\n"
          ]
        }
      ],
      "source": [
        "! pip install beautifulsoup4"
      ]
    },
    {
      "cell_type": "code",
      "source": [
        "import requests\n",
        "from bs4 import BeautifulSoup as bs\n",
        "\n",
        "import warnings\n",
        "warnings.filterwarnings('ignore')\n",
        "import numpy as np\n",
        "import pandas as pd\n",
        "import matplotlib.pyplot as plt"
      ],
      "metadata": {
        "id": "Shu7R3DVPu7d"
      },
      "execution_count": null,
      "outputs": []
    },
    {
      "cell_type": "code",
      "source": [
        "url = \"https://google.com/search?\"\n",
        "params = {\n",
        "    'q':'tesla',\n",
        "    'tbm':'nws'\n",
        "}\n",
        "\n",
        "res = requests.get(url, params = params)\n",
        "\n",
        "# parse HTML\n",
        "soup = bs(res.text, \"html.parser\")"
      ],
      "metadata": {
        "id": "Hlf6uYg8P4s9"
      },
      "execution_count": null,
      "outputs": []
    },
    {
      "cell_type": "markdown",
      "source": [
        "### Beautiful Soup methods\n",
        "\n",
        "* indentation  \n",
        "prettify()\n",
        "\n",
        "* only text, except tags  \n",
        "get_text()\n"
      ],
      "metadata": {
        "id": "rVLPJPbqZnJ6"
      }
    },
    {
      "cell_type": "code",
      "source": [
        "# indentation\n",
        "print(soup.prettify())\n",
        "\n",
        "# only text, except tags\n",
        "soup.get_text()\n",
        "\n",
        "# 특정 tag\n",
        "soup.title.name\n",
        "soup.title.string"
      ],
      "metadata": {
        "id": "-_8FupkiQMa2"
      },
      "execution_count": null,
      "outputs": []
    },
    {
      "cell_type": "code",
      "source": [
        "## find & select\n",
        "\n",
        "# Get only the first one.\n",
        "soup.title\n",
        "soup.find('title')\n",
        "soup.select_one('title')\n",
        "\n",
        "# Get all\n",
        "soup.find_all('title')\n",
        "soup.select('title')\n",
        "\n",
        "# 태그 접근 difference \n",
        "soup.find('head').title\n",
        "soup.select_one(\"head > title\") # path 지정\n",
        "\n",
        "# 속성 ; additional filtering\n",
        "soup.find('div', attrs={'id':'phone'})\n",
        "soup.find('a', attrs={'id':'githublink'}).text\n",
        "\n",
        "# attrs is in dictionary form, so approach with dict form\n",
        "\n",
        "# # tag 접근 \n",
        "# find('tag0').tag1.tag2\n",
        "# find('tag0', attrs='class0')\n",
        "# # attribute 지정해서 접근\n",
        "# find('tag0', attrs={'id':'id0'})"
      ],
      "metadata": {
        "id": "TWi_vOeKQijo"
      },
      "execution_count": null,
      "outputs": []
    },
    {
      "cell_type": "code",
      "source": [
        "## Get link\n",
        "# a tag for hyperlink\n",
        "# href attribute for link \n",
        "\n",
        "# Getting only the links\n",
        "for a in soup.find_all('a'):\n",
        "  if 'href' in a.attrs :\n",
        "    print(a.attrs['href'])\n",
        "\n",
        "for a in soup.find_all('a'):\n",
        "  print(a.get('href'))\n",
        "\n",
        "soup.find_all('a', attrs={'href'}) # href 속성\n",
        "\n",
        "# Move within the page -> starts with #\n",
        "for a in soup.find_all('a'):\n",
        "    if 'href' in a.attrs :\n",
        "        if '#' not in a.attrs['href'] :\n",
        "            print(a.attrs['href'])\n"
      ],
      "metadata": {
        "id": "6f9U2kt3S08N"
      },
      "execution_count": null,
      "outputs": []
    },
    {
      "cell_type": "markdown",
      "source": [
        "### Scraping news"
      ],
      "metadata": {
        "id": "dBfyeaoygGtO"
      }
    },
    {
      "cell_type": "code",
      "source": [
        "url = 'https://find.mk.co.kr/new/search.php?pageNum=1&cat=&cat1=&media_eco=&pageSize=10&sub=all&dispFlag=OFF&page=news&s_kwd=%C5%D7%BD%BD%B6%F3&s_page=news&go_page=&ord=1&ord1=1&ord2=0&s_keyword=%C5%D7%BD%BD%B6%F3&period=p_month&s_i_keyword=%C5%D7%BD%BD%B6%F3&s_author=&y1=2022&m1=03&d1=27&y2=2022&m2=04&d2=27&ord=1&area=tt'\n",
        "\n",
        "tesla = requests.get(url)\n",
        "tesla.encoding = None\n",
        "soap = bs(tesla.text, 'html.parser')"
      ],
      "metadata": {
        "id": "iJYDKUmKgXLB"
      },
      "execution_count": null,
      "outputs": []
    },
    {
      "cell_type": "code",
      "source": [
        "news_titles = soap.find_all(attrs='sub_list')\n",
        "print(len(news_titles))"
      ],
      "metadata": {
        "colab": {
          "base_uri": "https://localhost:8080/"
        },
        "id": "x7rUUrx-hAZH",
        "outputId": "27667407-cc5c-44a6-9854-a04f415d74e0"
      },
      "execution_count": null,
      "outputs": [
        {
          "output_type": "stream",
          "name": "stdout",
          "text": [
            "20\n"
          ]
        }
      ]
    },
    {
      "cell_type": "code",
      "source": [
        "for news in news_titles :\n",
        "  print(news.find('a').text)\n",
        "  print(news.find('a').attrs['href'])\n",
        "  print(news.find(attrs='art_time').text, '\\n')"
      ],
      "metadata": {
        "colab": {
          "base_uri": "https://localhost:8080/"
        },
        "id": "y-FgIeaLhQ4R",
        "outputId": "77a3b452-9fb2-4c89-f4c2-6d19cd962b17"
      },
      "execution_count": null,
      "outputs": [
        {
          "output_type": "stream",
          "name": "stdout",
          "text": [
            "베이조스, 트위터 인수한 머스크에 \"中서 테슬라 복잡해질 것\"\n",
            "https://www.mk.co.kr/news/world/view/2022/04/370890/\n",
            " 연합뉴스 2022년 04월 26일  16:03:04  \n",
            "\n",
            "한국차가 설마했는데, 진짜 테슬라 잡겠네…`호평쇄도` 기아 EV, 2위 도약 [왜몰랐을카]\n",
            "https://www.mk.co.kr/news/business/view/2022/04/367862/\n",
            " 매일경제 2022년 04월 25일  20:19:10  \n",
            "\n",
            "테슬라 순이익 600% 상승에 `중국 배터리` 존재감 커진다\n",
            "https://www.mk.co.kr/news/business/view/2022/04/367513/\n",
            " 매일경제 2022년 04월 25일  17:33:48  \n",
            "\n",
            "기아 1분기 서유럽 시장 전기차 점유율, 테슬라에 이어 2위\n",
            "https://www.mk.co.kr/news/business/view/2022/04/367277/\n",
            " 연합뉴스 2022년 04월 25일  16:39:07  \n",
            "\n",
            "'춘추전국시대' 국내 수입전기차 시장…테슬라 쫓는 유럽 브랜드\n",
            "https://www.mk.co.kr/news/business/view/2022/04/364546/\n",
            " 연합뉴스 2022년 04월 25일  06:11:00  \n",
            "\n",
            "머스크, 빌 게이츠와 `설전`…\"테슬라 5억弗 공매도 왜 했나\"\n",
            "https://www.mk.co.kr/news/home/view/2022/04/364089/\n",
            " 매일경제 2022년 04월 24일  17:30:17  \n",
            "\n",
            "아이오닉5, 테슬라 모델Y 제쳐…독일 車전문지 전기SUV 평가\n",
            "https://www.mk.co.kr/news/business/view/2022/04/363314/\n",
            " 매일경제 2022년 04월 24일  13:23:00  \n",
            "\n",
            "\"테슬라에 공매도? 기부 안해\"…머스크와 게이츠 대화 유출\n",
            "https://www.mk.co.kr/news/world/view/2022/04/363024/\n",
            " 매일경제 2022년 04월 24일  10:23:59  \n",
            "\n",
            "아이오닉5·EV6, 독일 유력 車전문지 평가서 테슬라 모델Y 제쳐\n",
            "https://www.mk.co.kr/news/business/view/2022/04/362923/\n",
            " 연합뉴스 2022년 04월 24일  09:22:43  \n",
            "\n",
            "머스크 \"빌 게이츠에게 6천200억원 테슬라 공매도 따졌다\"\n",
            "https://www.mk.co.kr/news/world/view/2022/04/362872/\n",
            " 연합뉴스 2022년 04월 24일  08:15:02  \n",
            "\n",
            "美 테크기업 CEO, 테슬라 자율주행차 금지 공약 내걸고 출마\n",
            "https://www.mk.co.kr/news/world/view/2022/04/362748/\n",
            " 연합뉴스 2022년 04월 24일  04:45:22  \n",
            "\n",
            "테슬라, 1분기 생산 전기차 절반에 저렴한 LFP 배터리 탑재\n",
            "https://www.mk.co.kr/news/world/view/2022/04/361875/\n",
            " 연합뉴스 2022년 04월 23일  02:09:27  \n",
            "\n",
            "나스닥 급락에도 테슬라 3% 급등...韓증시에선 엇갈리는 2차전지株\n",
            "https://www.mk.co.kr/economy/view/2022/360864/\n",
            " 매경 Economy 2022년 04월 22일  16:11:17  \n",
            "\n",
            "`어닝서프라이즈`에 중력 거스르는 테슬라 주가…리스크는?\n",
            "https://www.mk.co.kr/news/stock/view/2022/04/360133/\n",
            " 매일경제 2022년 04월 22일  14:10:20  \n",
            "\n",
            "결국 빚내서 인수...머스크, 테슬라 지분 담보로 트위터 인수자금 절반 조달\n",
            "https://www.mk.co.kr/economy/view/2022/359443/\n",
            " 매경 Economy 2022년 04월 22일  11:14:55  \n",
            "\n",
            "머스크, 테슬라 주식담보로 빚내서 트위터 인수자금 57조원 조달(종합)\n",
            "https://www.mk.co.kr/news/world/view/2022/04/358570/\n",
            " 연합뉴스 2022년 04월 22일  08:17:10  \n",
            "\n",
            "머스크, 테슬라 주식담보로 빚내서 트위터 인수자금 57조원 조달\n",
            "https://www.mk.co.kr/news/world/view/2022/04/358405/\n",
            " 연합뉴스 2022년 04월 22일  03:23:36  \n",
            "\n",
            "전기차 가격 올려도 `씽씽`…테슬라 순익 7배 껑충 [매경 월가월부]\n",
            "https://www.mk.co.kr/news/world/view/2022/04/357736/\n",
            " 매일경제 2022년 04월 21일  17:57:03  \n",
            "\n",
            "테슬라, `값질`하다 망신살…한국차에 굴욕, 모델3도 `넘버3` 추락 [왜몰랐을카]\n",
            "https://www.mk.co.kr/news/business/view/2022/04/357729/\n",
            " 매일경제 2022년 04월 21일  17:55:49  \n",
            "\n",
            "테슬라 호실적 발표에 삼성SDI·엘엔에프 등 배터리株 동반 상승\n",
            "https://www.mk.co.kr/economy/view/2022/357081/\n",
            " 매경 Economy 2022년 04월 21일  15:56:50  \n",
            "\n"
          ]
        }
      ]
    }
  ]
}

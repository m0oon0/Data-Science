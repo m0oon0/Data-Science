{
  "nbformat": 4,
  "nbformat_minor": 0,
  "metadata": {
    "colab": {
      "name": "3 Scraping.ipynb",
      "provenance": [],
      "collapsed_sections": [],
      "mount_file_id": "1pkrX718uUMKgenNjlKhoCckFkNnioPzO",
      "authorship_tag": "ABX9TyOgIrpVJyNxER6OdyoKUOnh"
    },
    "kernelspec": {
      "name": "python3",
      "display_name": "Python 3"
    },
    "language_info": {
      "name": "python"
    }
  },
  "cells": [
    {
      "cell_type": "markdown",
      "source": [
        "# settings"
      ],
      "metadata": {
        "id": "YhV40VbqqOSO"
      }
    },
    {
      "cell_type": "code",
      "execution_count": null,
      "metadata": {
        "id": "-bfR8XWen4Pl"
      },
      "outputs": [],
      "source": [
        "import pandas as pd\n",
        "import numpy as np\n",
        "import warnings\n",
        "warnings.filterwarnings('ignore')\n",
        "import time\n",
        "import datetime\n",
        "\n",
        "import requests\n",
        "from bs4 import BeautifulSoup"
      ]
    },
    {
      "cell_type": "code",
      "source": [
        "from google.colab import drive"
      ],
      "metadata": {
        "id": "YR2aOIgAu_2h"
      },
      "execution_count": null,
      "outputs": []
    },
    {
      "cell_type": "markdown",
      "source": [
        "# Web Scraping module\n",
        "\n",
        "Set conditions (page, categories, keyword, date & order)"
      ],
      "metadata": {
        "id": "22GXQX2yqbPS"
      }
    },
    {
      "cell_type": "code",
      "source": [
        "headers = {'User-Agent':'Mozilla/5.0 (Windows NT 6.3; Win64; x64) AppleWebKit/537.36 (KHTML, like Gecko) Chrome/63.0.3239.132 Safari/537.36'}"
      ],
      "metadata": {
        "id": "cFyn4kt22WDs"
      },
      "execution_count": null,
      "outputs": []
    },
    {
      "cell_type": "code",
      "source": [
        "def news_scraper(query, maxpage, start_date, end_date) :\n",
        "\n",
        "  start = start_date.split(\"/\")\n",
        "  end = end_date.split(\"/\")\n",
        "  news_df = pd.DataFrame(columns = ['title', 'datetime', 'article'])\n",
        "  index = 0\n",
        "\n",
        "  page = 1\n",
        "\n",
        "  while page < int(maxpage) : \n",
        "    url = \"https://find.mk.co.kr/new/search.php?pageNum=\"+ str(page) + \\\n",
        "          \"&cat=&cat1=&media_eco=&pageSize=20&sub=news&dispFlag=OFF&page=news&s_kwd=\" + query + \\\n",
        "          \"&s_page=news&go_page=&ord=1&ord1=1&ord2=0&s_keyword=\" + query + \"&s_i_keyword=\" + query + \\\n",
        "          \"&s_author=&y1=\" + start[0] + \"&m1=\" + start[1] + \"&d1=\" + start[2] + \"&y2=\" + end[0] + \"&m2=\" + end[1] + \"&d2=\" + end[2] + \\\n",
        "          \"&ord=1&area=tt\"\n",
        "    \n",
        "    page_ = requests.get(url)\n",
        "    page_ = page_.content\n",
        "    page_soup = BeautifulSoup(page_, 'html.parser')\n",
        "\n",
        "    for news_url in page_soup.select(\".art_tit > a\") :\n",
        "\n",
        "      try :\n",
        "        news = requests.get(news_url['href'], headers = headers)\n",
        "        news.encoding = 'euc-kr'\n",
        "        news_soup = BeautifulSoup(news.text, 'html.parser')\n",
        "\n",
        "        title = news_soup.select_one(\"h1.top_title\").text\n",
        "        try :\n",
        "          datetime = news_soup.select_one(\"li.lasttime\").text[5:15]\n",
        "        except :\n",
        "          datetime = news_soup.select_one(\"li.lasttime1\").text[5:15]\n",
        "\n",
        "        article = news_soup.select(\".art_txt\")[0].get_text()\n",
        "        article.replace('\\n', ' ').replace('\\t', ' ')\n",
        "        article = article.replace(\"function _flash_removeCallback() {}\", \"\")\n",
        "\n",
        "        news_df.loc[index] = [title, datetime, article]\n",
        "        index += 1\n",
        "\n",
        "      except Exception as e :\n",
        "        continue\n",
        "      \n",
        "    page += 1\n",
        "    print(\"✔ Page \", page)\n",
        "\n",
        "  print(\"👌 Scraping completed!\")\n",
        "    \n",
        "  return news_df\n",
        "  "
      ],
      "metadata": {
        "id": "uoOyzLC2qZs1"
      },
      "execution_count": null,
      "outputs": []
    },
    {
      "cell_type": "markdown",
      "source": [
        "Search for : tesla  \n",
        "from 2020/01/01 (or before) to 2022/05/01  \n",
        "Max page : 100"
      ],
      "metadata": {
        "id": "xdsr3UzUZ9Dp"
      }
    },
    {
      "cell_type": "code",
      "source": [
        "query = input(\"Search keyword : \")\n",
        "maxpage = input(\"Pages to search : \")\n",
        "start_date = input(\"Start date (YYYY/MM/DD) : \")\n",
        "end_date = input(\"End date (YYYY/MM/DD) : \")\n",
        "\n",
        "start_time = time.time()\n",
        "news_df = news_scraper(query, maxpage, start_date, end_date)\n",
        "processing_time = time.time() - start_time\n",
        "times = str(datetime.timedelta(seconds = processing_time))\n",
        "\n",
        "print(\"Time spent :\", times)"
      ],
      "metadata": {
        "id": "BgXkfyB06l5u"
      },
      "execution_count": null,
      "outputs": []
    },
    {
      "cell_type": "code",
      "source": [
        "news_df.shape"
      ],
      "metadata": {
        "colab": {
          "base_uri": "https://localhost:8080/"
        },
        "id": "7goVY3YR8gRz",
        "outputId": "b56d7dfe-676c-4893-81e0-52a6db7459e7"
      },
      "execution_count": null,
      "outputs": [
        {
          "output_type": "execute_result",
          "data": {
            "text/plain": [
              "(1841, 3)"
            ]
          },
          "metadata": {},
          "execution_count": 63
        }
      ]
    },
    {
      "cell_type": "markdown",
      "source": [
        "### Cleaning text"
      ],
      "metadata": {
        "id": "8e_TWwChac8F"
      }
    },
    {
      "cell_type": "code",
      "source": [
        "# Delete image\n",
        "news_df['article'] = news_df.article.apply(lambda x : x.replace(\"▶ 여기를 누르시면 크게 보실 수 있습니다\", \" \"))"
      ],
      "metadata": {
        "id": "nW618h4mZfG6"
      },
      "execution_count": null,
      "outputs": []
    },
    {
      "cell_type": "code",
      "source": [
        "# Delete text with [] () \n",
        "import re\n",
        "news_df['article'] = news_df.article.replace(r'\\[[^]]*\\]', '', regex=True)\n",
        "news_df['article'] = news_df.article.replace(r'\\([^)]*\\)', '', regex=True)"
      ],
      "metadata": {
        "id": "_MNVplWxZgrZ"
      },
      "execution_count": null,
      "outputs": []
    },
    {
      "cell_type": "code",
      "source": [
        "news_df"
      ],
      "metadata": {
        "colab": {
          "base_uri": "https://localhost:8080/",
          "height": 424
        },
        "id": "h1Xza7rWZu8C",
        "outputId": "52226c6f-d5f8-42b5-e119-8efa58a2f8be"
      },
      "execution_count": null,
      "outputs": [
        {
          "output_type": "execute_result",
          "data": {
            "text/plain": [
              "                                          title    datetime  \\\n",
              "0               소비자와 가장 친밀한 브랜드, 디즈니, 테슬라, 애플 순  2022.04.27   \n",
              "1                  테슬라 '스마트폰 호출'했더니…수십억 비행기에 충돌  2022.04.27   \n",
              "2           트위터 인수 발표 다음날 테슬라 주가 12% 하락…1년여만 최대  2022.04.27   \n",
              "3        경기둔화 공포에 짓눌린 뉴욕증시…나스닥 4%↓·테슬라 12%↓(종합)  2022.04.27   \n",
              "4            베이조스, 트위터 인수한 머스크에 \"中서 테슬라 복잡해질 것\"  2022.04.26   \n",
              "...                                         ...         ...   \n",
              "1836  [Hot-Line] \"LG화학, 테슬라 모델3 공급 계약 가능성…이익기대\"  2019.08.26   \n",
              "1837                   中 추가관세에 테슬라·포드 '직격탄' 맞는다  2019.08.24   \n",
              "1838            \"LG화학, 테슬라 中 상하이 전기차공장에 배터리 납품\"  2019.08.23   \n",
              "1839               中상하이 자유무역시험구 곱절로 확대…테슬라 '수혜'  2019.08.20   \n",
              "1840          테슬라 '모델3' 국내 공식 출시…5천239만∼7천239만원  2019.08.13   \n",
              "\n",
              "                                                article  \n",
              "0       전 세계 브랜드 중 소비자와 가장 친밀한 브랜드는 디즈니, 테슬라, 애플 순으로...  \n",
              "1      자율 주행하던 테슬라가 40억원대 전용기를 들이받았다.\\r26일 영국 미러 등 외...  \n",
              "2     일론 머스크 테슬라 최고경영자   억만장자 일론 머스크가 이끄는 전기차 업체 테슬라...  \n",
              "3     미국 뉴욕증시가 26일 동시다발적 악재에 따른 경기둔화 공포에 짓눌려 크게 뒷걸음질...  \n",
              "4     베이조스, 머스크 트위터 인수에 중국 입김?   세계 최대 전자상거래 업체 아마존 ...  \n",
              "...                                                 ...  \n",
              "1836  중국 난징 신장경제개발구에 위치한 LG화학 전기차 배터리 1공장 전경삼성증권은 26...  \n",
              "1837  중국이 12월 15일부터 미국산 자동차에 25%의 고율 관세를 부과하게 되면 테슬라...  \n",
              "1838  테슬라 중국 상하이 공장 건설 예정  LG화학이 미국 전기자동차 업체 테슬라의 첫 ...  \n",
              "1839  상하이 린강에 건설 중인 테슬라 공장중국이 상하이 자유무역시험구 규모를 배 가까이 ...  \n",
              "1840  테슬라 모델3전기차업체 테슬라는 13일 보급형 세단 '모델3'를 국내에 공식 출시하...  \n",
              "\n",
              "[1841 rows x 3 columns]"
            ],
            "text/html": [
              "\n",
              "  <div id=\"df-9a98b153-9a31-4384-9ef6-d76564e1100f\">\n",
              "    <div class=\"colab-df-container\">\n",
              "      <div>\n",
              "<style scoped>\n",
              "    .dataframe tbody tr th:only-of-type {\n",
              "        vertical-align: middle;\n",
              "    }\n",
              "\n",
              "    .dataframe tbody tr th {\n",
              "        vertical-align: top;\n",
              "    }\n",
              "\n",
              "    .dataframe thead th {\n",
              "        text-align: right;\n",
              "    }\n",
              "</style>\n",
              "<table border=\"1\" class=\"dataframe\">\n",
              "  <thead>\n",
              "    <tr style=\"text-align: right;\">\n",
              "      <th></th>\n",
              "      <th>title</th>\n",
              "      <th>datetime</th>\n",
              "      <th>article</th>\n",
              "    </tr>\n",
              "  </thead>\n",
              "  <tbody>\n",
              "    <tr>\n",
              "      <th>0</th>\n",
              "      <td>소비자와 가장 친밀한 브랜드, 디즈니, 테슬라, 애플 순</td>\n",
              "      <td>2022.04.27</td>\n",
              "      <td>전 세계 브랜드 중 소비자와 가장 친밀한 브랜드는 디즈니, 테슬라, 애플 순으로...</td>\n",
              "    </tr>\n",
              "    <tr>\n",
              "      <th>1</th>\n",
              "      <td>테슬라 '스마트폰 호출'했더니…수십억 비행기에 충돌</td>\n",
              "      <td>2022.04.27</td>\n",
              "      <td>자율 주행하던 테슬라가 40억원대 전용기를 들이받았다.\\r26일 영국 미러 등 외...</td>\n",
              "    </tr>\n",
              "    <tr>\n",
              "      <th>2</th>\n",
              "      <td>트위터 인수 발표 다음날 테슬라 주가 12% 하락…1년여만 최대</td>\n",
              "      <td>2022.04.27</td>\n",
              "      <td>일론 머스크 테슬라 최고경영자   억만장자 일론 머스크가 이끄는 전기차 업체 테슬라...</td>\n",
              "    </tr>\n",
              "    <tr>\n",
              "      <th>3</th>\n",
              "      <td>경기둔화 공포에 짓눌린 뉴욕증시…나스닥 4%↓·테슬라 12%↓(종합)</td>\n",
              "      <td>2022.04.27</td>\n",
              "      <td>미국 뉴욕증시가 26일 동시다발적 악재에 따른 경기둔화 공포에 짓눌려 크게 뒷걸음질...</td>\n",
              "    </tr>\n",
              "    <tr>\n",
              "      <th>4</th>\n",
              "      <td>베이조스, 트위터 인수한 머스크에 \"中서 테슬라 복잡해질 것\"</td>\n",
              "      <td>2022.04.26</td>\n",
              "      <td>베이조스, 머스크 트위터 인수에 중국 입김?   세계 최대 전자상거래 업체 아마존 ...</td>\n",
              "    </tr>\n",
              "    <tr>\n",
              "      <th>...</th>\n",
              "      <td>...</td>\n",
              "      <td>...</td>\n",
              "      <td>...</td>\n",
              "    </tr>\n",
              "    <tr>\n",
              "      <th>1836</th>\n",
              "      <td>[Hot-Line] \"LG화학, 테슬라 모델3 공급 계약 가능성…이익기대\"</td>\n",
              "      <td>2019.08.26</td>\n",
              "      <td>중국 난징 신장경제개발구에 위치한 LG화학 전기차 배터리 1공장 전경삼성증권은 26...</td>\n",
              "    </tr>\n",
              "    <tr>\n",
              "      <th>1837</th>\n",
              "      <td>中 추가관세에 테슬라·포드 '직격탄' 맞는다</td>\n",
              "      <td>2019.08.24</td>\n",
              "      <td>중국이 12월 15일부터 미국산 자동차에 25%의 고율 관세를 부과하게 되면 테슬라...</td>\n",
              "    </tr>\n",
              "    <tr>\n",
              "      <th>1838</th>\n",
              "      <td>\"LG화학, 테슬라 中 상하이 전기차공장에 배터리 납품\"</td>\n",
              "      <td>2019.08.23</td>\n",
              "      <td>테슬라 중국 상하이 공장 건설 예정  LG화학이 미국 전기자동차 업체 테슬라의 첫 ...</td>\n",
              "    </tr>\n",
              "    <tr>\n",
              "      <th>1839</th>\n",
              "      <td>中상하이 자유무역시험구 곱절로 확대…테슬라 '수혜'</td>\n",
              "      <td>2019.08.20</td>\n",
              "      <td>상하이 린강에 건설 중인 테슬라 공장중국이 상하이 자유무역시험구 규모를 배 가까이 ...</td>\n",
              "    </tr>\n",
              "    <tr>\n",
              "      <th>1840</th>\n",
              "      <td>테슬라 '모델3' 국내 공식 출시…5천239만∼7천239만원</td>\n",
              "      <td>2019.08.13</td>\n",
              "      <td>테슬라 모델3전기차업체 테슬라는 13일 보급형 세단 '모델3'를 국내에 공식 출시하...</td>\n",
              "    </tr>\n",
              "  </tbody>\n",
              "</table>\n",
              "<p>1841 rows × 3 columns</p>\n",
              "</div>\n",
              "      <button class=\"colab-df-convert\" onclick=\"convertToInteractive('df-9a98b153-9a31-4384-9ef6-d76564e1100f')\"\n",
              "              title=\"Convert this dataframe to an interactive table.\"\n",
              "              style=\"display:none;\">\n",
              "        \n",
              "  <svg xmlns=\"http://www.w3.org/2000/svg\" height=\"24px\"viewBox=\"0 0 24 24\"\n",
              "       width=\"24px\">\n",
              "    <path d=\"M0 0h24v24H0V0z\" fill=\"none\"/>\n",
              "    <path d=\"M18.56 5.44l.94 2.06.94-2.06 2.06-.94-2.06-.94-.94-2.06-.94 2.06-2.06.94zm-11 1L8.5 8.5l.94-2.06 2.06-.94-2.06-.94L8.5 2.5l-.94 2.06-2.06.94zm10 10l.94 2.06.94-2.06 2.06-.94-2.06-.94-.94-2.06-.94 2.06-2.06.94z\"/><path d=\"M17.41 7.96l-1.37-1.37c-.4-.4-.92-.59-1.43-.59-.52 0-1.04.2-1.43.59L10.3 9.45l-7.72 7.72c-.78.78-.78 2.05 0 2.83L4 21.41c.39.39.9.59 1.41.59.51 0 1.02-.2 1.41-.59l7.78-7.78 2.81-2.81c.8-.78.8-2.07 0-2.86zM5.41 20L4 18.59l7.72-7.72 1.47 1.35L5.41 20z\"/>\n",
              "  </svg>\n",
              "      </button>\n",
              "      \n",
              "  <style>\n",
              "    .colab-df-container {\n",
              "      display:flex;\n",
              "      flex-wrap:wrap;\n",
              "      gap: 12px;\n",
              "    }\n",
              "\n",
              "    .colab-df-convert {\n",
              "      background-color: #E8F0FE;\n",
              "      border: none;\n",
              "      border-radius: 50%;\n",
              "      cursor: pointer;\n",
              "      display: none;\n",
              "      fill: #1967D2;\n",
              "      height: 32px;\n",
              "      padding: 0 0 0 0;\n",
              "      width: 32px;\n",
              "    }\n",
              "\n",
              "    .colab-df-convert:hover {\n",
              "      background-color: #E2EBFA;\n",
              "      box-shadow: 0px 1px 2px rgba(60, 64, 67, 0.3), 0px 1px 3px 1px rgba(60, 64, 67, 0.15);\n",
              "      fill: #174EA6;\n",
              "    }\n",
              "\n",
              "    [theme=dark] .colab-df-convert {\n",
              "      background-color: #3B4455;\n",
              "      fill: #D2E3FC;\n",
              "    }\n",
              "\n",
              "    [theme=dark] .colab-df-convert:hover {\n",
              "      background-color: #434B5C;\n",
              "      box-shadow: 0px 1px 3px 1px rgba(0, 0, 0, 0.15);\n",
              "      filter: drop-shadow(0px 1px 2px rgba(0, 0, 0, 0.3));\n",
              "      fill: #FFFFFF;\n",
              "    }\n",
              "  </style>\n",
              "\n",
              "      <script>\n",
              "        const buttonEl =\n",
              "          document.querySelector('#df-9a98b153-9a31-4384-9ef6-d76564e1100f button.colab-df-convert');\n",
              "        buttonEl.style.display =\n",
              "          google.colab.kernel.accessAllowed ? 'block' : 'none';\n",
              "\n",
              "        async function convertToInteractive(key) {\n",
              "          const element = document.querySelector('#df-9a98b153-9a31-4384-9ef6-d76564e1100f');\n",
              "          const dataTable =\n",
              "            await google.colab.kernel.invokeFunction('convertToInteractive',\n",
              "                                                     [key], {});\n",
              "          if (!dataTable) return;\n",
              "\n",
              "          const docLinkHtml = 'Like what you see? Visit the ' +\n",
              "            '<a target=\"_blank\" href=https://colab.research.google.com/notebooks/data_table.ipynb>data table notebook</a>'\n",
              "            + ' to learn more about interactive tables.';\n",
              "          element.innerHTML = '';\n",
              "          dataTable['output_type'] = 'display_data';\n",
              "          await google.colab.output.renderOutput(dataTable, element);\n",
              "          const docLink = document.createElement('div');\n",
              "          docLink.innerHTML = docLinkHtml;\n",
              "          element.appendChild(docLink);\n",
              "        }\n",
              "      </script>\n",
              "    </div>\n",
              "  </div>\n",
              "  "
            ]
          },
          "metadata": {},
          "execution_count": 85
        }
      ]
    }
  ]
}
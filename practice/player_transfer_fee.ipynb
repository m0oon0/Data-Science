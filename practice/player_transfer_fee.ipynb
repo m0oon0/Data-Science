{
  "nbformat": 4,
  "nbformat_minor": 0,
  "metadata": {
    "colab": {
      "name": "FIFA.ipynb",
      "provenance": [],
      "collapsed_sections": [],
      "toc_visible": true
    },
    "kernelspec": {
      "name": "python3",
      "display_name": "Python 3"
    },
    "language_info": {
      "name": "python"
    }
  },
  "cells": [
    {
      "cell_type": "code",
      "execution_count": null,
      "metadata": {
        "id": "x8wYmD6fbDtQ"
      },
      "outputs": [],
      "source": [
        "from google.colab import files\n",
        "files.upload()"
      ]
    },
    {
      "cell_type": "code",
      "source": [
        "import pandas as pd\n",
        "import numpy as np\n",
        "train = pd.read_csv('FIFA_train.csv')"
      ],
      "metadata": {
        "id": "QvluNQWabJRx"
      },
      "execution_count": null,
      "outputs": []
    },
    {
      "cell_type": "code",
      "source": [
        "train.head()"
      ],
      "metadata": {
        "colab": {
          "base_uri": "https://localhost:8080/",
          "height": 357
        },
        "id": "ndVqdgbGbdke",
        "outputId": "ec4a9b67-27f5-4fdd-d1d8-0284b16a0605"
      },
      "execution_count": null,
      "outputs": [
        {
          "output_type": "execute_result",
          "data": {
            "text/html": [
              "\n",
              "  <div id=\"df-b91f7f75-4d15-4071-ac65-37b61f20b7a3\">\n",
              "    <div class=\"colab-df-container\">\n",
              "      <div>\n",
              "<style scoped>\n",
              "    .dataframe tbody tr th:only-of-type {\n",
              "        vertical-align: middle;\n",
              "    }\n",
              "\n",
              "    .dataframe tbody tr th {\n",
              "        vertical-align: top;\n",
              "    }\n",
              "\n",
              "    .dataframe thead th {\n",
              "        text-align: right;\n",
              "    }\n",
              "</style>\n",
              "<table border=\"1\" class=\"dataframe\">\n",
              "  <thead>\n",
              "    <tr style=\"text-align: right;\">\n",
              "      <th></th>\n",
              "      <th>id</th>\n",
              "      <th>name</th>\n",
              "      <th>age</th>\n",
              "      <th>continent</th>\n",
              "      <th>contract_until</th>\n",
              "      <th>position</th>\n",
              "      <th>prefer_foot</th>\n",
              "      <th>reputation</th>\n",
              "      <th>stat_overall</th>\n",
              "      <th>stat_potential</th>\n",
              "      <th>stat_skill_moves</th>\n",
              "      <th>value</th>\n",
              "    </tr>\n",
              "  </thead>\n",
              "  <tbody>\n",
              "    <tr>\n",
              "      <th>0</th>\n",
              "      <td>0</td>\n",
              "      <td>L. Messi</td>\n",
              "      <td>31</td>\n",
              "      <td>south america</td>\n",
              "      <td>2021</td>\n",
              "      <td>ST</td>\n",
              "      <td>left</td>\n",
              "      <td>5.0</td>\n",
              "      <td>94</td>\n",
              "      <td>94</td>\n",
              "      <td>4.0</td>\n",
              "      <td>18.520526</td>\n",
              "    </tr>\n",
              "    <tr>\n",
              "      <th>1</th>\n",
              "      <td>3</td>\n",
              "      <td>De Gea</td>\n",
              "      <td>27</td>\n",
              "      <td>europe</td>\n",
              "      <td>2020</td>\n",
              "      <td>GK</td>\n",
              "      <td>right</td>\n",
              "      <td>4.0</td>\n",
              "      <td>91</td>\n",
              "      <td>93</td>\n",
              "      <td>1.0</td>\n",
              "      <td>18.092177</td>\n",
              "    </tr>\n",
              "    <tr>\n",
              "      <th>2</th>\n",
              "      <td>7</td>\n",
              "      <td>L. Suárez</td>\n",
              "      <td>31</td>\n",
              "      <td>south america</td>\n",
              "      <td>2021</td>\n",
              "      <td>ST</td>\n",
              "      <td>right</td>\n",
              "      <td>5.0</td>\n",
              "      <td>91</td>\n",
              "      <td>91</td>\n",
              "      <td>3.0</td>\n",
              "      <td>18.197537</td>\n",
              "    </tr>\n",
              "    <tr>\n",
              "      <th>3</th>\n",
              "      <td>8</td>\n",
              "      <td>Sergio Ramos</td>\n",
              "      <td>32</td>\n",
              "      <td>europe</td>\n",
              "      <td>2020</td>\n",
              "      <td>DF</td>\n",
              "      <td>right</td>\n",
              "      <td>4.0</td>\n",
              "      <td>91</td>\n",
              "      <td>91</td>\n",
              "      <td>3.0</td>\n",
              "      <td>17.747336</td>\n",
              "    </tr>\n",
              "    <tr>\n",
              "      <th>4</th>\n",
              "      <td>9</td>\n",
              "      <td>J. Oblak</td>\n",
              "      <td>25</td>\n",
              "      <td>europe</td>\n",
              "      <td>2021</td>\n",
              "      <td>GK</td>\n",
              "      <td>right</td>\n",
              "      <td>3.0</td>\n",
              "      <td>90</td>\n",
              "      <td>93</td>\n",
              "      <td>1.0</td>\n",
              "      <td>18.035018</td>\n",
              "    </tr>\n",
              "  </tbody>\n",
              "</table>\n",
              "</div>\n",
              "      <button class=\"colab-df-convert\" onclick=\"convertToInteractive('df-b91f7f75-4d15-4071-ac65-37b61f20b7a3')\"\n",
              "              title=\"Convert this dataframe to an interactive table.\"\n",
              "              style=\"display:none;\">\n",
              "        \n",
              "  <svg xmlns=\"http://www.w3.org/2000/svg\" height=\"24px\"viewBox=\"0 0 24 24\"\n",
              "       width=\"24px\">\n",
              "    <path d=\"M0 0h24v24H0V0z\" fill=\"none\"/>\n",
              "    <path d=\"M18.56 5.44l.94 2.06.94-2.06 2.06-.94-2.06-.94-.94-2.06-.94 2.06-2.06.94zm-11 1L8.5 8.5l.94-2.06 2.06-.94-2.06-.94L8.5 2.5l-.94 2.06-2.06.94zm10 10l.94 2.06.94-2.06 2.06-.94-2.06-.94-.94-2.06-.94 2.06-2.06.94z\"/><path d=\"M17.41 7.96l-1.37-1.37c-.4-.4-.92-.59-1.43-.59-.52 0-1.04.2-1.43.59L10.3 9.45l-7.72 7.72c-.78.78-.78 2.05 0 2.83L4 21.41c.39.39.9.59 1.41.59.51 0 1.02-.2 1.41-.59l7.78-7.78 2.81-2.81c.8-.78.8-2.07 0-2.86zM5.41 20L4 18.59l7.72-7.72 1.47 1.35L5.41 20z\"/>\n",
              "  </svg>\n",
              "      </button>\n",
              "      \n",
              "  <style>\n",
              "    .colab-df-container {\n",
              "      display:flex;\n",
              "      flex-wrap:wrap;\n",
              "      gap: 12px;\n",
              "    }\n",
              "\n",
              "    .colab-df-convert {\n",
              "      background-color: #E8F0FE;\n",
              "      border: none;\n",
              "      border-radius: 50%;\n",
              "      cursor: pointer;\n",
              "      display: none;\n",
              "      fill: #1967D2;\n",
              "      height: 32px;\n",
              "      padding: 0 0 0 0;\n",
              "      width: 32px;\n",
              "    }\n",
              "\n",
              "    .colab-df-convert:hover {\n",
              "      background-color: #E2EBFA;\n",
              "      box-shadow: 0px 1px 2px rgba(60, 64, 67, 0.3), 0px 1px 3px 1px rgba(60, 64, 67, 0.15);\n",
              "      fill: #174EA6;\n",
              "    }\n",
              "\n",
              "    [theme=dark] .colab-df-convert {\n",
              "      background-color: #3B4455;\n",
              "      fill: #D2E3FC;\n",
              "    }\n",
              "\n",
              "    [theme=dark] .colab-df-convert:hover {\n",
              "      background-color: #434B5C;\n",
              "      box-shadow: 0px 1px 3px 1px rgba(0, 0, 0, 0.15);\n",
              "      filter: drop-shadow(0px 1px 2px rgba(0, 0, 0, 0.3));\n",
              "      fill: #FFFFFF;\n",
              "    }\n",
              "  </style>\n",
              "\n",
              "      <script>\n",
              "        const buttonEl =\n",
              "          document.querySelector('#df-b91f7f75-4d15-4071-ac65-37b61f20b7a3 button.colab-df-convert');\n",
              "        buttonEl.style.display =\n",
              "          google.colab.kernel.accessAllowed ? 'block' : 'none';\n",
              "\n",
              "        async function convertToInteractive(key) {\n",
              "          const element = document.querySelector('#df-b91f7f75-4d15-4071-ac65-37b61f20b7a3');\n",
              "          const dataTable =\n",
              "            await google.colab.kernel.invokeFunction('convertToInteractive',\n",
              "                                                     [key], {});\n",
              "          if (!dataTable) return;\n",
              "\n",
              "          const docLinkHtml = 'Like what you see? Visit the ' +\n",
              "            '<a target=\"_blank\" href=https://colab.research.google.com/notebooks/data_table.ipynb>data table notebook</a>'\n",
              "            + ' to learn more about interactive tables.';\n",
              "          element.innerHTML = '';\n",
              "          dataTable['output_type'] = 'display_data';\n",
              "          await google.colab.output.renderOutput(dataTable, element);\n",
              "          const docLink = document.createElement('div');\n",
              "          docLink.innerHTML = docLinkHtml;\n",
              "          element.appendChild(docLink);\n",
              "        }\n",
              "      </script>\n",
              "    </div>\n",
              "  </div>\n",
              "  "
            ],
            "text/plain": [
              "   id          name  age  ... stat_potential stat_skill_moves      value\n",
              "0   0      L. Messi   31  ...             94              4.0  18.520526\n",
              "1   3        De Gea   27  ...             93              1.0  18.092177\n",
              "2   7     L. Suárez   31  ...             91              3.0  18.197537\n",
              "3   8  Sergio Ramos   32  ...             91              3.0  17.747336\n",
              "4   9      J. Oblak   25  ...             93              1.0  18.035018\n",
              "\n",
              "[5 rows x 12 columns]"
            ]
          },
          "metadata": {},
          "execution_count": 89
        }
      ]
    },
    {
      "cell_type": "markdown",
      "source": [
        "### EDA & Feature extraction"
      ],
      "metadata": {
        "id": "YqWaYZt7WdCZ"
      }
    },
    {
      "cell_type": "code",
      "source": [
        "train.info()"
      ],
      "metadata": {
        "colab": {
          "base_uri": "https://localhost:8080/"
        },
        "id": "4RS1QwSmbjzW",
        "outputId": "26f42ee3-112f-4a07-e0a8-bbdb537814cc"
      },
      "execution_count": null,
      "outputs": [
        {
          "output_type": "stream",
          "name": "stdout",
          "text": [
            "<class 'pandas.core.frame.DataFrame'>\n",
            "RangeIndex: 8932 entries, 0 to 8931\n",
            "Data columns (total 12 columns):\n",
            " #   Column            Non-Null Count  Dtype  \n",
            "---  ------            --------------  -----  \n",
            " 0   id                8932 non-null   int64  \n",
            " 1   name              8932 non-null   object \n",
            " 2   age               8932 non-null   int64  \n",
            " 3   continent         8932 non-null   object \n",
            " 4   contract_until    8932 non-null   object \n",
            " 5   position          8932 non-null   object \n",
            " 6   prefer_foot       8932 non-null   object \n",
            " 7   reputation        8932 non-null   float64\n",
            " 8   stat_overall      8932 non-null   int64  \n",
            " 9   stat_potential    8932 non-null   int64  \n",
            " 10  stat_skill_moves  8932 non-null   float64\n",
            " 11  value             8932 non-null   float64\n",
            "dtypes: float64(3), int64(4), object(5)\n",
            "memory usage: 837.5+ KB\n"
          ]
        }
      ]
    },
    {
      "cell_type": "code",
      "source": [
        "train.continent.unique()"
      ],
      "metadata": {
        "colab": {
          "base_uri": "https://localhost:8080/"
        },
        "id": "r3V1YC5ObwKO",
        "outputId": "6fe9d35a-91b0-4aaf-8f3d-8f4871f06ac6"
      },
      "execution_count": null,
      "outputs": [
        {
          "output_type": "execute_result",
          "data": {
            "text/plain": [
              "array(['south america', 'europe', 'africa', 'asia', 'oceania'],\n",
              "      dtype=object)"
            ]
          },
          "metadata": {},
          "execution_count": 5
        }
      ]
    },
    {
      "cell_type": "code",
      "source": [
        "import matplotlib.pyplot as plt\n",
        "train[['continent', 'value']].groupby('continent').mean().sort_values(by='value', ascending=False).plot.bar()"
      ],
      "metadata": {
        "colab": {
          "base_uri": "https://localhost:8080/",
          "height": 370
        },
        "id": "DwxSQgzwb-EW",
        "outputId": "511bf7de-ec5c-4a86-c42c-37532fb77b2d"
      },
      "execution_count": null,
      "outputs": [
        {
          "output_type": "execute_result",
          "data": {
            "text/plain": [
              "<matplotlib.axes._subplots.AxesSubplot at 0x7f4e8d9d94d0>"
            ]
          },
          "metadata": {},
          "execution_count": 9
        },
        {
          "output_type": "display_data",
          "data": {
            "image/png": "[encoded data removed]",
            "text/plain": [
              "<Figure size 432x288 with 1 Axes>"
            ]
          },
          "metadata": {
            "needs_background": "light"
          }
        }
      ]
    },
    {
      "cell_type": "code",
      "source": [
        "train.position.unique()"
      ],
      "metadata": {
        "colab": {
          "base_uri": "https://localhost:8080/"
        },
        "id": "rm3qjACIcPki",
        "outputId": "9d4541c5-d978-4051-96d0-1eb3fe1b3ffb"
      },
      "execution_count": null,
      "outputs": [
        {
          "output_type": "execute_result",
          "data": {
            "text/plain": [
              "array(['ST', 'GK', 'DF', 'MF'], dtype=object)"
            ]
          },
          "metadata": {},
          "execution_count": 10
        }
      ]
    },
    {
      "cell_type": "code",
      "source": [
        "train[['position', 'value']].groupby('position').mean().sort_values(by='value', ascending=False).plot.bar()"
      ],
      "metadata": {
        "colab": {
          "base_uri": "https://localhost:8080/",
          "height": 313
        },
        "id": "FOedcHkxcnyo",
        "outputId": "8740ccc7-47c5-4292-c84f-fdadefb264d7"
      },
      "execution_count": null,
      "outputs": [
        {
          "output_type": "execute_result",
          "data": {
            "text/plain": [
              "<matplotlib.axes._subplots.AxesSubplot at 0x7f4e8d8b4650>"
            ]
          },
          "metadata": {},
          "execution_count": 11
        },
        {
          "output_type": "display_data",
          "data": {
            "image/png": "[encoded data removed]",
            "text/plain": [
              "<Figure size 432x288 with 1 Axes>"
            ]
          },
          "metadata": {
            "needs_background": "light"
          }
        }
      ]
    },
    {
      "cell_type": "code",
      "source": [
        "position = train['position'].unique()"
      ],
      "metadata": {
        "id": "Uaaxr9yBhs3w"
      },
      "execution_count": null,
      "outputs": []
    },
    {
      "cell_type": "code",
      "source": [
        "train.loc[train.position == 'ST', ['stat_skill_moves', 'value']].groupby('stat_skill_moves').mean().plot.bar()"
      ],
      "metadata": {
        "colab": {
          "base_uri": "https://localhost:8080/",
          "height": 315
        },
        "id": "cH83oguXf2tC",
        "outputId": "7a55802f-9bb7-4393-bd97-5a3b2047c4eb"
      },
      "execution_count": null,
      "outputs": [
        {
          "output_type": "execute_result",
          "data": {
            "text/plain": [
              "<matplotlib.axes._subplots.AxesSubplot at 0x7f4e7b4cca10>"
            ]
          },
          "metadata": {},
          "execution_count": 24
        },
        {
          "output_type": "display_data",
          "data": {
            "image/png": "[encoded data removed]",
            "text/plain": [
              "<Figure size 432x288 with 1 Axes>"
            ]
          },
          "metadata": {
            "needs_background": "light"
          }
        }
      ]
    },
    {
      "cell_type": "code",
      "source": [
        "f, ax = plt.subplots(2,2,figsize=(8,8))\n",
        "ax = ax.ravel()\n",
        "for i, p in enumerate(position):\n",
        "  train.loc[train.position==p, ['prefer_foot', 'value']].groupby('prefer_foot').mean().plot.bar(ax=ax[i])\n",
        "  ax[i].set_title(p)\n",
        "\n",
        "plt.show() # 다른 포지션에 비해 골키퍼의 경우 왼발/오른발에 따라 두배 정도 차이가 남 (왼손/오른손?)"
      ],
      "metadata": {
        "colab": {
          "base_uri": "https://localhost:8080/",
          "height": 527
        },
        "id": "QibvcC2IhYLd",
        "outputId": "c84c4a4e-67ff-4204-c418-6a06bedcc85a"
      },
      "execution_count": null,
      "outputs": [
        {
          "output_type": "display_data",
          "data": {
            "image/png": "[encoded data removed]",
            "text/plain": [
              "<Figure size 576x576 with 4 Axes>"
            ]
          },
          "metadata": {
            "needs_background": "light"
          }
        }
      ]
    },
    {
      "cell_type": "code",
      "source": [
        "print(\"골키퍼 :\", train[train.position=='GK'].value.mean())\n",
        "print(\"not 골키퍼 :\", train[train.position!='GK'].value.mean()) # 별 차이는 없다"
      ],
      "metadata": {
        "colab": {
          "base_uri": "https://localhost:8080/"
        },
        "id": "htvzPjMJW6eJ",
        "outputId": "9e5ff811-2b98-4376-d4f5-66d344fff004"
      },
      "execution_count": null,
      "outputs": [
        {
          "output_type": "stream",
          "name": "stdout",
          "text": [
            "골키퍼 : 13.113184650182161\n",
            "not 골키퍼 : 13.880493911104157\n"
          ]
        }
      ]
    },
    {
      "cell_type": "code",
      "source": [
        "train.reputation.value_counts()"
      ],
      "metadata": {
        "colab": {
          "base_uri": "https://localhost:8080/"
        },
        "id": "BhmDnkq0c3YX",
        "outputId": "73f08c6e-2f6c-456f-b7f8-777ab213a2ac"
      },
      "execution_count": null,
      "outputs": [
        {
          "output_type": "execute_result",
          "data": {
            "text/plain": [
              "1.0    8014\n",
              "2.0     706\n",
              "3.0     177\n",
              "4.0      31\n",
              "5.0       4\n",
              "Name: reputation, dtype: int64"
            ]
          },
          "metadata": {},
          "execution_count": 16
        }
      ]
    },
    {
      "cell_type": "code",
      "source": [
        "train[['reputation', 'value']].groupby('reputation').mean().sort_values(by='value', ascending=False).plot.bar() # 전처리 필요???"
      ],
      "metadata": {
        "colab": {
          "base_uri": "https://localhost:8080/",
          "height": 314
        },
        "id": "JhCDTlPLdOlL",
        "outputId": "1585a662-09a3-463b-cbcb-4ee82e5a9dd1"
      },
      "execution_count": null,
      "outputs": [
        {
          "output_type": "execute_result",
          "data": {
            "text/plain": [
              "<matplotlib.axes._subplots.AxesSubplot at 0x7f4e7d95ab90>"
            ]
          },
          "metadata": {},
          "execution_count": 17
        },
        {
          "output_type": "display_data",
          "data": {
            "image/png": "[encoded data removed]",
            "text/plain": [
              "<Figure size 432x288 with 1 Axes>"
            ]
          },
          "metadata": {
            "needs_background": "light"
          }
        }
      ]
    },
    {
      "cell_type": "code",
      "source": [
        "import seaborn as sns\n",
        "f, ax = plt.subplots(1,2, figsize=(10,5))\n",
        "sns.scatterplot('stat_overall', 'value', data=train, ax=ax[0])\n",
        "sns.scatterplot('stat_potential', 'value', data=train, ax=ax[1])"
      ],
      "metadata": {
        "colab": {
          "base_uri": "https://localhost:8080/",
          "height": 456
        },
        "id": "l8FldYGOeoQd",
        "outputId": "642011c7-bee2-4529-9a25-8fac67106b45"
      },
      "execution_count": null,
      "outputs": [
        {
          "output_type": "stream",
          "name": "stderr",
          "text": [
            "/usr/local/lib/python3.7/dist-packages/seaborn/_decorators.py:43: FutureWarning: Pass the following variables as keyword args: x, y. From version 0.12, the only valid positional argument will be `data`, and passing other arguments without an explicit keyword will result in an error or misinterpretation.\n",
            "  FutureWarning\n",
            "/usr/local/lib/python3.7/dist-packages/seaborn/_decorators.py:43: FutureWarning: Pass the following variables as keyword args: x, y. From version 0.12, the only valid positional argument will be `data`, and passing other arguments without an explicit keyword will result in an error or misinterpretation.\n",
            "  FutureWarning\n"
          ]
        },
        {
          "output_type": "execute_result",
          "data": {
            "text/plain": [
              "<matplotlib.axes._subplots.AxesSubplot at 0x7f4e7d701050>"
            ]
          },
          "metadata": {},
          "execution_count": 18
        },
        {
          "output_type": "display_data",
          "data": {
            "image/png": "[encoded data removed]",
            "text/plain": [
              "<Figure size 720x360 with 2 Axes>"
            ]
          },
          "metadata": {
            "needs_background": "light"
          }
        }
      ]
    },
    {
      "cell_type": "code",
      "source": [
        "sns.kdeplot(train.stat_overall)"
      ],
      "metadata": {
        "colab": {
          "base_uri": "https://localhost:8080/",
          "height": 298
        },
        "id": "yBN9dWfKfKYf",
        "outputId": "f492ecd2-6e11-4ac0-b0be-3493facbbc48"
      },
      "execution_count": null,
      "outputs": [
        {
          "output_type": "execute_result",
          "data": {
            "text/plain": [
              "<matplotlib.axes._subplots.AxesSubplot at 0x7f4e7d5e3d50>"
            ]
          },
          "metadata": {},
          "execution_count": 20
        },
        {
          "output_type": "display_data",
          "data": {
            "image/png": "[encoded data removed]",
            "text/plain": [
              "<Figure size 432x288 with 1 Axes>"
            ]
          },
          "metadata": {
            "needs_background": "light"
          }
        }
      ]
    },
    {
      "cell_type": "code",
      "source": [
        "train.isna().sum()"
      ],
      "metadata": {
        "colab": {
          "base_uri": "https://localhost:8080/"
        },
        "id": "-5yTF2mDfXSu",
        "outputId": "6505d2dc-47f1-4221-941b-39b90e0702f1"
      },
      "execution_count": null,
      "outputs": [
        {
          "output_type": "execute_result",
          "data": {
            "text/plain": [
              "id                  0\n",
              "name                0\n",
              "age                 0\n",
              "continent           0\n",
              "contract_until      0\n",
              "position            0\n",
              "prefer_foot         0\n",
              "reputation          0\n",
              "stat_overall        0\n",
              "stat_potential      0\n",
              "stat_skill_moves    0\n",
              "value               0\n",
              "dtype: int64"
            ]
          },
          "metadata": {},
          "execution_count": 35
        }
      ]
    },
    {
      "cell_type": "code",
      "source": [
        "train.contract_until.unique()"
      ],
      "metadata": {
        "colab": {
          "base_uri": "https://localhost:8080/"
        },
        "id": "11Jo0KqMlG95",
        "outputId": "ee7cdc94-78ac-4121-d6a4-d47e3131e2d2"
      },
      "execution_count": null,
      "outputs": [
        {
          "output_type": "execute_result",
          "data": {
            "text/plain": [
              "array(['2021', '2020', '2019', '2023', '2022', '2024', '2026', '2018',\n",
              "       '2025'], dtype=object)"
            ]
          },
          "metadata": {},
          "execution_count": 122
        }
      ]
    },
    {
      "cell_type": "code",
      "source": [
        "train['contract_until'] = train.contract_until.astype(str).str[-4:]\n",
        "train.contract_until.unique()"
      ],
      "metadata": {
        "colab": {
          "base_uri": "https://localhost:8080/"
        },
        "id": "r1IroFsfmcgd",
        "outputId": "6988b3da-6b77-44da-f332-412ddac4d999"
      },
      "execution_count": null,
      "outputs": [
        {
          "output_type": "execute_result",
          "data": {
            "text/plain": [
              "array(['2021', '2020', '2019', '2023', '2022', '2024', '2026', '2018',\n",
              "       '2025'], dtype=object)"
            ]
          },
          "metadata": {},
          "execution_count": 69
        }
      ]
    },
    {
      "cell_type": "code",
      "source": [
        "test['contract_until'] = test.contract_until.astype(str).str[-4:]"
      ],
      "metadata": {
        "id": "P--SNHO5wzjo"
      },
      "execution_count": null,
      "outputs": []
    },
    {
      "cell_type": "code",
      "source": [
        "train['contract_until'] = train.contract_until.astype(int)\n",
        "train.contract_until.dtype"
      ],
      "metadata": {
        "colab": {
          "base_uri": "https://localhost:8080/"
        },
        "id": "J-skJVW9hUUG",
        "outputId": "6df0bf83-9132-400c-d8d2-a992b48fabfa"
      },
      "execution_count": null,
      "outputs": [
        {
          "output_type": "execute_result",
          "data": {
            "text/plain": [
              "dtype('int64')"
            ]
          },
          "metadata": {},
          "execution_count": 123
        }
      ]
    },
    {
      "cell_type": "code",
      "source": [
        "test['contract_until'] = test.contract_until.astype(int)\n",
        "test.contract_until.dtype"
      ],
      "metadata": {
        "colab": {
          "base_uri": "https://localhost:8080/"
        },
        "id": "uHOu2Wbvw3L4",
        "outputId": "d23df1b2-2bbd-4f19-e1ff-0f6aedfdc3d1"
      },
      "execution_count": null,
      "outputs": [
        {
          "output_type": "execute_result",
          "data": {
            "text/plain": [
              "dtype('int64')"
            ]
          },
          "metadata": {},
          "execution_count": 178
        }
      ]
    },
    {
      "cell_type": "code",
      "source": [
        "sns.kdeplot(train.value)"
      ],
      "metadata": {
        "colab": {
          "base_uri": "https://localhost:8080/",
          "height": 297
        },
        "id": "zhcjEb32kV1u",
        "outputId": "05bf2cca-e0a7-4026-815b-6bad9f9105a2"
      },
      "execution_count": null,
      "outputs": [
        {
          "output_type": "execute_result",
          "data": {
            "text/plain": [
              "<matplotlib.axes._subplots.AxesSubplot at 0x7f4e6ec3d890>"
            ]
          },
          "metadata": {},
          "execution_count": 118
        },
        {
          "output_type": "display_data",
          "data": {
            "image/png": "[encoded data removed]",
            "text/plain": [
              "<Figure size 432x288 with 1 Axes>"
            ]
          },
          "metadata": {
            "needs_background": "light"
          }
        }
      ]
    },
    {
      "cell_type": "code",
      "source": [
        "train.value = np.log1p(train.value)"
      ],
      "metadata": {
        "id": "C-A2GgETubhI"
      },
      "execution_count": null,
      "outputs": []
    },
    {
      "cell_type": "code",
      "source": [
        "sns.scatterplot('age', 'value', data=train)"
      ],
      "metadata": {
        "colab": {
          "base_uri": "https://localhost:8080/",
          "height": 364
        },
        "id": "NdZiC51Ut21e",
        "outputId": "73309c69-df01-4d3a-ad6b-cc1c31eac105"
      },
      "execution_count": null,
      "outputs": [
        {
          "output_type": "stream",
          "name": "stderr",
          "text": [
            "/usr/local/lib/python3.7/dist-packages/seaborn/_decorators.py:43: FutureWarning: Pass the following variables as keyword args: x, y. From version 0.12, the only valid positional argument will be `data`, and passing other arguments without an explicit keyword will result in an error or misinterpretation.\n",
            "  FutureWarning\n"
          ]
        },
        {
          "output_type": "execute_result",
          "data": {
            "text/plain": [
              "<matplotlib.axes._subplots.AxesSubplot at 0x7f4e701393d0>"
            ]
          },
          "metadata": {},
          "execution_count": 73
        },
        {
          "output_type": "display_data",
          "data": {
            "image/png": "[encoded data removed]",
            "text/plain": [
              "<Figure size 432x288 with 1 Axes>"
            ]
          },
          "metadata": {
            "needs_background": "light"
          }
        }
      ]
    },
    {
      "cell_type": "code",
      "source": [
        "sns.kdeplot(train.age)"
      ],
      "metadata": {
        "colab": {
          "base_uri": "https://localhost:8080/",
          "height": 297
        },
        "id": "EJX6mif-uUyT",
        "outputId": "d175d444-1f8e-4b36-8f42-ab169dba0434"
      },
      "execution_count": null,
      "outputs": [
        {
          "output_type": "execute_result",
          "data": {
            "text/plain": [
              "<matplotlib.axes._subplots.AxesSubplot at 0x7f4e6f500650>"
            ]
          },
          "metadata": {},
          "execution_count": 117
        },
        {
          "output_type": "display_data",
          "data": {
            "image/png": "[encoded data removed]",
            "text/plain": [
              "<Figure size 432x288 with 1 Axes>"
            ]
          },
          "metadata": {
            "needs_background": "light"
          }
        }
      ]
    },
    {
      "cell_type": "code",
      "source": [
        "X_tr = train.drop(['name', 'id', 'value'], axis=1)\n",
        "y_tr = train['value']"
      ],
      "metadata": {
        "id": "XJuruDU1upJQ"
      },
      "execution_count": null,
      "outputs": []
    },
    {
      "cell_type": "code",
      "source": [
        "test = test.drop(['name', 'id'], axis=1)"
      ],
      "metadata": {
        "id": "dWo4EO-twjZD"
      },
      "execution_count": null,
      "outputs": []
    },
    {
      "cell_type": "code",
      "source": [
        "X_tr.head()"
      ],
      "metadata": {
        "colab": {
          "base_uri": "https://localhost:8080/",
          "height": 304
        },
        "id": "7nApX7SDu7_p",
        "outputId": "9cf2523c-18a4-4821-b73a-8ffab4409ef8"
      },
      "execution_count": null,
      "outputs": [
        {
          "output_type": "execute_result",
          "data": {
            "text/html": [
              "\n",
              "  <div id=\"df-b7408079-527f-4db3-97ff-71312c01970a\">\n",
              "    <div class=\"colab-df-container\">\n",
              "      <div>\n",
              "<style scoped>\n",
              "    .dataframe tbody tr th:only-of-type {\n",
              "        vertical-align: middle;\n",
              "    }\n",
              "\n",
              "    .dataframe tbody tr th {\n",
              "        vertical-align: top;\n",
              "    }\n",
              "\n",
              "    .dataframe thead th {\n",
              "        text-align: right;\n",
              "    }\n",
              "</style>\n",
              "<table border=\"1\" class=\"dataframe\">\n",
              "  <thead>\n",
              "    <tr style=\"text-align: right;\">\n",
              "      <th></th>\n",
              "      <th>age</th>\n",
              "      <th>continent</th>\n",
              "      <th>contract_until</th>\n",
              "      <th>position</th>\n",
              "      <th>prefer_foot</th>\n",
              "      <th>reputation</th>\n",
              "      <th>stat_overall</th>\n",
              "      <th>stat_potential</th>\n",
              "      <th>stat_skill_moves</th>\n",
              "    </tr>\n",
              "  </thead>\n",
              "  <tbody>\n",
              "    <tr>\n",
              "      <th>0</th>\n",
              "      <td>31</td>\n",
              "      <td>south america</td>\n",
              "      <td>2021</td>\n",
              "      <td>ST</td>\n",
              "      <td>left</td>\n",
              "      <td>5.0</td>\n",
              "      <td>94</td>\n",
              "      <td>94</td>\n",
              "      <td>4.0</td>\n",
              "    </tr>\n",
              "    <tr>\n",
              "      <th>1</th>\n",
              "      <td>27</td>\n",
              "      <td>europe</td>\n",
              "      <td>2020</td>\n",
              "      <td>GK</td>\n",
              "      <td>right</td>\n",
              "      <td>4.0</td>\n",
              "      <td>91</td>\n",
              "      <td>93</td>\n",
              "      <td>1.0</td>\n",
              "    </tr>\n",
              "    <tr>\n",
              "      <th>2</th>\n",
              "      <td>31</td>\n",
              "      <td>south america</td>\n",
              "      <td>2021</td>\n",
              "      <td>ST</td>\n",
              "      <td>right</td>\n",
              "      <td>5.0</td>\n",
              "      <td>91</td>\n",
              "      <td>91</td>\n",
              "      <td>3.0</td>\n",
              "    </tr>\n",
              "    <tr>\n",
              "      <th>3</th>\n",
              "      <td>32</td>\n",
              "      <td>europe</td>\n",
              "      <td>2020</td>\n",
              "      <td>DF</td>\n",
              "      <td>right</td>\n",
              "      <td>4.0</td>\n",
              "      <td>91</td>\n",
              "      <td>91</td>\n",
              "      <td>3.0</td>\n",
              "    </tr>\n",
              "    <tr>\n",
              "      <th>4</th>\n",
              "      <td>25</td>\n",
              "      <td>europe</td>\n",
              "      <td>2021</td>\n",
              "      <td>GK</td>\n",
              "      <td>right</td>\n",
              "      <td>3.0</td>\n",
              "      <td>90</td>\n",
              "      <td>93</td>\n",
              "      <td>1.0</td>\n",
              "    </tr>\n",
              "  </tbody>\n",
              "</table>\n",
              "</div>\n",
              "      <button class=\"colab-df-convert\" onclick=\"convertToInteractive('df-b7408079-527f-4db3-97ff-71312c01970a')\"\n",
              "              title=\"Convert this dataframe to an interactive table.\"\n",
              "              style=\"display:none;\">\n",
              "        \n",
              "  <svg xmlns=\"http://www.w3.org/2000/svg\" height=\"24px\"viewBox=\"0 0 24 24\"\n",
              "       width=\"24px\">\n",
              "    <path d=\"M0 0h24v24H0V0z\" fill=\"none\"/>\n",
              "    <path d=\"M18.56 5.44l.94 2.06.94-2.06 2.06-.94-2.06-.94-.94-2.06-.94 2.06-2.06.94zm-11 1L8.5 8.5l.94-2.06 2.06-.94-2.06-.94L8.5 2.5l-.94 2.06-2.06.94zm10 10l.94 2.06.94-2.06 2.06-.94-2.06-.94-.94-2.06-.94 2.06-2.06.94z\"/><path d=\"M17.41 7.96l-1.37-1.37c-.4-.4-.92-.59-1.43-.59-.52 0-1.04.2-1.43.59L10.3 9.45l-7.72 7.72c-.78.78-.78 2.05 0 2.83L4 21.41c.39.39.9.59 1.41.59.51 0 1.02-.2 1.41-.59l7.78-7.78 2.81-2.81c.8-.78.8-2.07 0-2.86zM5.41 20L4 18.59l7.72-7.72 1.47 1.35L5.41 20z\"/>\n",
              "  </svg>\n",
              "      </button>\n",
              "      \n",
              "  <style>\n",
              "    .colab-df-container {\n",
              "      display:flex;\n",
              "      flex-wrap:wrap;\n",
              "      gap: 12px;\n",
              "    }\n",
              "\n",
              "    .colab-df-convert {\n",
              "      background-color: #E8F0FE;\n",
              "      border: none;\n",
              "      border-radius: 50%;\n",
              "      cursor: pointer;\n",
              "      display: none;\n",
              "      fill: #1967D2;\n",
              "      height: 32px;\n",
              "      padding: 0 0 0 0;\n",
              "      width: 32px;\n",
              "    }\n",
              "\n",
              "    .colab-df-convert:hover {\n",
              "      background-color: #E2EBFA;\n",
              "      box-shadow: 0px 1px 2px rgba(60, 64, 67, 0.3), 0px 1px 3px 1px rgba(60, 64, 67, 0.15);\n",
              "      fill: #174EA6;\n",
              "    }\n",
              "\n",
              "    [theme=dark] .colab-df-convert {\n",
              "      background-color: #3B4455;\n",
              "      fill: #D2E3FC;\n",
              "    }\n",
              "\n",
              "    [theme=dark] .colab-df-convert:hover {\n",
              "      background-color: #434B5C;\n",
              "      box-shadow: 0px 1px 3px 1px rgba(0, 0, 0, 0.15);\n",
              "      filter: drop-shadow(0px 1px 2px rgba(0, 0, 0, 0.3));\n",
              "      fill: #FFFFFF;\n",
              "    }\n",
              "  </style>\n",
              "\n",
              "      <script>\n",
              "        const buttonEl =\n",
              "          document.querySelector('#df-b7408079-527f-4db3-97ff-71312c01970a button.colab-df-convert');\n",
              "        buttonEl.style.display =\n",
              "          google.colab.kernel.accessAllowed ? 'block' : 'none';\n",
              "\n",
              "        async function convertToInteractive(key) {\n",
              "          const element = document.querySelector('#df-b7408079-527f-4db3-97ff-71312c01970a');\n",
              "          const dataTable =\n",
              "            await google.colab.kernel.invokeFunction('convertToInteractive',\n",
              "                                                     [key], {});\n",
              "          if (!dataTable) return;\n",
              "\n",
              "          const docLinkHtml = 'Like what you see? Visit the ' +\n",
              "            '<a target=\"_blank\" href=https://colab.research.google.com/notebooks/data_table.ipynb>data table notebook</a>'\n",
              "            + ' to learn more about interactive tables.';\n",
              "          element.innerHTML = '';\n",
              "          dataTable['output_type'] = 'display_data';\n",
              "          await google.colab.output.renderOutput(dataTable, element);\n",
              "          const docLink = document.createElement('div');\n",
              "          docLink.innerHTML = docLinkHtml;\n",
              "          element.appendChild(docLink);\n",
              "        }\n",
              "      </script>\n",
              "    </div>\n",
              "  </div>\n",
              "  "
            ],
            "text/plain": [
              "   age      continent  ...  stat_potential stat_skill_moves\n",
              "0   31  south america  ...              94              4.0\n",
              "1   27         europe  ...              93              1.0\n",
              "2   31  south america  ...              91              3.0\n",
              "3   32         europe  ...              91              3.0\n",
              "4   25         europe  ...              93              1.0\n",
              "\n",
              "[5 rows x 9 columns]"
            ]
          },
          "metadata": {},
          "execution_count": 126
        }
      ]
    },
    {
      "cell_type": "code",
      "source": [
        "X_tr = pd.get_dummies(columns = ['continent', 'position', 'prefer_foot'], data=X_tr)"
      ],
      "metadata": {
        "id": "nlhzxHA6u-YT"
      },
      "execution_count": null,
      "outputs": []
    },
    {
      "cell_type": "code",
      "source": [
        "test = pd.get_dummies(columns = ['continent', 'position', 'prefer_foot'], data=test)"
      ],
      "metadata": {
        "id": "a8sCUFIDwpau"
      },
      "execution_count": null,
      "outputs": []
    },
    {
      "cell_type": "code",
      "source": [
        "X_tr.head()"
      ],
      "metadata": {
        "colab": {
          "base_uri": "https://localhost:8080/",
          "height": 287
        },
        "id": "Dajb4850vY78",
        "outputId": "db6b1376-19d8-4b62-a437-abe782ee000d"
      },
      "execution_count": null,
      "outputs": [
        {
          "output_type": "execute_result",
          "data": {
            "text/html": [
              "\n",
              "  <div id=\"df-8d18e3b3-829b-4bb6-ae7e-4d4e2fcc8cc1\">\n",
              "    <div class=\"colab-df-container\">\n",
              "      <div>\n",
              "<style scoped>\n",
              "    .dataframe tbody tr th:only-of-type {\n",
              "        vertical-align: middle;\n",
              "    }\n",
              "\n",
              "    .dataframe tbody tr th {\n",
              "        vertical-align: top;\n",
              "    }\n",
              "\n",
              "    .dataframe thead th {\n",
              "        text-align: right;\n",
              "    }\n",
              "</style>\n",
              "<table border=\"1\" class=\"dataframe\">\n",
              "  <thead>\n",
              "    <tr style=\"text-align: right;\">\n",
              "      <th></th>\n",
              "      <th>age</th>\n",
              "      <th>contract_until</th>\n",
              "      <th>reputation</th>\n",
              "      <th>stat_overall</th>\n",
              "      <th>stat_potential</th>\n",
              "      <th>stat_skill_moves</th>\n",
              "      <th>continent_africa</th>\n",
              "      <th>continent_asia</th>\n",
              "      <th>continent_europe</th>\n",
              "      <th>continent_oceania</th>\n",
              "      <th>continent_south america</th>\n",
              "      <th>position_DF</th>\n",
              "      <th>position_GK</th>\n",
              "      <th>position_MF</th>\n",
              "      <th>position_ST</th>\n",
              "      <th>prefer_foot_left</th>\n",
              "      <th>prefer_foot_right</th>\n",
              "    </tr>\n",
              "  </thead>\n",
              "  <tbody>\n",
              "    <tr>\n",
              "      <th>0</th>\n",
              "      <td>31</td>\n",
              "      <td>2021</td>\n",
              "      <td>5.0</td>\n",
              "      <td>94</td>\n",
              "      <td>94</td>\n",
              "      <td>4.0</td>\n",
              "      <td>0</td>\n",
              "      <td>0</td>\n",
              "      <td>0</td>\n",
              "      <td>0</td>\n",
              "      <td>1</td>\n",
              "      <td>0</td>\n",
              "      <td>0</td>\n",
              "      <td>0</td>\n",
              "      <td>1</td>\n",
              "      <td>1</td>\n",
              "      <td>0</td>\n",
              "    </tr>\n",
              "    <tr>\n",
              "      <th>1</th>\n",
              "      <td>27</td>\n",
              "      <td>2020</td>\n",
              "      <td>4.0</td>\n",
              "      <td>91</td>\n",
              "      <td>93</td>\n",
              "      <td>1.0</td>\n",
              "      <td>0</td>\n",
              "      <td>0</td>\n",
              "      <td>1</td>\n",
              "      <td>0</td>\n",
              "      <td>0</td>\n",
              "      <td>0</td>\n",
              "      <td>1</td>\n",
              "      <td>0</td>\n",
              "      <td>0</td>\n",
              "      <td>0</td>\n",
              "      <td>1</td>\n",
              "    </tr>\n",
              "    <tr>\n",
              "      <th>2</th>\n",
              "      <td>31</td>\n",
              "      <td>2021</td>\n",
              "      <td>5.0</td>\n",
              "      <td>91</td>\n",
              "      <td>91</td>\n",
              "      <td>3.0</td>\n",
              "      <td>0</td>\n",
              "      <td>0</td>\n",
              "      <td>0</td>\n",
              "      <td>0</td>\n",
              "      <td>1</td>\n",
              "      <td>0</td>\n",
              "      <td>0</td>\n",
              "      <td>0</td>\n",
              "      <td>1</td>\n",
              "      <td>0</td>\n",
              "      <td>1</td>\n",
              "    </tr>\n",
              "    <tr>\n",
              "      <th>3</th>\n",
              "      <td>32</td>\n",
              "      <td>2020</td>\n",
              "      <td>4.0</td>\n",
              "      <td>91</td>\n",
              "      <td>91</td>\n",
              "      <td>3.0</td>\n",
              "      <td>0</td>\n",
              "      <td>0</td>\n",
              "      <td>1</td>\n",
              "      <td>0</td>\n",
              "      <td>0</td>\n",
              "      <td>1</td>\n",
              "      <td>0</td>\n",
              "      <td>0</td>\n",
              "      <td>0</td>\n",
              "      <td>0</td>\n",
              "      <td>1</td>\n",
              "    </tr>\n",
              "    <tr>\n",
              "      <th>4</th>\n",
              "      <td>25</td>\n",
              "      <td>2021</td>\n",
              "      <td>3.0</td>\n",
              "      <td>90</td>\n",
              "      <td>93</td>\n",
              "      <td>1.0</td>\n",
              "      <td>0</td>\n",
              "      <td>0</td>\n",
              "      <td>1</td>\n",
              "      <td>0</td>\n",
              "      <td>0</td>\n",
              "      <td>0</td>\n",
              "      <td>1</td>\n",
              "      <td>0</td>\n",
              "      <td>0</td>\n",
              "      <td>0</td>\n",
              "      <td>1</td>\n",
              "    </tr>\n",
              "  </tbody>\n",
              "</table>\n",
              "</div>\n",
              "      <button class=\"colab-df-convert\" onclick=\"convertToInteractive('df-8d18e3b3-829b-4bb6-ae7e-4d4e2fcc8cc1')\"\n",
              "              title=\"Convert this dataframe to an interactive table.\"\n",
              "              style=\"display:none;\">\n",
              "        \n",
              "  <svg xmlns=\"http://www.w3.org/2000/svg\" height=\"24px\"viewBox=\"0 0 24 24\"\n",
              "       width=\"24px\">\n",
              "    <path d=\"M0 0h24v24H0V0z\" fill=\"none\"/>\n",
              "    <path d=\"M18.56 5.44l.94 2.06.94-2.06 2.06-.94-2.06-.94-.94-2.06-.94 2.06-2.06.94zm-11 1L8.5 8.5l.94-2.06 2.06-.94-2.06-.94L8.5 2.5l-.94 2.06-2.06.94zm10 10l.94 2.06.94-2.06 2.06-.94-2.06-.94-.94-2.06-.94 2.06-2.06.94z\"/><path d=\"M17.41 7.96l-1.37-1.37c-.4-.4-.92-.59-1.43-.59-.52 0-1.04.2-1.43.59L10.3 9.45l-7.72 7.72c-.78.78-.78 2.05 0 2.83L4 21.41c.39.39.9.59 1.41.59.51 0 1.02-.2 1.41-.59l7.78-7.78 2.81-2.81c.8-.78.8-2.07 0-2.86zM5.41 20L4 18.59l7.72-7.72 1.47 1.35L5.41 20z\"/>\n",
              "  </svg>\n",
              "      </button>\n",
              "      \n",
              "  <style>\n",
              "    .colab-df-container {\n",
              "      display:flex;\n",
              "      flex-wrap:wrap;\n",
              "      gap: 12px;\n",
              "    }\n",
              "\n",
              "    .colab-df-convert {\n",
              "      background-color: #E8F0FE;\n",
              "      border: none;\n",
              "      border-radius: 50%;\n",
              "      cursor: pointer;\n",
              "      display: none;\n",
              "      fill: #1967D2;\n",
              "      height: 32px;\n",
              "      padding: 0 0 0 0;\n",
              "      width: 32px;\n",
              "    }\n",
              "\n",
              "    .colab-df-convert:hover {\n",
              "      background-color: #E2EBFA;\n",
              "      box-shadow: 0px 1px 2px rgba(60, 64, 67, 0.3), 0px 1px 3px 1px rgba(60, 64, 67, 0.15);\n",
              "      fill: #174EA6;\n",
              "    }\n",
              "\n",
              "    [theme=dark] .colab-df-convert {\n",
              "      background-color: #3B4455;\n",
              "      fill: #D2E3FC;\n",
              "    }\n",
              "\n",
              "    [theme=dark] .colab-df-convert:hover {\n",
              "      background-color: #434B5C;\n",
              "      box-shadow: 0px 1px 3px 1px rgba(0, 0, 0, 0.15);\n",
              "      filter: drop-shadow(0px 1px 2px rgba(0, 0, 0, 0.3));\n",
              "      fill: #FFFFFF;\n",
              "    }\n",
              "  </style>\n",
              "\n",
              "      <script>\n",
              "        const buttonEl =\n",
              "          document.querySelector('#df-8d18e3b3-829b-4bb6-ae7e-4d4e2fcc8cc1 button.colab-df-convert');\n",
              "        buttonEl.style.display =\n",
              "          google.colab.kernel.accessAllowed ? 'block' : 'none';\n",
              "\n",
              "        async function convertToInteractive(key) {\n",
              "          const element = document.querySelector('#df-8d18e3b3-829b-4bb6-ae7e-4d4e2fcc8cc1');\n",
              "          const dataTable =\n",
              "            await google.colab.kernel.invokeFunction('convertToInteractive',\n",
              "                                                     [key], {});\n",
              "          if (!dataTable) return;\n",
              "\n",
              "          const docLinkHtml = 'Like what you see? Visit the ' +\n",
              "            '<a target=\"_blank\" href=https://colab.research.google.com/notebooks/data_table.ipynb>data table notebook</a>'\n",
              "            + ' to learn more about interactive tables.';\n",
              "          element.innerHTML = '';\n",
              "          dataTable['output_type'] = 'display_data';\n",
              "          await google.colab.output.renderOutput(dataTable, element);\n",
              "          const docLink = document.createElement('div');\n",
              "          docLink.innerHTML = docLinkHtml;\n",
              "          element.appendChild(docLink);\n",
              "        }\n",
              "      </script>\n",
              "    </div>\n",
              "  </div>\n",
              "  "
            ],
            "text/plain": [
              "   age  contract_until  ...  prefer_foot_left  prefer_foot_right\n",
              "0   31            2021  ...                 1                  0\n",
              "1   27            2020  ...                 0                  1\n",
              "2   31            2021  ...                 0                  1\n",
              "3   32            2020  ...                 0                  1\n",
              "4   25            2021  ...                 0                  1\n",
              "\n",
              "[5 rows x 17 columns]"
            ]
          },
          "metadata": {},
          "execution_count": 156
        }
      ]
    },
    {
      "cell_type": "code",
      "source": [
        "test.head()"
      ],
      "metadata": {
        "colab": {
          "base_uri": "https://localhost:8080/",
          "height": 287
        },
        "id": "FKggOrNuwsXi",
        "outputId": "508dea1e-efec-4b42-acbf-cabc2ead1ad8"
      },
      "execution_count": null,
      "outputs": [
        {
          "output_type": "execute_result",
          "data": {
            "text/html": [
              "\n",
              "  <div id=\"df-c72f5503-962c-4804-89c1-ad7219973fe1\">\n",
              "    <div class=\"colab-df-container\">\n",
              "      <div>\n",
              "<style scoped>\n",
              "    .dataframe tbody tr th:only-of-type {\n",
              "        vertical-align: middle;\n",
              "    }\n",
              "\n",
              "    .dataframe tbody tr th {\n",
              "        vertical-align: top;\n",
              "    }\n",
              "\n",
              "    .dataframe thead th {\n",
              "        text-align: right;\n",
              "    }\n",
              "</style>\n",
              "<table border=\"1\" class=\"dataframe\">\n",
              "  <thead>\n",
              "    <tr style=\"text-align: right;\">\n",
              "      <th></th>\n",
              "      <th>age</th>\n",
              "      <th>contract_until</th>\n",
              "      <th>reputation</th>\n",
              "      <th>stat_overall</th>\n",
              "      <th>stat_potential</th>\n",
              "      <th>stat_skill_moves</th>\n",
              "      <th>continent_africa</th>\n",
              "      <th>continent_asia</th>\n",
              "      <th>continent_europe</th>\n",
              "      <th>continent_oceania</th>\n",
              "      <th>continent_south america</th>\n",
              "      <th>position_DF</th>\n",
              "      <th>position_GK</th>\n",
              "      <th>position_MF</th>\n",
              "      <th>position_ST</th>\n",
              "      <th>prefer_foot_left</th>\n",
              "      <th>prefer_foot_right</th>\n",
              "    </tr>\n",
              "  </thead>\n",
              "  <tbody>\n",
              "    <tr>\n",
              "      <th>0</th>\n",
              "      <td>33</td>\n",
              "      <td>2022</td>\n",
              "      <td>5.0</td>\n",
              "      <td>94</td>\n",
              "      <td>94</td>\n",
              "      <td>5.0</td>\n",
              "      <td>0</td>\n",
              "      <td>0</td>\n",
              "      <td>1</td>\n",
              "      <td>0</td>\n",
              "      <td>0</td>\n",
              "      <td>0</td>\n",
              "      <td>0</td>\n",
              "      <td>0</td>\n",
              "      <td>1</td>\n",
              "      <td>0</td>\n",
              "      <td>1</td>\n",
              "    </tr>\n",
              "    <tr>\n",
              "      <th>1</th>\n",
              "      <td>26</td>\n",
              "      <td>2022</td>\n",
              "      <td>5.0</td>\n",
              "      <td>92</td>\n",
              "      <td>93</td>\n",
              "      <td>5.0</td>\n",
              "      <td>0</td>\n",
              "      <td>0</td>\n",
              "      <td>0</td>\n",
              "      <td>0</td>\n",
              "      <td>1</td>\n",
              "      <td>0</td>\n",
              "      <td>0</td>\n",
              "      <td>0</td>\n",
              "      <td>1</td>\n",
              "      <td>0</td>\n",
              "      <td>1</td>\n",
              "    </tr>\n",
              "    <tr>\n",
              "      <th>2</th>\n",
              "      <td>27</td>\n",
              "      <td>2023</td>\n",
              "      <td>4.0</td>\n",
              "      <td>91</td>\n",
              "      <td>92</td>\n",
              "      <td>4.0</td>\n",
              "      <td>0</td>\n",
              "      <td>0</td>\n",
              "      <td>1</td>\n",
              "      <td>0</td>\n",
              "      <td>0</td>\n",
              "      <td>0</td>\n",
              "      <td>0</td>\n",
              "      <td>1</td>\n",
              "      <td>0</td>\n",
              "      <td>0</td>\n",
              "      <td>1</td>\n",
              "    </tr>\n",
              "    <tr>\n",
              "      <th>3</th>\n",
              "      <td>27</td>\n",
              "      <td>2020</td>\n",
              "      <td>4.0</td>\n",
              "      <td>91</td>\n",
              "      <td>91</td>\n",
              "      <td>4.0</td>\n",
              "      <td>0</td>\n",
              "      <td>0</td>\n",
              "      <td>1</td>\n",
              "      <td>0</td>\n",
              "      <td>0</td>\n",
              "      <td>0</td>\n",
              "      <td>0</td>\n",
              "      <td>0</td>\n",
              "      <td>1</td>\n",
              "      <td>0</td>\n",
              "      <td>1</td>\n",
              "    </tr>\n",
              "    <tr>\n",
              "      <th>4</th>\n",
              "      <td>32</td>\n",
              "      <td>2020</td>\n",
              "      <td>4.0</td>\n",
              "      <td>91</td>\n",
              "      <td>91</td>\n",
              "      <td>4.0</td>\n",
              "      <td>0</td>\n",
              "      <td>0</td>\n",
              "      <td>1</td>\n",
              "      <td>0</td>\n",
              "      <td>0</td>\n",
              "      <td>0</td>\n",
              "      <td>0</td>\n",
              "      <td>1</td>\n",
              "      <td>0</td>\n",
              "      <td>0</td>\n",
              "      <td>1</td>\n",
              "    </tr>\n",
              "  </tbody>\n",
              "</table>\n",
              "</div>\n",
              "      <button class=\"colab-df-convert\" onclick=\"convertToInteractive('df-c72f5503-962c-4804-89c1-ad7219973fe1')\"\n",
              "              title=\"Convert this dataframe to an interactive table.\"\n",
              "              style=\"display:none;\">\n",
              "        \n",
              "  <svg xmlns=\"http://www.w3.org/2000/svg\" height=\"24px\"viewBox=\"0 0 24 24\"\n",
              "       width=\"24px\">\n",
              "    <path d=\"M0 0h24v24H0V0z\" fill=\"none\"/>\n",
              "    <path d=\"M18.56 5.44l.94 2.06.94-2.06 2.06-.94-2.06-.94-.94-2.06-.94 2.06-2.06.94zm-11 1L8.5 8.5l.94-2.06 2.06-.94-2.06-.94L8.5 2.5l-.94 2.06-2.06.94zm10 10l.94 2.06.94-2.06 2.06-.94-2.06-.94-.94-2.06-.94 2.06-2.06.94z\"/><path d=\"M17.41 7.96l-1.37-1.37c-.4-.4-.92-.59-1.43-.59-.52 0-1.04.2-1.43.59L10.3 9.45l-7.72 7.72c-.78.78-.78 2.05 0 2.83L4 21.41c.39.39.9.59 1.41.59.51 0 1.02-.2 1.41-.59l7.78-7.78 2.81-2.81c.8-.78.8-2.07 0-2.86zM5.41 20L4 18.59l7.72-7.72 1.47 1.35L5.41 20z\"/>\n",
              "  </svg>\n",
              "      </button>\n",
              "      \n",
              "  <style>\n",
              "    .colab-df-container {\n",
              "      display:flex;\n",
              "      flex-wrap:wrap;\n",
              "      gap: 12px;\n",
              "    }\n",
              "\n",
              "    .colab-df-convert {\n",
              "      background-color: #E8F0FE;\n",
              "      border: none;\n",
              "      border-radius: 50%;\n",
              "      cursor: pointer;\n",
              "      display: none;\n",
              "      fill: #1967D2;\n",
              "      height: 32px;\n",
              "      padding: 0 0 0 0;\n",
              "      width: 32px;\n",
              "    }\n",
              "\n",
              "    .colab-df-convert:hover {\n",
              "      background-color: #E2EBFA;\n",
              "      box-shadow: 0px 1px 2px rgba(60, 64, 67, 0.3), 0px 1px 3px 1px rgba(60, 64, 67, 0.15);\n",
              "      fill: #174EA6;\n",
              "    }\n",
              "\n",
              "    [theme=dark] .colab-df-convert {\n",
              "      background-color: #3B4455;\n",
              "      fill: #D2E3FC;\n",
              "    }\n",
              "\n",
              "    [theme=dark] .colab-df-convert:hover {\n",
              "      background-color: #434B5C;\n",
              "      box-shadow: 0px 1px 3px 1px rgba(0, 0, 0, 0.15);\n",
              "      filter: drop-shadow(0px 1px 2px rgba(0, 0, 0, 0.3));\n",
              "      fill: #FFFFFF;\n",
              "    }\n",
              "  </style>\n",
              "\n",
              "      <script>\n",
              "        const buttonEl =\n",
              "          document.querySelector('#df-c72f5503-962c-4804-89c1-ad7219973fe1 button.colab-df-convert');\n",
              "        buttonEl.style.display =\n",
              "          google.colab.kernel.accessAllowed ? 'block' : 'none';\n",
              "\n",
              "        async function convertToInteractive(key) {\n",
              "          const element = document.querySelector('#df-c72f5503-962c-4804-89c1-ad7219973fe1');\n",
              "          const dataTable =\n",
              "            await google.colab.kernel.invokeFunction('convertToInteractive',\n",
              "                                                     [key], {});\n",
              "          if (!dataTable) return;\n",
              "\n",
              "          const docLinkHtml = 'Like what you see? Visit the ' +\n",
              "            '<a target=\"_blank\" href=https://colab.research.google.com/notebooks/data_table.ipynb>data table notebook</a>'\n",
              "            + ' to learn more about interactive tables.';\n",
              "          element.innerHTML = '';\n",
              "          dataTable['output_type'] = 'display_data';\n",
              "          await google.colab.output.renderOutput(dataTable, element);\n",
              "          const docLink = document.createElement('div');\n",
              "          docLink.innerHTML = docLinkHtml;\n",
              "          element.appendChild(docLink);\n",
              "        }\n",
              "      </script>\n",
              "    </div>\n",
              "  </div>\n",
              "  "
            ],
            "text/plain": [
              "   age contract_until  ...  prefer_foot_left  prefer_foot_right\n",
              "0   33           2022  ...                 0                  1\n",
              "1   26           2022  ...                 0                  1\n",
              "2   27           2023  ...                 0                  1\n",
              "3   27           2020  ...                 0                  1\n",
              "4   32           2020  ...                 0                  1\n",
              "\n",
              "[5 rows x 17 columns]"
            ]
          },
          "metadata": {},
          "execution_count": 175
        }
      ]
    },
    {
      "cell_type": "markdown",
      "source": [
        "### Building models"
      ],
      "metadata": {
        "id": "ATbMAqnmp3DH"
      }
    },
    {
      "cell_type": "code",
      "source": [
        "!pip install bayesian-optimization"
      ],
      "metadata": {
        "colab": {
          "base_uri": "https://localhost:8080/"
        },
        "id": "YzylkY2kL71z",
        "outputId": "3120c426-6c46-4979-890d-31eb0b768b1b"
      },
      "execution_count": null,
      "outputs": [
        {
          "output_type": "stream",
          "name": "stdout",
          "text": [
            "Collecting bayesian-optimization\n",
            "  Downloading bayesian-optimization-1.2.0.tar.gz (14 kB)\n",
            "Requirement already satisfied: numpy>=1.9.0 in /usr/local/lib/python3.7/dist-packages (from bayesian-optimization) (1.19.5)\n",
            "Requirement already satisfied: scipy>=0.14.0 in /usr/local/lib/python3.7/dist-packages (from bayesian-optimization) (1.4.1)\n",
            "Requirement already satisfied: scikit-learn>=0.18.0 in /usr/local/lib/python3.7/dist-packages (from bayesian-optimization) (1.0.2)\n",
            "Requirement already satisfied: threadpoolctl>=2.0.0 in /usr/local/lib/python3.7/dist-packages (from scikit-learn>=0.18.0->bayesian-optimization) (3.0.0)\n",
            "Requirement already satisfied: joblib>=0.11 in /usr/local/lib/python3.7/dist-packages (from scikit-learn>=0.18.0->bayesian-optimization) (1.1.0)\n",
            "Building wheels for collected packages: bayesian-optimization\n",
            "  Building wheel for bayesian-optimization (setup.py) ... \u001b[?25l\u001b[?25hdone\n",
            "  Created wheel for bayesian-optimization: filename=bayesian_optimization-1.2.0-py3-none-any.whl size=11685 sha256=b4665342af9b21ee4e22fce76157b24696583b80b3db28f5934d17e5594d3e92\n",
            "  Stored in directory: /root/.cache/pip/wheels/fd/9b/71/f127d694e02eb40bcf18c7ae9613b88a6be4470f57a8528c5b\n",
            "Successfully built bayesian-optimization\n",
            "Installing collected packages: bayesian-optimization\n",
            "Successfully installed bayesian-optimization-1.2.0\n"
          ]
        }
      ]
    },
    {
      "cell_type": "code",
      "source": [
        "from sklearn.metrics import *\n",
        "from sklearn.model_selection import cross_val_score, GridSearchCV, KFold\n",
        "\n",
        "from sklearn.ensemble import RandomForestRegressor, GradientBoostingRegressor, VotingRegressor\n",
        "from xgboost import XGBRegressor\n",
        "from lightgbm import LGBMRegressor\n",
        "\n",
        "# use bayesian optimizer\n",
        "from bayes_opt import BayesianOptimization"
      ],
      "metadata": {
        "id": "_9-Yd804ksrB"
      },
      "execution_count": null,
      "outputs": []
    },
    {
      "cell_type": "markdown",
      "source": [
        "#### XGBoost"
      ],
      "metadata": {
        "id": "73NcuzSA1ese"
      }
    },
    {
      "cell_type": "code",
      "source": [
        ""
      ],
      "metadata": {
        "id": "nuV6SINqvpxn"
      },
      "execution_count": null,
      "outputs": []
    },
    {
      "cell_type": "code",
      "source": [
        "# XGBoostRegressor + BayesianOptimization\n",
        "\n",
        "pbounds = { 'learning_rate': (0.0001, 0.4),\n",
        "            'n_estimators': (16, 1024),\n",
        "            'max_depth': (3,10),   \n",
        "            'subsample': (0.5, 1),  \n",
        "            'colsample_bytree': (0.5, 1),   \n",
        "            'gamma': (0, 5)}\n",
        "\n",
        "def xgb_opt(learning_rate, n_estimators, max_depth, subsample, colsample_bytree, gamma):\n",
        "    \n",
        "    params = {\n",
        "        'learning_rate': learning_rate,\n",
        "        'n_estimators' : int(round(n_estimators)),\n",
        "        'max_depth' : int(round(max_depth)),\n",
        "        'subsample': subsample,\n",
        "        'colsample': colsample_bytree,   \n",
        "        'gamma': gamma,\n",
        "        'n_jobs' : -1,\n",
        "        'random_state' : 777\n",
        "    }\n",
        "    \n",
        "    xgb = XGBRegressor(**params)\n",
        "    \n",
        "    kf = KFold(n_splits = 4 , shuffle=True, random_state=50)\n",
        "\n",
        "    score = cross_val_score(xgb, X_tr, y_tr, scoring='neg_mean_squared_error', cv=kf, n_jobs=-1)\n",
        "    \n",
        "    return np.mean(score)\n",
        "\n",
        "BO_xgb = BayesianOptimization(f = xgb_opt, pbounds = pbounds, random_state=0)\n",
        "\n",
        "BO_xgb.maximize(init_points = 10, n_iter = 50)"
      ],
      "metadata": {
        "colab": {
          "base_uri": "https://localhost:8080/"
        },
        "id": "MVWds16pxHHx",
        "outputId": "d39429ee-64a6-46bd-97ec-8606bce70cf7"
      },
      "execution_count": null,
      "outputs": [
        {
          "output_type": "stream",
          "name": "stdout",
          "text": [
            "|   iter    |  target   | colsam... |   gamma   | learni... | max_depth | n_esti... | subsample |\n",
            "-------------------------------------------------------------------------------------------------\n",
            "| \u001b[0m 1       \u001b[0m | \u001b[0m-0.07679 \u001b[0m | \u001b[0m 0.7744  \u001b[0m | \u001b[0m 3.576   \u001b[0m | \u001b[0m 0.2411  \u001b[0m | \u001b[0m 6.814   \u001b[0m | \u001b[0m 443.0   \u001b[0m | \u001b[0m 0.8229  \u001b[0m |\n",
            "| \u001b[0m 2       \u001b[0m | \u001b[0m-0.08194 \u001b[0m | \u001b[0m 0.7188  \u001b[0m | \u001b[0m 4.459   \u001b[0m | \u001b[0m 0.3855  \u001b[0m | \u001b[0m 5.684   \u001b[0m | \u001b[0m 814.1   \u001b[0m | \u001b[0m 0.7644  \u001b[0m |\n",
            "| \u001b[0m 3       \u001b[0m | \u001b[0m-22.56   \u001b[0m | \u001b[0m 0.784   \u001b[0m | \u001b[0m 4.628   \u001b[0m | \u001b[0m 0.02851 \u001b[0m | \u001b[0m 3.61    \u001b[0m | \u001b[0m 36.38   \u001b[0m | \u001b[0m 0.9163  \u001b[0m |\n",
            "| \u001b[0m 4       \u001b[0m | \u001b[0m-0.0768  \u001b[0m | \u001b[0m 0.8891  \u001b[0m | \u001b[0m 4.35    \u001b[0m | \u001b[0m 0.3914  \u001b[0m | \u001b[0m 8.594   \u001b[0m | \u001b[0m 481.2   \u001b[0m | \u001b[0m 0.8903  \u001b[0m |\n",
            "| \u001b[95m 5       \u001b[0m | \u001b[95m-0.0739  \u001b[0m | \u001b[95m 0.5591  \u001b[0m | \u001b[95m 3.2     \u001b[0m | \u001b[95m 0.05743 \u001b[0m | \u001b[95m 9.613   \u001b[0m | \u001b[95m 542.0   \u001b[0m | \u001b[95m 0.7073  \u001b[0m |\n",
            "| \u001b[0m 6       \u001b[0m | \u001b[0m-0.08364 \u001b[0m | \u001b[0m 0.6323  \u001b[0m | \u001b[0m 3.871   \u001b[0m | \u001b[0m 0.1825  \u001b[0m | \u001b[0m 6.979   \u001b[0m | \u001b[0m 34.94   \u001b[0m | \u001b[0m 0.8088  \u001b[0m |\n",
            "| \u001b[95m 7       \u001b[0m | \u001b[95m-0.07169 \u001b[0m | \u001b[95m 0.806   \u001b[0m | \u001b[95m 3.085   \u001b[0m | \u001b[95m 0.3775  \u001b[0m | \u001b[95m 7.773   \u001b[0m | \u001b[95m 378.4   \u001b[0m | \u001b[95m 0.7185  \u001b[0m |\n",
            "| \u001b[95m 8       \u001b[0m | \u001b[95m-0.04656 \u001b[0m | \u001b[95m 0.8488  \u001b[0m | \u001b[95m 0.3011  \u001b[0m | \u001b[95m 0.2667  \u001b[0m | \u001b[95m 7.694   \u001b[0m | \u001b[95m 228.1   \u001b[0m | \u001b[95m 0.5645  \u001b[0m |\n",
            "| \u001b[0m 9       \u001b[0m | \u001b[0m-0.06799 \u001b[0m | \u001b[0m 0.6577  \u001b[0m | \u001b[0m 1.819   \u001b[0m | \u001b[0m 0.2281  \u001b[0m | \u001b[0m 6.07    \u001b[0m | \u001b[0m 1.012e+0\u001b[0m | \u001b[0m 0.551   \u001b[0m |\n",
            "| \u001b[0m 10      \u001b[0m | \u001b[0m-0.06006 \u001b[0m | \u001b[0m 0.6044  \u001b[0m | \u001b[0m 0.8065  \u001b[0m | \u001b[0m 0.2613  \u001b[0m | \u001b[0m 4.773   \u001b[0m | \u001b[0m 486.0   \u001b[0m | \u001b[0m 0.6222  \u001b[0m |\n",
            "| \u001b[0m 11      \u001b[0m | \u001b[0m-0.07618 \u001b[0m | \u001b[0m 0.6562  \u001b[0m | \u001b[0m 3.529   \u001b[0m | \u001b[0m 0.324   \u001b[0m | \u001b[0m 6.999   \u001b[0m | \u001b[0m 443.1   \u001b[0m | \u001b[0m 0.9441  \u001b[0m |\n",
            "| \u001b[0m 12      \u001b[0m | \u001b[0m-0.06854 \u001b[0m | \u001b[0m 0.7123  \u001b[0m | \u001b[0m 1.687   \u001b[0m | \u001b[0m 0.1862  \u001b[0m | \u001b[0m 9.279   \u001b[0m | \u001b[0m 34.0    \u001b[0m | \u001b[0m 0.689   \u001b[0m |\n",
            "| \u001b[0m 13      \u001b[0m | \u001b[0m-0.08251 \u001b[0m | \u001b[0m 0.5595  \u001b[0m | \u001b[0m 4.862   \u001b[0m | \u001b[0m 0.2074  \u001b[0m | \u001b[0m 9.027   \u001b[0m | \u001b[0m 31.92   \u001b[0m | \u001b[0m 0.861   \u001b[0m |\n",
            "| \u001b[0m 14      \u001b[0m | \u001b[0m-0.2975  \u001b[0m | \u001b[0m 0.6087  \u001b[0m | \u001b[0m 3.766   \u001b[0m | \u001b[0m 0.0872  \u001b[0m | \u001b[0m 9.662   \u001b[0m | \u001b[0m 36.56   \u001b[0m | \u001b[0m 0.8627  \u001b[0m |\n",
            "| \u001b[0m 15      \u001b[0m | \u001b[0m-0.06937 \u001b[0m | \u001b[0m 0.749   \u001b[0m | \u001b[0m 2.843   \u001b[0m | \u001b[0m 0.2902  \u001b[0m | \u001b[0m 8.675   \u001b[0m | \u001b[0m 485.4   \u001b[0m | \u001b[0m 0.7549  \u001b[0m |\n",
            "| \u001b[0m 16      \u001b[0m | \u001b[0m-0.08499 \u001b[0m | \u001b[0m 0.6176  \u001b[0m | \u001b[0m 4.699   \u001b[0m | \u001b[0m 0.2515  \u001b[0m | \u001b[0m 4.761   \u001b[0m | \u001b[0m 484.4   \u001b[0m | \u001b[0m 0.9276  \u001b[0m |\n",
            "| \u001b[0m 17      \u001b[0m | \u001b[0m-0.04672 \u001b[0m | \u001b[0m 0.7539  \u001b[0m | \u001b[0m 0.2506  \u001b[0m | \u001b[0m 0.2607  \u001b[0m | \u001b[0m 6.229   \u001b[0m | \u001b[0m 482.0   \u001b[0m | \u001b[0m 0.9838  \u001b[0m |\n",
            "| \u001b[0m 18      \u001b[0m | \u001b[0m-0.0814  \u001b[0m | \u001b[0m 0.8839  \u001b[0m | \u001b[0m 3.244   \u001b[0m | \u001b[0m 0.06784 \u001b[0m | \u001b[0m 3.918   \u001b[0m | \u001b[0m 479.8   \u001b[0m | \u001b[0m 0.6586  \u001b[0m |\n",
            "| \u001b[0m 19      \u001b[0m | \u001b[0m-0.08261 \u001b[0m | \u001b[0m 0.5952  \u001b[0m | \u001b[0m 3.754   \u001b[0m | \u001b[0m 0.02152 \u001b[0m | \u001b[0m 6.053   \u001b[0m | \u001b[0m 489.5   \u001b[0m | \u001b[0m 0.6343  \u001b[0m |\n",
            "| \u001b[95m 20      \u001b[0m | \u001b[95m-0.04237 \u001b[0m | \u001b[95m 0.9728  \u001b[0m | \u001b[95m 0.1449  \u001b[0m | \u001b[95m 0.2429  \u001b[0m | \u001b[95m 7.438   \u001b[0m | \u001b[95m 477.2   \u001b[0m | \u001b[95m 0.7146  \u001b[0m |\n",
            "| \u001b[0m 21      \u001b[0m | \u001b[0m-0.08713 \u001b[0m | \u001b[0m 0.5     \u001b[0m | \u001b[0m 4.685   \u001b[0m | \u001b[0m 0.4     \u001b[0m | \u001b[0m 7.101   \u001b[0m | \u001b[0m 476.7   \u001b[0m | \u001b[0m 1.0     \u001b[0m |\n",
            "| \u001b[0m 22      \u001b[0m | \u001b[0m-0.07652 \u001b[0m | \u001b[0m 0.8235  \u001b[0m | \u001b[0m 1.985   \u001b[0m | \u001b[0m 0.3815  \u001b[0m | \u001b[0m 4.068   \u001b[0m | \u001b[0m 474.9   \u001b[0m | \u001b[0m 0.5932  \u001b[0m |\n",
            "| \u001b[0m 23      \u001b[0m | \u001b[0m-0.06265 \u001b[0m | \u001b[0m 0.6677  \u001b[0m | \u001b[0m 1.446   \u001b[0m | \u001b[0m 0.08807 \u001b[0m | \u001b[0m 9.058   \u001b[0m | \u001b[0m 473.2   \u001b[0m | \u001b[0m 0.5402  \u001b[0m |\n",
            "| \u001b[0m 24      \u001b[0m | \u001b[0m-0.04564 \u001b[0m | \u001b[0m 0.8029  \u001b[0m | \u001b[0m 0.04289 \u001b[0m | \u001b[0m 0.2516  \u001b[0m | \u001b[0m 8.894   \u001b[0m | \u001b[0m 488.4   \u001b[0m | \u001b[0m 0.5656  \u001b[0m |\n",
            "| \u001b[0m 25      \u001b[0m | \u001b[0m-0.05858 \u001b[0m | \u001b[0m 1.0     \u001b[0m | \u001b[0m 0.0     \u001b[0m | \u001b[0m 0.4     \u001b[0m | \u001b[0m 4.449   \u001b[0m | \u001b[0m 490.9   \u001b[0m | \u001b[0m 0.5     \u001b[0m |\n",
            "| \u001b[0m 26      \u001b[0m | \u001b[0m-0.06798 \u001b[0m | \u001b[0m 0.7438  \u001b[0m | \u001b[0m 2.211   \u001b[0m | \u001b[0m 0.1273  \u001b[0m | \u001b[0m 8.49    \u001b[0m | \u001b[0m 493.0   \u001b[0m | \u001b[0m 0.7416  \u001b[0m |\n",
            "| \u001b[0m 27      \u001b[0m | \u001b[0m-0.08664 \u001b[0m | \u001b[0m 0.9949  \u001b[0m | \u001b[0m 4.234   \u001b[0m | \u001b[0m 0.1842  \u001b[0m | \u001b[0m 4.119   \u001b[0m | \u001b[0m 493.9   \u001b[0m | \u001b[0m 0.68    \u001b[0m |\n",
            "| \u001b[0m 28      \u001b[0m | \u001b[0m-0.0869  \u001b[0m | \u001b[0m 1.0     \u001b[0m | \u001b[0m 5.0     \u001b[0m | \u001b[0m 0.4     \u001b[0m | \u001b[0m 10.0    \u001b[0m | \u001b[0m 489.5   \u001b[0m | \u001b[0m 1.0     \u001b[0m |\n",
            "| \u001b[0m 29      \u001b[0m | \u001b[0m-163.0   \u001b[0m | \u001b[0m 1.0     \u001b[0m | \u001b[0m 5.0     \u001b[0m | \u001b[0m 0.0001  \u001b[0m | \u001b[0m 6.243   \u001b[0m | \u001b[0m 471.9   \u001b[0m | \u001b[0m 0.5     \u001b[0m |\n",
            "| \u001b[0m 30      \u001b[0m | \u001b[0m-0.04771 \u001b[0m | \u001b[0m 0.5513  \u001b[0m | \u001b[0m 0.197   \u001b[0m | \u001b[0m 0.2832  \u001b[0m | \u001b[0m 4.66    \u001b[0m | \u001b[0m 496.3   \u001b[0m | \u001b[0m 0.7939  \u001b[0m |\n",
            "| \u001b[0m 31      \u001b[0m | \u001b[0m-0.07356 \u001b[0m | \u001b[0m 0.6022  \u001b[0m | \u001b[0m 2.908   \u001b[0m | \u001b[0m 0.05002 \u001b[0m | \u001b[0m 7.747   \u001b[0m | \u001b[0m 499.2   \u001b[0m | \u001b[0m 0.7411  \u001b[0m |\n",
            "| \u001b[0m 32      \u001b[0m | \u001b[0m-0.0783  \u001b[0m | \u001b[0m 0.5903  \u001b[0m | \u001b[0m 1.718   \u001b[0m | \u001b[0m 0.3001  \u001b[0m | \u001b[0m 3.403   \u001b[0m | \u001b[0m 501.3   \u001b[0m | \u001b[0m 0.6506  \u001b[0m |\n",
            "| \u001b[0m 33      \u001b[0m | \u001b[0m-0.05146 \u001b[0m | \u001b[0m 0.6206  \u001b[0m | \u001b[0m 0.7927  \u001b[0m | \u001b[0m 0.1497  \u001b[0m | \u001b[0m 8.181   \u001b[0m | \u001b[0m 503.7   \u001b[0m | \u001b[0m 0.7292  \u001b[0m |\n",
            "| \u001b[0m 34      \u001b[0m | \u001b[0m-0.06278 \u001b[0m | \u001b[0m 0.5805  \u001b[0m | \u001b[0m 0.1947  \u001b[0m | \u001b[0m 0.3304  \u001b[0m | \u001b[0m 3.389   \u001b[0m | \u001b[0m 477.4   \u001b[0m | \u001b[0m 0.6289  \u001b[0m |\n",
            "| \u001b[0m 35      \u001b[0m | \u001b[0m-0.07642 \u001b[0m | \u001b[0m 0.8946  \u001b[0m | \u001b[0m 1.002   \u001b[0m | \u001b[0m 0.2809  \u001b[0m | \u001b[0m 3.399   \u001b[0m | \u001b[0m 506.2   \u001b[0m | \u001b[0m 0.9519  \u001b[0m |\n",
            "| \u001b[0m 36      \u001b[0m | \u001b[0m-0.08189 \u001b[0m | \u001b[0m 0.8203  \u001b[0m | \u001b[0m 4.78    \u001b[0m | \u001b[0m 0.09731 \u001b[0m | \u001b[0m 4.736   \u001b[0m | \u001b[0m 503.8   \u001b[0m | \u001b[0m 0.9337  \u001b[0m |\n",
            "| \u001b[0m 37      \u001b[0m | \u001b[0m-0.08182 \u001b[0m | \u001b[0m 0.504   \u001b[0m | \u001b[0m 4.714   \u001b[0m | \u001b[0m 0.16    \u001b[0m | \u001b[0m 8.059   \u001b[0m | \u001b[0m 507.6   \u001b[0m | \u001b[0m 0.6699  \u001b[0m |\n",
            "| \u001b[0m 38      \u001b[0m | \u001b[0m-0.05379 \u001b[0m | \u001b[0m 0.6837  \u001b[0m | \u001b[0m 0.03515 \u001b[0m | \u001b[0m 0.365   \u001b[0m | \u001b[0m 7.345   \u001b[0m | \u001b[0m 509.7   \u001b[0m | \u001b[0m 0.5377  \u001b[0m |\n",
            "| \u001b[0m 39      \u001b[0m | \u001b[0m-0.08402 \u001b[0m | \u001b[0m 0.5503  \u001b[0m | \u001b[0m 2.82    \u001b[0m | \u001b[0m 0.1713  \u001b[0m | \u001b[0m 3.488   \u001b[0m | \u001b[0m 511.2   \u001b[0m | \u001b[0m 0.7121  \u001b[0m |\n",
            "| \u001b[0m 40      \u001b[0m | \u001b[0m-0.07108 \u001b[0m | \u001b[0m 0.5265  \u001b[0m | \u001b[0m 2.904   \u001b[0m | \u001b[0m 0.1942  \u001b[0m | \u001b[0m 7.818   \u001b[0m | \u001b[0m 514.6   \u001b[0m | \u001b[0m 0.7423  \u001b[0m |\n",
            "| \u001b[0m 41      \u001b[0m | \u001b[0m-0.06572 \u001b[0m | \u001b[0m 0.5047  \u001b[0m | \u001b[0m 0.821   \u001b[0m | \u001b[0m 0.1847  \u001b[0m | \u001b[0m 3.962   \u001b[0m | \u001b[0m 516.8   \u001b[0m | \u001b[0m 0.8521  \u001b[0m |\n",
            "| \u001b[0m 42      \u001b[0m | \u001b[0m-0.06796 \u001b[0m | \u001b[0m 0.603   \u001b[0m | \u001b[0m 1.907   \u001b[0m | \u001b[0m 0.08107 \u001b[0m | \u001b[0m 8.323   \u001b[0m | \u001b[0m 519.6   \u001b[0m | \u001b[0m 0.6433  \u001b[0m |\n",
            "| \u001b[0m 43      \u001b[0m | \u001b[0m-0.0819  \u001b[0m | \u001b[0m 0.9733  \u001b[0m | \u001b[0m 4.974   \u001b[0m | \u001b[0m 0.03554 \u001b[0m | \u001b[0m 9.674   \u001b[0m | \u001b[0m 503.3   \u001b[0m | \u001b[0m 0.7701  \u001b[0m |\n",
            "| \u001b[0m 44      \u001b[0m | \u001b[0m-0.08256 \u001b[0m | \u001b[0m 0.5096  \u001b[0m | \u001b[0m 3.703   \u001b[0m | \u001b[0m 0.175   \u001b[0m | \u001b[0m 4.022   \u001b[0m | \u001b[0m 521.2   \u001b[0m | \u001b[0m 0.7569  \u001b[0m |\n",
            "| \u001b[0m 45      \u001b[0m | \u001b[0m-0.08695 \u001b[0m | \u001b[0m 0.6779  \u001b[0m | \u001b[0m 4.945   \u001b[0m | \u001b[0m 0.07334 \u001b[0m | \u001b[0m 3.439   \u001b[0m | \u001b[0m 515.3   \u001b[0m | \u001b[0m 0.609   \u001b[0m |\n",
            "| \u001b[0m 46      \u001b[0m | \u001b[0m-162.8   \u001b[0m | \u001b[0m 0.5     \u001b[0m | \u001b[0m 2.806   \u001b[0m | \u001b[0m 0.0001  \u001b[0m | \u001b[0m 10.0    \u001b[0m | \u001b[0m 477.7   \u001b[0m | \u001b[0m 0.5     \u001b[0m |\n",
            "| \u001b[0m 47      \u001b[0m | \u001b[0m-0.07451 \u001b[0m | \u001b[0m 0.7454  \u001b[0m | \u001b[0m 2.651   \u001b[0m | \u001b[0m 0.1977  \u001b[0m | \u001b[0m 6.337   \u001b[0m | \u001b[0m 505.7   \u001b[0m | \u001b[0m 0.7708  \u001b[0m |\n",
            "| \u001b[0m 48      \u001b[0m | \u001b[0m-0.07967 \u001b[0m | \u001b[0m 0.7479  \u001b[0m | \u001b[0m 3.537   \u001b[0m | \u001b[0m 0.2     \u001b[0m | \u001b[0m 6.33    \u001b[0m | \u001b[0m 517.8   \u001b[0m | \u001b[0m 0.8664  \u001b[0m |\n",
            "| \u001b[0m 49      \u001b[0m | \u001b[0m-0.08371 \u001b[0m | \u001b[0m 0.5991  \u001b[0m | \u001b[0m 4.103   \u001b[0m | \u001b[0m 0.2701  \u001b[0m | \u001b[0m 4.843   \u001b[0m | \u001b[0m 507.9   \u001b[0m | \u001b[0m 0.8145  \u001b[0m |\n",
            "| \u001b[0m 50      \u001b[0m | \u001b[0m-0.08178 \u001b[0m | \u001b[0m 0.6416  \u001b[0m | \u001b[0m 3.802   \u001b[0m | \u001b[0m 0.3558  \u001b[0m | \u001b[0m 6.858   \u001b[0m | \u001b[0m 511.4   \u001b[0m | \u001b[0m 0.9988  \u001b[0m |\n",
            "| \u001b[0m 51      \u001b[0m | \u001b[0m-0.05735 \u001b[0m | \u001b[0m 0.8145  \u001b[0m | \u001b[0m 0.9121  \u001b[0m | \u001b[0m 0.2833  \u001b[0m | \u001b[0m 5.939   \u001b[0m | \u001b[0m 512.8   \u001b[0m | \u001b[0m 0.6313  \u001b[0m |\n",
            "| \u001b[0m 52      \u001b[0m | \u001b[0m-0.05491 \u001b[0m | \u001b[0m 0.6578  \u001b[0m | \u001b[0m 0.1609  \u001b[0m | \u001b[0m 0.2297  \u001b[0m | \u001b[0m 4.018   \u001b[0m | \u001b[0m 509.4   \u001b[0m | \u001b[0m 0.615   \u001b[0m |\n",
            "| \u001b[0m 53      \u001b[0m | \u001b[0m-0.07691 \u001b[0m | \u001b[0m 0.9894  \u001b[0m | \u001b[0m 3.093   \u001b[0m | \u001b[0m 0.3736  \u001b[0m | \u001b[0m 6.193   \u001b[0m | \u001b[0m 482.6   \u001b[0m | \u001b[0m 0.6923  \u001b[0m |\n",
            "| \u001b[0m 54      \u001b[0m | \u001b[0m-0.08097 \u001b[0m | \u001b[0m 0.907   \u001b[0m | \u001b[0m 4.132   \u001b[0m | \u001b[0m 0.1273  \u001b[0m | \u001b[0m 6.908   \u001b[0m | \u001b[0m 496.0   \u001b[0m | \u001b[0m 0.6497  \u001b[0m |\n",
            "| \u001b[0m 55      \u001b[0m | \u001b[0m-0.08612 \u001b[0m | \u001b[0m 0.7351  \u001b[0m | \u001b[0m 3.505   \u001b[0m | \u001b[0m 0.2958  \u001b[0m | \u001b[0m 4.26    \u001b[0m | \u001b[0m 497.8   \u001b[0m | \u001b[0m 0.6106  \u001b[0m |\n",
            "| \u001b[0m 56      \u001b[0m | \u001b[0m-0.08913 \u001b[0m | \u001b[0m 0.5151  \u001b[0m | \u001b[0m 3.553   \u001b[0m | \u001b[0m 0.242   \u001b[0m | \u001b[0m 3.074   \u001b[0m | \u001b[0m 487.8   \u001b[0m | \u001b[0m 0.6288  \u001b[0m |\n",
            "| \u001b[0m 57      \u001b[0m | \u001b[0m-0.06347 \u001b[0m | \u001b[0m 1.0     \u001b[0m | \u001b[0m 0.2467  \u001b[0m | \u001b[0m 0.4     \u001b[0m | \u001b[0m 5.1     \u001b[0m | \u001b[0m 520.3   \u001b[0m | \u001b[0m 1.0     \u001b[0m |\n",
            "| \u001b[0m 58      \u001b[0m | \u001b[0m-0.05551 \u001b[0m | \u001b[0m 0.9474  \u001b[0m | \u001b[0m 0.6571  \u001b[0m | \u001b[0m 0.01926 \u001b[0m | \u001b[0m 8.291   \u001b[0m | \u001b[0m 496.1   \u001b[0m | \u001b[0m 0.7069  \u001b[0m |\n",
            "| \u001b[0m 59      \u001b[0m | \u001b[0m-0.06219 \u001b[0m | \u001b[0m 0.564   \u001b[0m | \u001b[0m 1.94    \u001b[0m | \u001b[0m 0.08073 \u001b[0m | \u001b[0m 9.928   \u001b[0m | \u001b[0m 511.2   \u001b[0m | \u001b[0m 0.8806  \u001b[0m |\n",
            "| \u001b[0m 60      \u001b[0m | \u001b[0m-0.08331 \u001b[0m | \u001b[0m 0.9379  \u001b[0m | \u001b[0m 1.755   \u001b[0m | \u001b[0m 0.2338  \u001b[0m | \u001b[0m 3.057   \u001b[0m | \u001b[0m 483.0   \u001b[0m | \u001b[0m 0.9188  \u001b[0m |\n",
            "=================================================================================================\n"
          ]
        }
      ]
    },
    {
      "cell_type": "code",
      "source": [
        "BO_xgb.max"
      ],
      "metadata": {
        "colab": {
          "base_uri": "https://localhost:8080/"
        },
        "id": "zIJuHXr50hLL",
        "outputId": "5b1d0626-ae18-4e67-80a9-7e60d4e223d0"
      },
      "execution_count": null,
      "outputs": [
        {
          "output_type": "execute_result",
          "data": {
            "text/plain": [
              "{'params': {'colsample_bytree': 0.972782555703169,\n",
              "  'gamma': 0.14492251855876825,\n",
              "  'learning_rate': 0.2429332410805271,\n",
              "  'max_depth': 7.437516014721604,\n",
              "  'n_estimators': 477.19541006114633,\n",
              "  'subsample': 0.7146376647048138},\n",
              " 'target': -0.04237150718241418}"
            ]
          },
          "metadata": {},
          "execution_count": 182
        }
      ]
    },
    {
      "cell_type": "code",
      "source": [
        "params = BO_xgb.max['params']\n",
        "params['max_depth'] = int(round(params['max_depth']))\n",
        "params['n_estimators'] = int(round(params['n_estimators']))\n",
        "\n",
        "xgb = XGBRegressor(random_state = 777, **params)\n",
        "\n",
        "xgb.fit(X_tr, y_tr)"
      ],
      "metadata": {
        "colab": {
          "base_uri": "https://localhost:8080/"
        },
        "id": "H729Uu7p0lZq",
        "outputId": "08dfe070-043a-44e1-e80e-c4d026a8af92"
      },
      "execution_count": null,
      "outputs": [
        {
          "output_type": "stream",
          "name": "stdout",
          "text": [
            "[14:09:58] WARNING: /workspace/src/objective/regression_obj.cu:152: reg:linear is now deprecated in favor of reg:squarederror.\n"
          ]
        },
        {
          "output_type": "execute_result",
          "data": {
            "text/plain": [
              "XGBRegressor(colsample_bytree=0.972782555703169, gamma=0.14492251855876825,\n",
              "             learning_rate=0.2429332410805271, max_depth=7, n_estimators=477,\n",
              "             random_state=777, subsample=0.7146376647048138)"
            ]
          },
          "metadata": {},
          "execution_count": 184
        }
      ]
    },
    {
      "cell_type": "code",
      "source": [
        "pred_xgb = np.expm1(xgb.predict(test))"
      ],
      "metadata": {
        "id": "Xg6Bnav_0s3l"
      },
      "execution_count": null,
      "outputs": []
    },
    {
      "cell_type": "markdown",
      "source": [
        "#### Gradient Boosting"
      ],
      "metadata": {
        "id": "udXeSXJx1j6l"
      }
    },
    {
      "cell_type": "code",
      "source": [
        "# GradientBoostingRegressor + BayesianOptimization\n",
        "\n",
        "pbounds = { 'learning_rate': (0.0005, 0.2),\n",
        "            'n_estimators': (16, 512),\n",
        "            'max_depth': (3,10),   \n",
        "            'subsample': (0.5,1), \n",
        "            'min_samples_split': (2,5),   \n",
        "            'min_samples_leaf': (1,5)}\n",
        "\n",
        "def gbm_opt(learning_rate, n_estimators, max_depth, subsample, min_samples_split, min_samples_leaf):\n",
        "\n",
        "    params = {\n",
        "        'learning_rate': learning_rate,\n",
        "        'n_estimators' : int(round(n_estimators)),\n",
        "        'max_depth' : int(round(max_depth)),\n",
        "        'subsample': subsample,\n",
        "        'min_samples_split' : int(round(min_samples_split)),\n",
        "        'min_samples_leaf' : int(round(min_samples_leaf))\n",
        "    }\n",
        "    \n",
        "    gbm = GradientBoostingRegressor(**params)\n",
        "    kf = KFold(n_splits = 4 , shuffle = True, random_state=50)\n",
        "    score = cross_val_score(gbm, X_tr, y_tr, scoring='neg_mean_squared_error', cv = kf, n_jobs=-1)\n",
        "    return np.mean(score)\n",
        "\n",
        "BO_gbm = BayesianOptimization(f = gbm_opt, pbounds = pbounds, random_state=0)    \n",
        "\n",
        "BO_gbm.maximize(init_points = 10, n_iter = 50)"
      ],
      "metadata": {
        "colab": {
          "base_uri": "https://localhost:8080/"
        },
        "id": "Jz6UNrdmp6iV",
        "outputId": "29af51b3-c24c-47a6-a2a8-d1e711a8a2fb"
      },
      "execution_count": null,
      "outputs": [
        {
          "output_type": "stream",
          "name": "stdout",
          "text": [
            "|   iter    |  target   | learni... | max_depth | min_sa... | min_sa... | n_esti... | subsample |\n",
            "-------------------------------------------------------------------------------------------------\n",
            "| \u001b[0m 1       \u001b[0m | \u001b[0m-0.0388  \u001b[0m | \u001b[0m 0.11    \u001b[0m | \u001b[0m 8.006   \u001b[0m | \u001b[0m 3.411   \u001b[0m | \u001b[0m 3.635   \u001b[0m | \u001b[0m 226.1   \u001b[0m | \u001b[0m 0.8229  \u001b[0m |\n",
            "| \u001b[0m 2       \u001b[0m | \u001b[0m-0.0397  \u001b[0m | \u001b[0m 0.0878  \u001b[0m | \u001b[0m 9.242   \u001b[0m | \u001b[0m 4.855   \u001b[0m | \u001b[0m 3.15    \u001b[0m | \u001b[0m 408.7   \u001b[0m | \u001b[0m 0.7644  \u001b[0m |\n",
            "| \u001b[0m 3       \u001b[0m | \u001b[0m-0.04111 \u001b[0m | \u001b[0m 0.1138  \u001b[0m | \u001b[0m 9.479   \u001b[0m | \u001b[0m 1.284   \u001b[0m | \u001b[0m 2.261   \u001b[0m | \u001b[0m 26.03   \u001b[0m | \u001b[0m 0.9163  \u001b[0m |\n",
            "| \u001b[0m 4       \u001b[0m | \u001b[0m-0.0408  \u001b[0m | \u001b[0m 0.1557  \u001b[0m | \u001b[0m 9.09    \u001b[0m | \u001b[0m 4.914   \u001b[0m | \u001b[0m 4.397   \u001b[0m | \u001b[0m 244.9   \u001b[0m | \u001b[0m 0.8903  \u001b[0m |\n",
            "| \u001b[0m 5       \u001b[0m | \u001b[0m-0.04211 \u001b[0m | \u001b[0m 0.0241  \u001b[0m | \u001b[0m 7.479   \u001b[0m | \u001b[0m 1.573   \u001b[0m | \u001b[0m 4.834   \u001b[0m | \u001b[0m 274.8   \u001b[0m | \u001b[0m 0.7073  \u001b[0m |\n",
            "| \u001b[0m 6       \u001b[0m | \u001b[0m-0.1803  \u001b[0m | \u001b[0m 0.05328 \u001b[0m | \u001b[0m 8.42    \u001b[0m | \u001b[0m 2.825   \u001b[0m | \u001b[0m 3.705   \u001b[0m | \u001b[0m 25.32   \u001b[0m | \u001b[0m 0.8088  \u001b[0m |\n",
            "| \u001b[0m 7       \u001b[0m | \u001b[0m-0.04366 \u001b[0m | \u001b[0m 0.1226  \u001b[0m | \u001b[0m 7.319   \u001b[0m | \u001b[0m 4.775   \u001b[0m | \u001b[0m 4.045   \u001b[0m | \u001b[0m 194.3   \u001b[0m | \u001b[0m 0.7185  \u001b[0m |\n",
            "| \u001b[0m 8       \u001b[0m | \u001b[0m-0.07406 \u001b[0m | \u001b[0m 0.1397  \u001b[0m | \u001b[0m 3.422   \u001b[0m | \u001b[0m 3.667   \u001b[0m | \u001b[0m 4.012   \u001b[0m | \u001b[0m 120.3   \u001b[0m | \u001b[0m 0.5645  \u001b[0m |\n",
            "| \u001b[0m 9       \u001b[0m | \u001b[0m-0.04504 \u001b[0m | \u001b[0m 0.06343 \u001b[0m | \u001b[0m 5.546   \u001b[0m | \u001b[0m 3.281   \u001b[0m | \u001b[0m 3.316   \u001b[0m | \u001b[0m 506.2   \u001b[0m | \u001b[0m 0.551   \u001b[0m |\n",
            "| \u001b[0m 10      \u001b[0m | \u001b[0m-0.06604 \u001b[0m | \u001b[0m 0.04217 \u001b[0m | \u001b[0m 4.129   \u001b[0m | \u001b[0m 3.612   \u001b[0m | \u001b[0m 2.76    \u001b[0m | \u001b[0m 247.3   \u001b[0m | \u001b[0m 0.6222  \u001b[0m |\n",
            "| \u001b[0m 11      \u001b[0m | \u001b[0m-0.05492 \u001b[0m | \u001b[0m 0.1031  \u001b[0m | \u001b[0m 3.959   \u001b[0m | \u001b[0m 3.585   \u001b[0m | \u001b[0m 2.487   \u001b[0m | \u001b[0m 455.2   \u001b[0m | \u001b[0m 0.7975  \u001b[0m |\n",
            "| \u001b[0m 12      \u001b[0m | \u001b[0m-0.04043 \u001b[0m | \u001b[0m 0.05148 \u001b[0m | \u001b[0m 6.715   \u001b[0m | \u001b[0m 1.534   \u001b[0m | \u001b[0m 4.946   \u001b[0m | \u001b[0m 432.2   \u001b[0m | \u001b[0m 0.6572  \u001b[0m |\n",
            "| \u001b[0m 13      \u001b[0m | \u001b[0m-0.06265 \u001b[0m | \u001b[0m 0.1214  \u001b[0m | \u001b[0m 3.09    \u001b[0m | \u001b[0m 3.462   \u001b[0m | \u001b[0m 3.239   \u001b[0m | \u001b[0m 507.9   \u001b[0m | \u001b[0m 0.7121  \u001b[0m |\n",
            "| \u001b[0m 14      \u001b[0m | \u001b[0m-0.07089 \u001b[0m | \u001b[0m 0.03126 \u001b[0m | \u001b[0m 3.86    \u001b[0m | \u001b[0m 1.481   \u001b[0m | \u001b[0m 4.921   \u001b[0m | \u001b[0m 167.3   \u001b[0m | \u001b[0m 0.7557  \u001b[0m |\n",
            "| \u001b[0m 15      \u001b[0m | \u001b[0m-0.06754 \u001b[0m | \u001b[0m 0.03347 \u001b[0m | \u001b[0m 4.329   \u001b[0m | \u001b[0m 2.857   \u001b[0m | \u001b[0m 4.687   \u001b[0m | \u001b[0m 249.0   \u001b[0m | \u001b[0m 0.5954  \u001b[0m |\n",
            "| \u001b[0m 16      \u001b[0m | \u001b[0m-0.07469 \u001b[0m | \u001b[0m 0.04395 \u001b[0m | \u001b[0m 8.357   \u001b[0m | \u001b[0m 3.274   \u001b[0m | \u001b[0m 3.919   \u001b[0m | \u001b[0m 47.1    \u001b[0m | \u001b[0m 0.6623  \u001b[0m |\n",
            "| \u001b[0m 17      \u001b[0m | \u001b[0m-0.06351 \u001b[0m | \u001b[0m 0.1315  \u001b[0m | \u001b[0m 3.921   \u001b[0m | \u001b[0m 3.546   \u001b[0m | \u001b[0m 4.337   \u001b[0m | \u001b[0m 141.2   \u001b[0m | \u001b[0m 0.6211  \u001b[0m |\n",
            "| \u001b[0m 18      \u001b[0m | \u001b[0m-0.04436 \u001b[0m | \u001b[0m 0.1578  \u001b[0m | \u001b[0m 9.491   \u001b[0m | \u001b[0m 4.964   \u001b[0m | \u001b[0m 4.411   \u001b[0m | \u001b[0m 381.6   \u001b[0m | \u001b[0m 0.5565  \u001b[0m |\n",
            "| \u001b[0m 19      \u001b[0m | \u001b[0m-0.03994 \u001b[0m | \u001b[0m 0.1355  \u001b[0m | \u001b[0m 8.876   \u001b[0m | \u001b[0m 2.209   \u001b[0m | \u001b[0m 3.011   \u001b[0m | \u001b[0m 203.8   \u001b[0m | \u001b[0m 0.6559  \u001b[0m |\n",
            "| \u001b[0m 20      \u001b[0m | \u001b[0m-0.06001 \u001b[0m | \u001b[0m 0.04926 \u001b[0m | \u001b[0m 5.221   \u001b[0m | \u001b[0m 1.708   \u001b[0m | \u001b[0m 4.69    \u001b[0m | \u001b[0m 115.8   \u001b[0m | \u001b[0m 0.7708  \u001b[0m |\n",
            "| \u001b[0m 21      \u001b[0m | \u001b[0m-0.1704  \u001b[0m | \u001b[0m 0.07084 \u001b[0m | \u001b[0m 4.775   \u001b[0m | \u001b[0m 3.37    \u001b[0m | \u001b[0m 2.289   \u001b[0m | \u001b[0m 22.22   \u001b[0m | \u001b[0m 0.631   \u001b[0m |\n",
            "| \u001b[0m 22      \u001b[0m | \u001b[0m-0.05443 \u001b[0m | \u001b[0m 0.02783 \u001b[0m | \u001b[0m 4.824   \u001b[0m | \u001b[0m 1.904   \u001b[0m | \u001b[0m 2.388   \u001b[0m | \u001b[0m 499.6   \u001b[0m | \u001b[0m 0.7801  \u001b[0m |\n",
            "| \u001b[0m 23      \u001b[0m | \u001b[0m-0.04014 \u001b[0m | \u001b[0m 0.1853  \u001b[0m | \u001b[0m 6.743   \u001b[0m | \u001b[0m 2.394   \u001b[0m | \u001b[0m 3.676   \u001b[0m | \u001b[0m 150.5   \u001b[0m | \u001b[0m 0.9328  \u001b[0m |\n",
            "| \u001b[0m 24      \u001b[0m | \u001b[0m-0.07063 \u001b[0m | \u001b[0m 0.1082  \u001b[0m | \u001b[0m 4.254   \u001b[0m | \u001b[0m 3.35    \u001b[0m | \u001b[0m 2.823   \u001b[0m | \u001b[0m 57.23   \u001b[0m | \u001b[0m 0.5401  \u001b[0m |\n",
            "| \u001b[0m 25      \u001b[0m | \u001b[0m-0.07289 \u001b[0m | \u001b[0m 0.06449 \u001b[0m | \u001b[0m 3.299   \u001b[0m | \u001b[0m 4.475   \u001b[0m | \u001b[0m 3.165   \u001b[0m | \u001b[0m 245.7   \u001b[0m | \u001b[0m 0.6738  \u001b[0m |\n",
            "| \u001b[0m 26      \u001b[0m | \u001b[0m-0.04317 \u001b[0m | \u001b[0m 0.1064  \u001b[0m | \u001b[0m 6.618   \u001b[0m | \u001b[0m 4.877   \u001b[0m | \u001b[0m 4.163   \u001b[0m | \u001b[0m 181.1   \u001b[0m | \u001b[0m 0.7723  \u001b[0m |\n",
            "| \u001b[0m 27      \u001b[0m | \u001b[0m-0.8151  \u001b[0m | \u001b[0m 0.01826 \u001b[0m | \u001b[0m 9.444   \u001b[0m | \u001b[0m 1.451   \u001b[0m | \u001b[0m 2.397   \u001b[0m | \u001b[0m 26.36   \u001b[0m | \u001b[0m 0.8286  \u001b[0m |\n",
            "| \u001b[0m 28      \u001b[0m | \u001b[0m-0.04107 \u001b[0m | \u001b[0m 0.1946  \u001b[0m | \u001b[0m 7.845   \u001b[0m | \u001b[0m 2.694   \u001b[0m | \u001b[0m 2.267   \u001b[0m | \u001b[0m 53.48   \u001b[0m | \u001b[0m 0.6782  \u001b[0m |\n",
            "| \u001b[0m 29      \u001b[0m | \u001b[0m-0.039   \u001b[0m | \u001b[0m 0.1051  \u001b[0m | \u001b[0m 9.536   \u001b[0m | \u001b[0m 1.799   \u001b[0m | \u001b[0m 2.7     \u001b[0m | \u001b[0m 452.7   \u001b[0m | \u001b[0m 0.7464  \u001b[0m |\n",
            "| \u001b[0m 30      \u001b[0m | \u001b[0m-0.045   \u001b[0m | \u001b[0m 0.1297  \u001b[0m | \u001b[0m 6.039   \u001b[0m | \u001b[0m 2.584   \u001b[0m | \u001b[0m 2.848   \u001b[0m | \u001b[0m 401.9   \u001b[0m | \u001b[0m 0.6838  \u001b[0m |\n",
            "| \u001b[0m 31      \u001b[0m | \u001b[0m-0.03928 \u001b[0m | \u001b[0m 0.0197  \u001b[0m | \u001b[0m 8.397   \u001b[0m | \u001b[0m 2.873   \u001b[0m | \u001b[0m 3.509   \u001b[0m | \u001b[0m 299.9   \u001b[0m | \u001b[0m 0.5173  \u001b[0m |\n",
            "| \u001b[0m 32      \u001b[0m | \u001b[0m-0.04684 \u001b[0m | \u001b[0m 0.04271 \u001b[0m | \u001b[0m 6.247   \u001b[0m | \u001b[0m 3.197   \u001b[0m | \u001b[0m 3.826   \u001b[0m | \u001b[0m 325.3   \u001b[0m | \u001b[0m 0.6712  \u001b[0m |\n",
            "| \u001b[0m 33      \u001b[0m | \u001b[0m-1.983   \u001b[0m | \u001b[0m 0.000825\u001b[0m | \u001b[0m 8.086   \u001b[0m | \u001b[0m 3.76    \u001b[0m | \u001b[0m 4.818   \u001b[0m | \u001b[0m 19.55   \u001b[0m | \u001b[0m 0.864   \u001b[0m |\n",
            "| \u001b[0m 34      \u001b[0m | \u001b[0m-0.0589  \u001b[0m | \u001b[0m 0.1218  \u001b[0m | \u001b[0m 4.34    \u001b[0m | \u001b[0m 4.165   \u001b[0m | \u001b[0m 4.727   \u001b[0m | \u001b[0m 238.3   \u001b[0m | \u001b[0m 0.8186  \u001b[0m |\n",
            "| \u001b[0m 35      \u001b[0m | \u001b[0m-0.0404  \u001b[0m | \u001b[0m 0.1141  \u001b[0m | \u001b[0m 8.677   \u001b[0m | \u001b[0m 1.59    \u001b[0m | \u001b[0m 2.741   \u001b[0m | \u001b[0m 303.7   \u001b[0m | \u001b[0m 0.5864  \u001b[0m |\n",
            "| \u001b[0m 36      \u001b[0m | \u001b[0m-0.06647 \u001b[0m | \u001b[0m 0.1893  \u001b[0m | \u001b[0m 4.076   \u001b[0m | \u001b[0m 2.774   \u001b[0m | \u001b[0m 4.31    \u001b[0m | \u001b[0m 72.72   \u001b[0m | \u001b[0m 0.7616  \u001b[0m |\n",
            "| \u001b[0m 37      \u001b[0m | \u001b[0m-0.06172 \u001b[0m | \u001b[0m 0.1243  \u001b[0m | \u001b[0m 4.606   \u001b[0m | \u001b[0m 4.172   \u001b[0m | \u001b[0m 2.779   \u001b[0m | \u001b[0m 44.4    \u001b[0m | \u001b[0m 0.6811  \u001b[0m |\n",
            "| \u001b[95m 38      \u001b[0m | \u001b[95m-0.03758 \u001b[0m | \u001b[95m 0.08706 \u001b[0m | \u001b[95m 9.14    \u001b[0m | \u001b[95m 1.71    \u001b[0m | \u001b[95m 3.199   \u001b[0m | \u001b[95m 218.9   \u001b[0m | \u001b[95m 0.8423  \u001b[0m |\n",
            "| \u001b[0m 39      \u001b[0m | \u001b[0m-0.06334 \u001b[0m | \u001b[0m 0.07114 \u001b[0m | \u001b[0m 4.209   \u001b[0m | \u001b[0m 4.964   \u001b[0m | \u001b[0m 3.789   \u001b[0m | \u001b[0m 250.2   \u001b[0m | \u001b[0m 0.6568  \u001b[0m |\n",
            "| \u001b[0m 40      \u001b[0m | \u001b[0m-0.04281 \u001b[0m | \u001b[0m 0.1824  \u001b[0m | \u001b[0m 7.296   \u001b[0m | \u001b[0m 2.854   \u001b[0m | \u001b[0m 4.157   \u001b[0m | \u001b[0m 478.6   \u001b[0m | \u001b[0m 0.8382  \u001b[0m |\n",
            "| \u001b[0m 41      \u001b[0m | \u001b[0m-0.03894 \u001b[0m | \u001b[0m 0.1616  \u001b[0m | \u001b[0m 8.177   \u001b[0m | \u001b[0m 1.622   \u001b[0m | \u001b[0m 2.419   \u001b[0m | \u001b[0m 30.22   \u001b[0m | \u001b[0m 0.8858  \u001b[0m |\n",
            "| \u001b[95m 42      \u001b[0m | \u001b[95m-0.03724 \u001b[0m | \u001b[95m 0.08501 \u001b[0m | \u001b[95m 8.233   \u001b[0m | \u001b[95m 1.133   \u001b[0m | \u001b[95m 2.476   \u001b[0m | \u001b[95m 99.64   \u001b[0m | \u001b[95m 0.9082  \u001b[0m |\n",
            "| \u001b[0m 43      \u001b[0m | \u001b[0m-0.05082 \u001b[0m | \u001b[0m 0.01891 \u001b[0m | \u001b[0m 8.311   \u001b[0m | \u001b[0m 2.534   \u001b[0m | \u001b[0m 4.036   \u001b[0m | \u001b[0m 141.7   \u001b[0m | \u001b[0m 0.8149  \u001b[0m |\n",
            "| \u001b[0m 44      \u001b[0m | \u001b[0m-0.0449  \u001b[0m | \u001b[0m 0.1771  \u001b[0m | \u001b[0m 9.285   \u001b[0m | \u001b[0m 2.347   \u001b[0m | \u001b[0m 4.719   \u001b[0m | \u001b[0m 310.5   \u001b[0m | \u001b[0m 0.5062  \u001b[0m |\n",
            "| \u001b[0m 45      \u001b[0m | \u001b[0m-0.06856 \u001b[0m | \u001b[0m 0.09354 \u001b[0m | \u001b[0m 3.473   \u001b[0m | \u001b[0m 1.663   \u001b[0m | \u001b[0m 4.413   \u001b[0m | \u001b[0m 315.7   \u001b[0m | \u001b[0m 0.6133  \u001b[0m |\n",
            "| \u001b[0m 46      \u001b[0m | \u001b[0m-0.04298 \u001b[0m | \u001b[0m 0.08117 \u001b[0m | \u001b[0m 5.995   \u001b[0m | \u001b[0m 1.712   \u001b[0m | \u001b[0m 2.126   \u001b[0m | \u001b[0m 352.9   \u001b[0m | \u001b[0m 0.7706  \u001b[0m |\n",
            "| \u001b[0m 47      \u001b[0m | \u001b[0m-0.03958 \u001b[0m | \u001b[0m 0.1607  \u001b[0m | \u001b[0m 8.439   \u001b[0m | \u001b[0m 4.239   \u001b[0m | \u001b[0m 3.735   \u001b[0m | \u001b[0m 34.86   \u001b[0m | \u001b[0m 0.9714  \u001b[0m |\n",
            "| \u001b[0m 48      \u001b[0m | \u001b[0m-0.04525 \u001b[0m | \u001b[0m 0.1509  \u001b[0m | \u001b[0m 6.203   \u001b[0m | \u001b[0m 4.283   \u001b[0m | \u001b[0m 2.931   \u001b[0m | \u001b[0m 229.0   \u001b[0m | \u001b[0m 0.723   \u001b[0m |\n",
            "| \u001b[0m 49      \u001b[0m | \u001b[0m-0.05118 \u001b[0m | \u001b[0m 0.1467  \u001b[0m | \u001b[0m 5.139   \u001b[0m | \u001b[0m 3.196   \u001b[0m | \u001b[0m 2.909   \u001b[0m | \u001b[0m 323.7   \u001b[0m | \u001b[0m 0.521   \u001b[0m |\n",
            "| \u001b[0m 50      \u001b[0m | \u001b[0m-0.04347 \u001b[0m | \u001b[0m 0.1987  \u001b[0m | \u001b[0m 8.235   \u001b[0m | \u001b[0m 3.556   \u001b[0m | \u001b[0m 3.837   \u001b[0m | \u001b[0m 252.9   \u001b[0m | \u001b[0m 0.7119  \u001b[0m |\n",
            "| \u001b[0m 51      \u001b[0m | \u001b[0m-0.0423  \u001b[0m | \u001b[0m 0.1912  \u001b[0m | \u001b[0m 6.995   \u001b[0m | \u001b[0m 1.942   \u001b[0m | \u001b[0m 2.073   \u001b[0m | \u001b[0m 223.7   \u001b[0m | \u001b[0m 0.7539  \u001b[0m |\n",
            "| \u001b[0m 52      \u001b[0m | \u001b[0m-0.04159 \u001b[0m | \u001b[0m 0.1804  \u001b[0m | \u001b[0m 7.136   \u001b[0m | \u001b[0m 3.098   \u001b[0m | \u001b[0m 3.439   \u001b[0m | \u001b[0m 416.2   \u001b[0m | \u001b[0m 0.9693  \u001b[0m |\n",
            "| \u001b[0m 53      \u001b[0m | \u001b[0m-0.03808 \u001b[0m | \u001b[0m 0.01785 \u001b[0m | \u001b[0m 7.695   \u001b[0m | \u001b[0m 2.529   \u001b[0m | \u001b[0m 4.464   \u001b[0m | \u001b[0m 424.0   \u001b[0m | \u001b[0m 0.9266  \u001b[0m |\n",
            "| \u001b[0m 54      \u001b[0m | \u001b[0m-0.04241 \u001b[0m | \u001b[0m 0.01301 \u001b[0m | \u001b[0m 6.911   \u001b[0m | \u001b[0m 1.494   \u001b[0m | \u001b[0m 4.334   \u001b[0m | \u001b[0m 424.9   \u001b[0m | \u001b[0m 0.8195  \u001b[0m |\n",
            "| \u001b[0m 55      \u001b[0m | \u001b[0m-0.05921 \u001b[0m | \u001b[0m 0.09413 \u001b[0m | \u001b[0m 3.645   \u001b[0m | \u001b[0m 2.767   \u001b[0m | \u001b[0m 4.872   \u001b[0m | \u001b[0m 276.8   \u001b[0m | \u001b[0m 0.7509  \u001b[0m |\n",
            "| \u001b[0m 56      \u001b[0m | \u001b[0m-0.05101 \u001b[0m | \u001b[0m 0.05339 \u001b[0m | \u001b[0m 5.48    \u001b[0m | \u001b[0m 3.479   \u001b[0m | \u001b[0m 3.439   \u001b[0m | \u001b[0m 438.5   \u001b[0m | \u001b[0m 0.8869  \u001b[0m |\n",
            "| \u001b[0m 57      \u001b[0m | \u001b[0m-0.0407  \u001b[0m | \u001b[0m 0.09049 \u001b[0m | \u001b[0m 8.35    \u001b[0m | \u001b[0m 4.667   \u001b[0m | \u001b[0m 3.855   \u001b[0m | \u001b[0m 252.6   \u001b[0m | \u001b[0m 0.6121  \u001b[0m |\n",
            "| \u001b[0m 58      \u001b[0m | \u001b[0m-0.04002 \u001b[0m | \u001b[0m 0.06054 \u001b[0m | \u001b[0m 8.092   \u001b[0m | \u001b[0m 4.586   \u001b[0m | \u001b[0m 2.942   \u001b[0m | \u001b[0m 370.0   \u001b[0m | \u001b[0m 0.6423  \u001b[0m |\n",
            "| \u001b[0m 59      \u001b[0m | \u001b[0m-0.04356 \u001b[0m | \u001b[0m 0.1642  \u001b[0m | \u001b[0m 6.476   \u001b[0m | \u001b[0m 1.1     \u001b[0m | \u001b[0m 3.68    \u001b[0m | \u001b[0m 162.8   \u001b[0m | \u001b[0m 0.8884  \u001b[0m |\n",
            "| \u001b[0m 60      \u001b[0m | \u001b[0m-0.03904 \u001b[0m | \u001b[0m 0.09861 \u001b[0m | \u001b[0m 9.048   \u001b[0m | \u001b[0m 2.786   \u001b[0m | \u001b[0m 3.764   \u001b[0m | \u001b[0m 322.2   \u001b[0m | \u001b[0m 0.8459  \u001b[0m |\n",
            "=================================================================================================\n"
          ]
        }
      ]
    },
    {
      "cell_type": "code",
      "source": [
        "BO_gbm.max"
      ],
      "metadata": {
        "colab": {
          "base_uri": "https://localhost:8080/"
        },
        "id": "Rjzbp9coubhQ",
        "outputId": "8a5f17d0-dff8-41bc-bdbe-f4fd536c3e09"
      },
      "execution_count": null,
      "outputs": [
        {
          "output_type": "execute_result",
          "data": {
            "text/plain": [
              "{'params': {'learning_rate': 0.08501439130306022,\n",
              "  'max_depth': 8.233029365965816,\n",
              "  'min_samples_leaf': 1.1326338509074398,\n",
              "  'min_samples_split': 2.475729760016842,\n",
              "  'n_estimators': 99.63724492243509,\n",
              "  'subsample': 0.9081578047049488},\n",
              " 'target': -0.037239322043963366}"
            ]
          },
          "metadata": {},
          "execution_count": 168
        }
      ]
    },
    {
      "cell_type": "code",
      "source": [
        "params = BO_gbm.max['params']\n",
        "params['max_depth'] = int(round(params['max_depth']))\n",
        "params['n_estimators'] = int(round(params['n_estimators']))\n",
        "params['min_samples_leaf'] = int(round(params['min_samples_leaf']))\n",
        "params['min_samples_split'] = int(round(params['min_samples_split']))\n",
        "\n",
        "gbm = GradientBoostingRegressor(random_state = 123, **params)\n",
        "gbm.fit(X_tr, y_tr)\n",
        "pred_gbm = np.expm1(gbm.predict(test))"
      ],
      "metadata": {
        "id": "N7G_sr94wLRM"
      },
      "execution_count": null,
      "outputs": []
    },
    {
      "cell_type": "code",
      "source": [
        "pred_gbm"
      ],
      "metadata": {
        "colab": {
          "base_uri": "https://localhost:8080/"
        },
        "id": "G8zoMgtFwM9R",
        "outputId": "c4d1aa8c-e37e-4633-a421-15aa0c2c7a47"
      },
      "execution_count": null,
      "outputs": [
        {
          "output_type": "execute_result",
          "data": {
            "text/plain": [
              "array([5.81325064e+07, 7.06984274e+07, 6.99227322e+07, ...,\n",
              "       6.01508826e+04, 5.95162626e+04, 5.93492640e+04])"
            ]
          },
          "metadata": {},
          "execution_count": 180
        }
      ]
    },
    {
      "cell_type": "code",
      "source": [
        ""
      ],
      "metadata": {
        "id": "7g2Dn6pXw-sj"
      },
      "execution_count": null,
      "outputs": []
    }
  ]
}
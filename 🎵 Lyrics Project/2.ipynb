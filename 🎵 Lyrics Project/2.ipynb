{
  "nbformat": 4,
  "nbformat_minor": 0,
  "metadata": {
    "colab": {
      "name": "3_LDA.ipynb",
      "provenance": [],
      "collapsed_sections": [],
      "mount_file_id": "1iREBuuqLeH_C_3jOymF7ok06UDz4KTIe",
      "authorship_tag": "ABX9TyOBUt7G2snoqMjIsBLoRqZ5"
    },
    "kernelspec": {
      "name": "python3",
      "display_name": "Python 3"
    },
    "language_info": {
      "name": "python"
    }
  },
  "cells": [
    {
      "cell_type": "code",
      "execution_count": null,
      "metadata": {
        "id": "ozVQ5lRvwpSQ"
      },
      "outputs": [],
      "source": [
        "# 폰트 설치\n",
        "!sudo apt-get install -y fonts-nanum    \n",
        "!sudo fc-cache -fv                      \n",
        "!rm ~/.cache/matplotlib -rf"
      ]
    },
    {
      "cell_type": "code",
      "source": [
        "import matplotlib.pyplot as plt\n",
        "import matplotlib.font_manager as fm\n",
        "font_path = '/usr/share/fonts/truetype/nanum/NanumMyeongjo.ttf' \n",
        "font_name  = fm.FontProperties(fname=font_path, size=12).get_name( )\n",
        "plt.rcParams['font.family'] = font_name\n",
        "fm._rebuild( )\n",
        "%config  InlineBackend.figure_format = \"retina\""
      ],
      "metadata": {
        "id": "-HF3TTd4Nr9D"
      },
      "execution_count": null,
      "outputs": []
    },
    {
      "cell_type": "code",
      "source": [
        "import numpy as np\n",
        "import pandas as pd\n",
        "import matplotlib.pyplot as plt\n",
        "import warnings\n",
        "import re\n",
        "warnings.filterwarnings('ignore')\n",
        "from tqdm.auto import tqdm"
      ],
      "metadata": {
        "id": "d8KYmdLCNwn4"
      },
      "execution_count": null,
      "outputs": []
    },
    {
      "cell_type": "code",
      "source": [
        "# LDA\n",
        "!pip install -U gensim\n",
        "import gensim\n",
        "from gensim import corpora"
      ],
      "metadata": {
        "id": "4xCzJ-8LOMLt"
      },
      "execution_count": null,
      "outputs": []
    },
    {
      "cell_type": "code",
      "source": [
        "# LDA 시각화\n",
        "!pip install pyLDAvis\n",
        "import pyLDAvis.gensim_models"
      ],
      "metadata": {
        "id": "tqhCN5Xqz0U-"
      },
      "execution_count": null,
      "outputs": []
    },
    {
      "cell_type": "code",
      "source": [
        "album_df = pd.read_csv(dirpath+\"album.csv\", index_col=[0])\n",
        "song_df = pd.read_csv(dirpath+\"song.csv\", index_col=[0])"
      ],
      "metadata": {
        "id": "vRPubT-oNzyV"
      },
      "execution_count": null,
      "outputs": []
    },
    {
      "cell_type": "code",
      "source": [
        "import ast\n",
        "song_df['vocabs'] = song_df['vocabs'].apply(lambda x : ast.literal_eval(x))"
      ],
      "metadata": {
        "id": "7CVEogetwAhP"
      },
      "execution_count": null,
      "outputs": []
    },
    {
      "cell_type": "code",
      "source": [
        "song_df"
      ],
      "metadata": {
        "colab": {
          "base_uri": "https://localhost:8080/",
          "height": 603
        },
        "id": "vnFgdyENuMa3",
        "outputId": "0dc83fbb-8306-4f7c-a366-f4156b8f144a"
      },
      "execution_count": null,
      "outputs": [
        {
          "output_type": "execute_result",
          "data": {
            "text/plain": [
              "            album_id   song_id       song_title  \\\n",
              "Unnamed: 0                                        \n",
              "0           10827816  34481680              드라마   \n",
              "1           10827816  34481681              정거장   \n",
              "2           10827816  34481682              겨울잠   \n",
              "3           10827816  34481683                너   \n",
              "4           10827816  34481684             러브레터   \n",
              "...              ...       ...              ...   \n",
              "122           398025   1929323             미운오리   \n",
              "123           398025   1929324               미아   \n",
              "124           398025   1929325  있잖아 (Feat. 마리오)   \n",
              "125           398025   1929326     Feel So Good   \n",
              "126           398025   1929327  Every Sweet Day   \n",
              "\n",
              "                                                       lyrics   genre  \\\n",
              "Unnamed: 0                                                              \n",
              "0           나도 한때는 그이의 손을 잡고 내가 온 세상 주인공이 된 듯 꽃송이의 꽃잎 하나하나...     발라드   \n",
              "1           다음 정거장에서 만나게 될까 그리워했던 얼굴을 다음 파란불에는 만나게 될까 그리곤 ...  포크/블루스   \n",
              "2           때 이른 봄 몇 송이 꺾어다 너의 방 문 앞에 두었어 긴 잠 실컷 자고 나오면 그때...     발라드   \n",
              "3           아득히 떨어진 곳에서 아무 관계없는 것들을 보며 조금 쓸쓸한 기분으로 나는 너를 보...  포크/블루스   \n",
              "4           골목길 머뭇하던 첫 안녕을 기억하오 그날의 끄덕임을 난 잊을 수 없다오  길가에 내...     발라드   \n",
              "...                                                       ...     ...   \n",
              "122         미운오리  저기 멀리 어둔 하늘 보다가 엄마 별이 사는 그 곳은 어딜까 외로운 밤 ...     발라드   \n",
              "123         우리 둘 담아 준 사진을 태워 하나 둘 모아 둔 기억을 지워 그만 일어나 가야 하는...     발라드   \n",
              "124         Ye this song is my love story 첫 눈에 반한다는 말 절대로 ...      댄스   \n",
              "125         아침에 눈을 뜨면 다가오는 햇살 햇살에 눈 비비고 일어나고 일어나 남은 잠을 깨워보...     발라드   \n",
              "126         Hey boy what you gonna do for me honey  내 방안에 ...     발라드   \n",
              "\n",
              "                                                       vocabs  \n",
              "Unnamed: 0                                                     \n",
              "0           [그이, 세상, 주인공, 꽃송이, 꽃잎, 하나하나, 모두, 위하, 올림픽대로, 뚝섬...  \n",
              "1           [다음, 정거장, 만나, 그립, 얼굴, 다음, 파란불, 만나, 그리, 풍경, 정하,...  \n",
              "2           [이르, 송이, 실컷, 그때쯤, 예쁘, 띄우, 여름, 따르, 머리맡, 금세, 버리,...  \n",
              "3           [아득히, 아무, 관계, 것들, 조금, 쓸쓸, 기분, 보고픈, 떠올리, 애달프, 일...  \n",
              "4           [골목길, 머뭇하, 안녕, 기억하오, 그날, 끄덕이, 길가, 내리, 새벽, 고요, ...  \n",
              "...                                                       ...  \n",
              "122         [미운오리, 저기, 멀리, 어둔, 하늘, 엄마, 어딜까, 외롭, 날개짓, 오리, 그...  \n",
              "123         [우리, 사진, 태우, 하나, 모으, 기억, 일어나, 너무, 주저, 빗물, 한치, ...  \n",
              "124         [반하, 절대로, 나타나, 순간, 뺏기, 버리, 멈추, 버리, 시간, 지나, 만나,...  \n",
              "125         [아침, 다가오, 햇살, 햇살, 비비, 일어나, 일어나, 깨우, 누군가, 청소, 깨...  \n",
              "126         [방안, 손끝, 하나, 선물들, 조심스레, 만지, 하얗, 이불, 살며시, 오랜만, ...  \n",
              "\n",
              "[122 rows x 6 columns]"
            ],
            "text/html": [
              "\n",
              "  <div id=\"df-5953ac6e-8997-4bef-b997-7f779e4d863c\">\n",
              "    <div class=\"colab-df-container\">\n",
              "      <div>\n",
              "<style scoped>\n",
              "    .dataframe tbody tr th:only-of-type {\n",
              "        vertical-align: middle;\n",
              "    }\n",
              "\n",
              "    .dataframe tbody tr th {\n",
              "        vertical-align: top;\n",
              "    }\n",
              "\n",
              "    .dataframe thead th {\n",
              "        text-align: right;\n",
              "    }\n",
              "</style>\n",
              "<table border=\"1\" class=\"dataframe\">\n",
              "  <thead>\n",
              "    <tr style=\"text-align: right;\">\n",
              "      <th></th>\n",
              "      <th>album_id</th>\n",
              "      <th>song_id</th>\n",
              "      <th>song_title</th>\n",
              "      <th>lyrics</th>\n",
              "      <th>genre</th>\n",
              "      <th>vocabs</th>\n",
              "    </tr>\n",
              "    <tr>\n",
              "      <th>Unnamed: 0</th>\n",
              "      <th></th>\n",
              "      <th></th>\n",
              "      <th></th>\n",
              "      <th></th>\n",
              "      <th></th>\n",
              "      <th></th>\n",
              "    </tr>\n",
              "  </thead>\n",
              "  <tbody>\n",
              "    <tr>\n",
              "      <th>0</th>\n",
              "      <td>10827816</td>\n",
              "      <td>34481680</td>\n",
              "      <td>드라마</td>\n",
              "      <td>나도 한때는 그이의 손을 잡고 내가 온 세상 주인공이 된 듯 꽃송이의 꽃잎 하나하나...</td>\n",
              "      <td>발라드</td>\n",
              "      <td>[그이, 세상, 주인공, 꽃송이, 꽃잎, 하나하나, 모두, 위하, 올림픽대로, 뚝섬...</td>\n",
              "    </tr>\n",
              "    <tr>\n",
              "      <th>1</th>\n",
              "      <td>10827816</td>\n",
              "      <td>34481681</td>\n",
              "      <td>정거장</td>\n",
              "      <td>다음 정거장에서 만나게 될까 그리워했던 얼굴을 다음 파란불에는 만나게 될까 그리곤 ...</td>\n",
              "      <td>포크/블루스</td>\n",
              "      <td>[다음, 정거장, 만나, 그립, 얼굴, 다음, 파란불, 만나, 그리, 풍경, 정하,...</td>\n",
              "    </tr>\n",
              "    <tr>\n",
              "      <th>2</th>\n",
              "      <td>10827816</td>\n",
              "      <td>34481682</td>\n",
              "      <td>겨울잠</td>\n",
              "      <td>때 이른 봄 몇 송이 꺾어다 너의 방 문 앞에 두었어 긴 잠 실컷 자고 나오면 그때...</td>\n",
              "      <td>발라드</td>\n",
              "      <td>[이르, 송이, 실컷, 그때쯤, 예쁘, 띄우, 여름, 따르, 머리맡, 금세, 버리,...</td>\n",
              "    </tr>\n",
              "    <tr>\n",
              "      <th>3</th>\n",
              "      <td>10827816</td>\n",
              "      <td>34481683</td>\n",
              "      <td>너</td>\n",
              "      <td>아득히 떨어진 곳에서 아무 관계없는 것들을 보며 조금 쓸쓸한 기분으로 나는 너를 보...</td>\n",
              "      <td>포크/블루스</td>\n",
              "      <td>[아득히, 아무, 관계, 것들, 조금, 쓸쓸, 기분, 보고픈, 떠올리, 애달프, 일...</td>\n",
              "    </tr>\n",
              "    <tr>\n",
              "      <th>4</th>\n",
              "      <td>10827816</td>\n",
              "      <td>34481684</td>\n",
              "      <td>러브레터</td>\n",
              "      <td>골목길 머뭇하던 첫 안녕을 기억하오 그날의 끄덕임을 난 잊을 수 없다오  길가에 내...</td>\n",
              "      <td>발라드</td>\n",
              "      <td>[골목길, 머뭇하, 안녕, 기억하오, 그날, 끄덕이, 길가, 내리, 새벽, 고요, ...</td>\n",
              "    </tr>\n",
              "    <tr>\n",
              "      <th>...</th>\n",
              "      <td>...</td>\n",
              "      <td>...</td>\n",
              "      <td>...</td>\n",
              "      <td>...</td>\n",
              "      <td>...</td>\n",
              "      <td>...</td>\n",
              "    </tr>\n",
              "    <tr>\n",
              "      <th>122</th>\n",
              "      <td>398025</td>\n",
              "      <td>1929323</td>\n",
              "      <td>미운오리</td>\n",
              "      <td>미운오리  저기 멀리 어둔 하늘 보다가 엄마 별이 사는 그 곳은 어딜까 외로운 밤 ...</td>\n",
              "      <td>발라드</td>\n",
              "      <td>[미운오리, 저기, 멀리, 어둔, 하늘, 엄마, 어딜까, 외롭, 날개짓, 오리, 그...</td>\n",
              "    </tr>\n",
              "    <tr>\n",
              "      <th>123</th>\n",
              "      <td>398025</td>\n",
              "      <td>1929324</td>\n",
              "      <td>미아</td>\n",
              "      <td>우리 둘 담아 준 사진을 태워 하나 둘 모아 둔 기억을 지워 그만 일어나 가야 하는...</td>\n",
              "      <td>발라드</td>\n",
              "      <td>[우리, 사진, 태우, 하나, 모으, 기억, 일어나, 너무, 주저, 빗물, 한치, ...</td>\n",
              "    </tr>\n",
              "    <tr>\n",
              "      <th>124</th>\n",
              "      <td>398025</td>\n",
              "      <td>1929325</td>\n",
              "      <td>있잖아 (Feat. 마리오)</td>\n",
              "      <td>Ye this song is my love story 첫 눈에 반한다는 말 절대로 ...</td>\n",
              "      <td>댄스</td>\n",
              "      <td>[반하, 절대로, 나타나, 순간, 뺏기, 버리, 멈추, 버리, 시간, 지나, 만나,...</td>\n",
              "    </tr>\n",
              "    <tr>\n",
              "      <th>125</th>\n",
              "      <td>398025</td>\n",
              "      <td>1929326</td>\n",
              "      <td>Feel So Good</td>\n",
              "      <td>아침에 눈을 뜨면 다가오는 햇살 햇살에 눈 비비고 일어나고 일어나 남은 잠을 깨워보...</td>\n",
              "      <td>발라드</td>\n",
              "      <td>[아침, 다가오, 햇살, 햇살, 비비, 일어나, 일어나, 깨우, 누군가, 청소, 깨...</td>\n",
              "    </tr>\n",
              "    <tr>\n",
              "      <th>126</th>\n",
              "      <td>398025</td>\n",
              "      <td>1929327</td>\n",
              "      <td>Every Sweet Day</td>\n",
              "      <td>Hey boy what you gonna do for me honey  내 방안에 ...</td>\n",
              "      <td>발라드</td>\n",
              "      <td>[방안, 손끝, 하나, 선물들, 조심스레, 만지, 하얗, 이불, 살며시, 오랜만, ...</td>\n",
              "    </tr>\n",
              "  </tbody>\n",
              "</table>\n",
              "<p>122 rows × 6 columns</p>\n",
              "</div>\n",
              "      <button class=\"colab-df-convert\" onclick=\"convertToInteractive('df-5953ac6e-8997-4bef-b997-7f779e4d863c')\"\n",
              "              title=\"Convert this dataframe to an interactive table.\"\n",
              "              style=\"display:none;\">\n",
              "        \n",
              "  <svg xmlns=\"http://www.w3.org/2000/svg\" height=\"24px\"viewBox=\"0 0 24 24\"\n",
              "       width=\"24px\">\n",
              "    <path d=\"M0 0h24v24H0V0z\" fill=\"none\"/>\n",
              "    <path d=\"M18.56 5.44l.94 2.06.94-2.06 2.06-.94-2.06-.94-.94-2.06-.94 2.06-2.06.94zm-11 1L8.5 8.5l.94-2.06 2.06-.94-2.06-.94L8.5 2.5l-.94 2.06-2.06.94zm10 10l.94 2.06.94-2.06 2.06-.94-2.06-.94-.94-2.06-.94 2.06-2.06.94z\"/><path d=\"M17.41 7.96l-1.37-1.37c-.4-.4-.92-.59-1.43-.59-.52 0-1.04.2-1.43.59L10.3 9.45l-7.72 7.72c-.78.78-.78 2.05 0 2.83L4 21.41c.39.39.9.59 1.41.59.51 0 1.02-.2 1.41-.59l7.78-7.78 2.81-2.81c.8-.78.8-2.07 0-2.86zM5.41 20L4 18.59l7.72-7.72 1.47 1.35L5.41 20z\"/>\n",
              "  </svg>\n",
              "      </button>\n",
              "      \n",
              "  <style>\n",
              "    .colab-df-container {\n",
              "      display:flex;\n",
              "      flex-wrap:wrap;\n",
              "      gap: 12px;\n",
              "    }\n",
              "\n",
              "    .colab-df-convert {\n",
              "      background-color: #E8F0FE;\n",
              "      border: none;\n",
              "      border-radius: 50%;\n",
              "      cursor: pointer;\n",
              "      display: none;\n",
              "      fill: #1967D2;\n",
              "      height: 32px;\n",
              "      padding: 0 0 0 0;\n",
              "      width: 32px;\n",
              "    }\n",
              "\n",
              "    .colab-df-convert:hover {\n",
              "      background-color: #E2EBFA;\n",
              "      box-shadow: 0px 1px 2px rgba(60, 64, 67, 0.3), 0px 1px 3px 1px rgba(60, 64, 67, 0.15);\n",
              "      fill: #174EA6;\n",
              "    }\n",
              "\n",
              "    [theme=dark] .colab-df-convert {\n",
              "      background-color: #3B4455;\n",
              "      fill: #D2E3FC;\n",
              "    }\n",
              "\n",
              "    [theme=dark] .colab-df-convert:hover {\n",
              "      background-color: #434B5C;\n",
              "      box-shadow: 0px 1px 3px 1px rgba(0, 0, 0, 0.15);\n",
              "      filter: drop-shadow(0px 1px 2px rgba(0, 0, 0, 0.3));\n",
              "      fill: #FFFFFF;\n",
              "    }\n",
              "  </style>\n",
              "\n",
              "      <script>\n",
              "        const buttonEl =\n",
              "          document.querySelector('#df-5953ac6e-8997-4bef-b997-7f779e4d863c button.colab-df-convert');\n",
              "        buttonEl.style.display =\n",
              "          google.colab.kernel.accessAllowed ? 'block' : 'none';\n",
              "\n",
              "        async function convertToInteractive(key) {\n",
              "          const element = document.querySelector('#df-5953ac6e-8997-4bef-b997-7f779e4d863c');\n",
              "          const dataTable =\n",
              "            await google.colab.kernel.invokeFunction('convertToInteractive',\n",
              "                                                     [key], {});\n",
              "          if (!dataTable) return;\n",
              "\n",
              "          const docLinkHtml = 'Like what you see? Visit the ' +\n",
              "            '<a target=\"_blank\" href=https://colab.research.google.com/notebooks/data_table.ipynb>data table notebook</a>'\n",
              "            + ' to learn more about interactive tables.';\n",
              "          element.innerHTML = '';\n",
              "          dataTable['output_type'] = 'display_data';\n",
              "          await google.colab.output.renderOutput(dataTable, element);\n",
              "          const docLink = document.createElement('div');\n",
              "          docLink.innerHTML = docLinkHtml;\n",
              "          element.appendChild(docLink);\n",
              "        }\n",
              "      </script>\n",
              "    </div>\n",
              "  </div>\n",
              "  "
            ]
          },
          "metadata": {},
          "execution_count": 7
        }
      ]
    },
    {
      "cell_type": "code",
      "source": [
        "song_df['temp'] = song_df['vocabs'].apply(lambda x : \" \".join(x))"
      ],
      "metadata": {
        "id": "N8v_XtNZ8Ar2"
      },
      "execution_count": null,
      "outputs": []
    },
    {
      "cell_type": "code",
      "source": [
        "from sklearn.feature_extraction.text import TfidfVectorizer\n",
        "\n",
        "vectorizer = TfidfVectorizer(max_features= 300, max_df = 0.7)\n",
        "tfidf = vectorizer.fit_transform(song_df['temp'])\n",
        "\n",
        "print(tfidf.shape)"
      ],
      "metadata": {
        "colab": {
          "base_uri": "https://localhost:8080/"
        },
        "id": "UBjgtGnt7phB",
        "outputId": "cdf1d4db-a81a-4a62-b280-b9acce7b0a91"
      },
      "execution_count": null,
      "outputs": [
        {
          "output_type": "stream",
          "name": "stdout",
          "text": [
            "(122, 300)\n"
          ]
        }
      ]
    },
    {
      "cell_type": "code",
      "source": [
        "from sklearn.decomposition import LatentDirichletAllocation\n",
        "lda_model = LatentDirichletAllocation(n_components=5, learning_method='online', random_state=1, max_iter=20)\n",
        "lda_top=lda_model.fit_transform(tfidf)"
      ],
      "metadata": {
        "id": "U_sBCXLW8iZJ"
      },
      "execution_count": null,
      "outputs": []
    },
    {
      "cell_type": "code",
      "source": [
        "lda_model.components_.shape"
      ],
      "metadata": {
        "colab": {
          "base_uri": "https://localhost:8080/"
        },
        "id": "yliHJ2-J8qFJ",
        "outputId": "96ec2f67-ea27-4e02-bdee-4b0f5648fe9f"
      },
      "execution_count": null,
      "outputs": [
        {
          "output_type": "execute_result",
          "data": {
            "text/plain": [
              "(5, 300)"
            ]
          },
          "metadata": {},
          "execution_count": 11
        }
      ]
    },
    {
      "cell_type": "code",
      "source": [
        "terms = vectorizer.get_feature_names_out() \n",
        "def get_topics(components, feature_names, n=10):\n",
        "    for index, topic in enumerate(components):\n",
        "        print(\"Topic %d:\" % (index+1), [(feature_names[i], topic[i].round(2)) for i in topic.argsort()[:-n-1:-1]])\n",
        "get_topics(lda_model.components_,terms)"
      ],
      "metadata": {
        "colab": {
          "base_uri": "https://localhost:8080/"
        },
        "id": "xCzEg-iv8toV",
        "outputId": "2231996f-93cb-4e34-f086-295d56a77e07"
      },
      "execution_count": null,
      "outputs": [
        {
          "output_type": "stream",
          "name": "stdout",
          "text": [
            "Topic 1: [('사랑', 4.38), ('사람', 4.02), ('그대', 3.63), ('마음', 3.49), ('모르', 2.96), ('조금', 2.93), ('아니', 2.81), ('기다리', 2.72), ('그렇', 2.62), ('아이', 2.56)]\n",
            "Topic 2: [('차라리', 1.24), ('삼촌', 1.1), ('어젯밤', 1.09), ('그리', 1.09), ('바람', 1.05), ('소리', 0.93), ('만들', 0.92), ('보이', 0.91), ('내겐', 0.9), ('삐에로', 0.89)]\n",
            "Topic 3: [('원하', 1.51), ('사랑한단', 1.41), ('사랑', 1.33), ('마디', 1.31), ('것이길', 1.31), ('솔직히', 1.28), ('전부', 1.23), ('정말', 1.2), ('여기', 1.12), ('빨리', 1.11)]\n",
            "Topic 4: [('그대', 2.84), ('사랑', 1.67), ('매일', 1.65), ('아무', 1.64), ('비밀', 1.57), ('모르', 1.56), ('채플린', 1.4), ('누구', 1.31), ('다음', 1.29), ('아니', 1.23)]\n",
            "Topic 5: [('다시', 2.58), ('노래', 1.97), ('우울', 1.84), ('모으', 1.57), ('바라', 1.47), ('기도', 1.42), ('흐르', 1.4), ('하나', 1.39), ('그치', 1.36), ('기억', 1.29)]\n"
          ]
        }
      ]
    },
    {
      "cell_type": "code",
      "source": [
        "dictionary = corpora.Dictionary(song_df['vocabs'])\n",
        "corpus = [dictionary.doc2bow(v) for v in song_df['vocabs']]"
      ],
      "metadata": {
        "id": "9O6PBfpDuNTS"
      },
      "execution_count": null,
      "outputs": []
    },
    {
      "cell_type": "code",
      "source": [
        "len(dictionary)"
      ],
      "metadata": {
        "colab": {
          "base_uri": "https://localhost:8080/"
        },
        "id": "N0v9x6U2ymVx",
        "outputId": "d670140d-45e9-4bc6-acf0-ec3596c0eb9c"
      },
      "execution_count": null,
      "outputs": [
        {
          "output_type": "execute_result",
          "data": {
            "text/plain": [
              "1923"
            ]
          },
          "metadata": {},
          "execution_count": 14
        }
      ]
    },
    {
      "cell_type": "code",
      "source": [
        "TOPIC_NUM = 5\n",
        "LDA_model = gensim.models.ldamodel.LdaModel(corpus, num_topics = TOPIC_NUM, id2word=dictionary, passes=30)"
      ],
      "metadata": {
        "id": "5z3Sko1Qy8KA"
      },
      "execution_count": null,
      "outputs": []
    },
    {
      "cell_type": "code",
      "source": [
        "topics = LDA_model.print_topics(num_words=10)\n",
        "for t in topics :\n",
        "  print(t)"
      ],
      "metadata": {
        "colab": {
          "base_uri": "https://localhost:8080/"
        },
        "id": "E2YFR2gXzcP3",
        "outputId": "327d86c9-04ab-463f-cbd9-086d7ec1cb23"
      },
      "execution_count": null,
      "outputs": [
        {
          "output_type": "stream",
          "name": "stdout",
          "text": [
            "(0, '0.021*\"사람\" + 0.015*\"우울\" + 0.013*\"시간\" + 0.012*\"모르\" + 0.011*\"마음\" + 0.009*\"어디\" + 0.008*\"아침\" + 0.008*\"흐르\" + 0.007*\"그렇\" + 0.007*\"만나\"')\n",
            "(1, '0.031*\"사랑\" + 0.014*\"하나\" + 0.013*\"버리\" + 0.012*\"그대\" + 0.011*\"사랑한단\" + 0.009*\"바라\" + 0.009*\"원하\" + 0.008*\"마디\" + 0.008*\"만나\" + 0.008*\"우리\"')\n",
            "(2, '0.024*\"그대\" + 0.009*\"지금\" + 0.009*\"우리\" + 0.008*\"모르\" + 0.008*\"매일\" + 0.008*\"조금\" + 0.007*\"사랑\" + 0.007*\"아프\" + 0.006*\"아주\" + 0.006*\"어느\"')\n",
            "(3, '0.024*\"다시\" + 0.015*\"그대\" + 0.015*\"사랑\" + 0.010*\"아니\" + 0.009*\"시간\" + 0.009*\"모르\" + 0.008*\"못하\" + 0.008*\"마음\" + 0.008*\"우리\" + 0.007*\"채플린\"')\n",
            "(4, '0.013*\"아니\" + 0.012*\"모두\" + 0.010*\"사랑\" + 0.010*\"안녕\" + 0.009*\"마음\" + 0.009*\"아무\" + 0.008*\"없이\" + 0.008*\"만나\" + 0.008*\"슬프\" + 0.008*\"이렇\"')\n",
            "(5, '0.020*\"사랑\" + 0.016*\"너무\" + 0.011*\"모르\" + 0.010*\"누구\" + 0.010*\"비밀\" + 0.009*\"버리\" + 0.009*\"그렇\" + 0.008*\"아무\" + 0.008*\"기억\" + 0.008*\"마음\"')\n"
          ]
        }
      ]
    },
    {
      "cell_type": "code",
      "source": [
        "pyLDAvis.enable_notebook()\n",
        "vis = pyLDAvis.gensim_models.prepare(LDA_model, corpus, dictionary)\n",
        "pyLDAvis.display(vis)"
      ],
      "metadata": {
        "colab": {
          "base_uri": "https://localhost:8080/",
          "height": 860
        },
        "id": "KvCN50Q7znTc",
        "outputId": "0ee76541-e21a-4864-a1ae-bf504e1a5509"
      },
      "execution_count": null,
      "outputs": [
        {
          "output_type": "execute_result",
          "data": {
            "text/plain": [
              "<IPython.core.display.HTML object>"
            ],
            "text/html": [
              "\n",
              "<link rel=\"stylesheet\" type=\"text/css\" href=\"https://cdn.jsdelivr.net/gh/bmabey/pyLDAvis@3.3.1/pyLDAvis/js/ldavis.v1.0.0.css\">\n",
              "\n",
              "\n",
              "<div id=\"ldavis_el3361401924219568161654591220\"></div>\n",
              "<script type=\"text/javascript\">\n",
              "\n",
              "var ldavis_el3361401924219568161654591220_data = {\"mdsDat\": {\"x\": [0.05347963160948332, 0.06648527133748432, 0.053647024960468574, -0.020477741886160947, -0.1531341860212753], \"y\": [0.01968867812039935, -0.017569099316614628, -0.09204699272242028, 0.1419015250464208, -0.051974111127785154], \"topics\": [1, 2, 3, 4, 5], \"cluster\": [1, 1, 1, 1, 1], \"Freq\": [26.044370878834638, 22.284429284937776, 22.08117001655054, 15.045402854503962, 14.544626965173086]}, \"tinfo\": {\"Term\": [\"\\ub2e4\\uc2dc\", \"\\uc0ac\\ub791\\ud55c\\ub2e8\", \"\\ub108\\ubb34\", \"\\uc6b0\\uc6b8\", \"\\uc6d0\\ud558\", \"\\uc0ac\\ub791\", \"\\ub208\\ubb3c\", \"\\ube44\\ubc00\", \"\\ubaa8\\ub450\", \"\\uac83\\uc774\\uae38\", \"\\uc194\\uc9c1\\ud788\", \"\\ub9cc\\ub098\", \"\\uc0ac\\ub78c\\ub4e4\", \"\\uc804\\ud654\", \"\\uadf8\\ub300\", \"\\uc804\\ubd80\", \"I\\u2019m\", \"\\ub9c8\\ub514\", \"\\uadf8\\ub9ac\\uace0\", \"\\ub9c8\\uc26c\\uba5c\\ub85c\\uc6b0\", \"\\uc548\\ub155\", \"\\uc624\\ub298\", \"\\ub610\\ub2e4\\uc2dc\", \"\\ub204\\uad6c\", \"\\uac00\\uc2b4\", \"\\ud750\\ub974\", \"\\uc5b4\\ub514\", \"\\uc5b4\\uca4c\", \"\\ucc44\\ud50c\\ub9b0\", \"\\ubaa8\\ub974\", \"\\ub784\\ub77c\\ub77c\\ub77c\", \"\\ud6c4\\ud6c4\\ud6c4\\ud6c4\\ud6c4\", \"\\ub69c\\ub8e8\\ub69c\", \"\\ub69c\\ub8e8\\ub69c\\ub69c\", \"\\ub69c\\ub69c\", \"\\ub4e4\\ub728\", \"\\ubbf8\\uc9c0\", \"\\uc874\\uc7ac\", \"\\uadf8\\uac83\", \"\\uae08\\uc694\\uc77c\", \"\\uc0c1\\ud07c\", \"\\uc2dc\\ub9ac\", \"\\uac00\\uae4c\\uc774\", \"\\uc57d\\uc18d\\ub4e4\", \"\\ubb3c\\ub4e4\", \"\\uc5b4\\ub514\\uac04\", \"\\uc5ec\\uc794\", \"\\uac19\\uc9c4\", \"\\uc878\\uc5c5\", \"\\uc800\\uc800\\uc801\", \"\\uc6cc\\uc5b4\\uc5b8\", \"\\uace0\\ud1b5\", \"\\uc900\\ube44\", \"\\ubc1c\\uac78\\uc74c\", \"\\ubc14\\ud034\", \"\\ub2e4\\ub2c8\", \"\\uc2dc\\uc791\\ud574\", \"\\ub9cc\\uc9c0\\uc791\", \"\\ubd80\\ub9ac\", \"\\ud150\\ub370\", \"\\uafc8\\uafb8\", \"\\uc124\\ub808\\uc774\", \"\\uc120\\ubb3c\", \"\\uc544\\uce68\", \"\\uae68\\uc6b0\", \"\\ub2e4\\uc74c\", \"\\ubab0\\ub798\", \"you\\u2019re\", \"\\uadf8\\ub9bd\", \"\\uac70\\uc9c0\", \"\\uc18c\\uc911\", \"\\ub0b4\\uac90\", \"\\ub9cc\\ub098\", \"\\ube60\\uc9c0\", \"\\uc5b4\\uc81c\", \"\\uadf8\\ub304\", \"\\ub4e4\\ub9ac\", \"\\uadf8\\ub300\", \"\\uc5b8\\uc81c\\ub098\", \"\\ud558\\uc597\", \"\\uba40\\ub9ac\", \"\\uaebc\\ub0b4\", \"\\ud558\\ub298\", \"\\ubaa8\\ub450\", \"\\uc815\\ub9d0\", \"\\uc544\\uc774\", \"\\uc544\\ubb34\", \"\\uc544\\uc8fc\", \"\\uc774\\ub7f0\", \"\\uc544\\ub2c8\", \"\\ubc84\\ub9ac\", \"\\uc0ac\\ub791\", \"\\uc2dc\\uac04\", \"\\ub0b4\\ub9ac\", \"\\ubcf4\\uc774\", \"\\ubc14\\ub77c\", \"\\uae30\\ub2e4\\ub9ac\", \"\\uc544\\uc9c1\", \"\\ub9c8\\uc74c\", \"\\uc5c6\\uc774\", \"\\uadf8\\ub807\", \"\\ud558\\ub098\", \"\\uc0ac\\ub78c\\ub4e4\", \"\\uadf8\\ub9ac\\uace0\", \"\\ucc44\\ud50c\\ub9b0\", \"50cm\", \"\\ubbf8\\uc2a4\\ud130\", \"\\uc5b4\\uc82f\\ubc24\", \"\\uc544\\uc9c1\\uae4c\\uc9c4\", \"\\uc911\\uc694\", \"\\ub2e4\\ubb3c\", \"\\ud53c\\uace4\", \"\\uae30\\ucc28\", \"\\ub0a0\\ub9ac\", \"\\ud5a5\\ud558\", \"\\uc870\\uae09\", \"\\ud15c\\ud3ec\", \"\\uc548\\uacbd\", \"\\uba38\\ubb34\\ub974\", \"\\ub4e4\\uc744\\ub798\\uc694\", \"\\ud589\\uc5ec\", \"\\uc6b0\\uc6b0\\uc6b0\", \"\\ud63c\\uc790\\ub9cc\", \"\\ud5a5\\uae0b\", \"\\ucf54\\uc2a4\\ubaa8\\uc2a4\", \"\\ubb49\\uac8c\\uad6c\\ub984\", \"\\uac04\\uc774\\uc5ed\", \"\\ud480\\ub9ac\", \"we\\u2019re\", \"There\\u2019s\", \"\\uc0ac\\uc18c\", \"\\uc0ac\\ub791\\ud558\\uace0\\ud30c\", \"\\uc5ec\\uc790\", \"\\ucda9\\ubd84\\ud788\", \"\\ub2ec\\ube5b\", \"\\ubbf8\\uc18c\", \"\\ube44\\ubc00\", \"\\ucc44\\uc6b0\", \"\\uadf8\\ub798\\uc11c\", \"\\uc5b4\\ub514\", \"\\ub300\\uc2e0\", \"\\uc0ac\\ub78c\", \"\\uc6c3\\uc74c\", \"\\ubaa8\\ub450\", \"\\uc0ac\\ub791\", \"\\uc785\\uc220\", \"\\uadf8\\ub54c\", \"\\ubaa8\\ub974\", \"\\uac00\\ub4dd\", \"\\ub204\\uad6c\", \"\\uadf8\\ub798\\ub3c4\", \"\\uc544\\ubb34\", \"\\uc5bc\\uad74\", \"\\ud558\\ub8e8\", \"\\ud587\\uc0b4\", \"\\ubc14\\ub77c\", \"\\uc544\\ud504\", \"\\uadf8\\ub300\", \"\\ub9c8\\uc74c\", \"\\ub2f9\\uc2e0\", \"\\uc2ac\\ud504\", \"\\ubc84\\ub9ac\", \"\\uc6b0\\ub9ac\", \"\\ud558\\ub098\", \"\\uc9c0\\uae08\", \"\\uc5b8\\uc81c\\ub098\", \"\\uc0bc\\ucd0c\", \"\\uc0ac\\uc9c4\", \"\\ub098\\ubb34\", \"\\uc090\\uc5d0\\ub85c\", \"\\ubabb\\uc4f0\", \"\\ubab0\\uc544\\uce58\", \"\\ube57\\ubb3c\", \"\\ubc18\\ucabd\", \"\\ub0a0\\uac1c\\uc9d3\", \"\\uc624\\ub9ac\", \"\\uc81c\\uc81c\", \"\\ubb34\\ub514\", \"\\uc501\\uc4f8\", \"\\uc5ec\\uc6b0\", \"\\uc544\\uc608\", \"\\ub9c8\\uc2dc\", \"\\ub9de\\ud788\", \"\\uc6b0\\uc6b8\", \"\\uc6b8\\uc801\", \"\\uac00\\uc5fd\", \"\\ucca0\\ubd80\\uc9c0\", \"\\uc624\\ube60\", \"\\ub2ec\\ub798\", \"\\uadf8\\ub9ac\\uc6c0\", \"\\ubaa8\\uc73c\", \"\\uadf8\\ub550\", \"\\ub41c\\uac70\\uc8e0\", \"\\uc990\\uaca8\\ub4e3\\ub358\", \"\\ud55c\\uce58\", \"\\uba38\\uae08\", \"\\uae30\\ub3c4\", \"\\ud0dc\\uc6b0\", \"\\uc5b4\\uc11c\", \"\\ucc28\\ub77c\\ub9ac\", \"\\ub178\\ub798\", \"\\ub208\\ubb3c\", \"\\ud750\\ub974\", \"\\uc5b4\\ub290\", \"\\uc9c0\\ub098\", \"\\ud558\\ub098\", \"\\ubb34\\uc12d\", \"\\uae30\\uc5b5\", \"\\ubabb\\ud558\", \"\\ub9e4\\uc77c\", \"\\uc2ac\\ud504\", \"\\ub108\\ubb34\", \"\\ubaa8\\uc2b5\", \"\\ud558\\ub298\", \"\\uc624\\ub298\", \"\\uc774\\uc81c\", \"\\uc870\\uae08\", \"\\uadf8\\ub300\", \"\\uc544\\ub2c8\", \"\\ubaa8\\ub974\", \"\\uc0ac\\ub791\", \"\\ud63c\\uc790\", \"\\uc2dc\\uac04\", \"\\uc9c0\\uae08\", \"\\uc6b0\\ub9ac\", \"\\uc544\\uc9c1\", \"\\ubc84\\ub9ac\", \"\\uc544\\ubb34\", \"\\ubc14\\ub77c\", \"\\ub9c8\\uc74c\", \"\\uac83\\uc774\\uae38\", \"\\ubd80\\ub4dc\\ub7fd\", \"\\ube60\\ube60\\ube60\", \"\\uc0e4\\ubc14\\ub77c\", \"\\uafcd\\ub530\\ub9ac\", \"\\uc18d\\uc0ad\\uc774\", \"\\ub450\\ube44\\ub450\\ubc14\\ub460\", \"\\uc6d0\\ud558\", \"\\uc6b4\\uba85\", \"\\uc6c0\\ud30c\\ub8f8\\ud30c\\ub8f8\", \"\\ub69c\\ubc85\", \"\\uc6c0\\ud30c\\ub8f8\\ud30c\\ub460\", \"\\uba4d\\uccad\\uc774\", \"\\ub784\\ub77c\\ub77c\\ub9b4\\ub77c\", \"\\ube60\\ube60\\ube60\\ube60\", \"\\uc5c7\\uac08\\ub9ac\", \"\\ube60\\ube60\\ube60\\ube60\\ube60\", \"\\uc0dd\\uae00\", \"\\ud6cc\\uca4d\", \"\\ubaa8\\ub4e0\\uac8c\", \"\\uadf8\\uae5f\", \"\\ub9cc\\ud55c\", \"\\uaca8\\ub97c\", \"\\uc124\\ud0d5\", \"\\ub420\\ub798\", \"\\uc548\\ubd80\", \"\\uae30\\uc5b4\", \"\\uc54a\\uc744\\uac8c\", \"\\ub2e4\\ub4ec\", \"\\ud06c\\ub808\\ud30c\\uc2a4\", \"\\uc194\\uc9c1\\ud788\", \"\\uc0ac\\ub791\\ud55c\\ub2e8\", \"\\ub610\\ub2e4\\uc2dc\", \"\\ub5a8\\ub9ac\", \"\\uc804\\ubd80\", \"\\ub2e4\\uc2dc\", \"\\uad1c\\ud788\", \"\\uba48\\ucd94\", \"\\ucc98\\uc74c\", \"\\ub9c8\\ub514\", \"\\uc774\\ub984\", \"\\ub9c8\\uc74c\", \"\\uac00\\uc2b4\", \"\\ub9cc\\ub098\", \"\\uadf8\\ub9ac\", \"\\uadf8\\ub300\", \"\\uae30\\ub2e4\\ub9ac\", \"\\uc228\\uae30\", \"\\ud639\\uc2dc\", \"\\ubc84\\ub9ac\", \"\\uc544\\ub2c8\", \"\\uc2dc\\uac04\", \"\\ubaa8\\ub4e0\", \"\\uc6b0\\ub9ac\", \"\\uc0ac\\ub791\", \"\\uc774\\ub807\", \"\\uadf8\\ub807\", \"\\ud63c\\uc790\", \"\\ub9c8\\uc26c\\uba5c\\ub85c\\uc6b0\", \"\\uac00\\ub974\\uce58\", \"\\uccab\\uc0ac\\ub791\", \"\\ub9d0\\ub791\\ud574\", \"\\uaf2c\\ub9ac\", \"can\\u2019t\", \"\\ub098\\ub09c\\ub098\\ub098\", \"\\ubd04\\ub0a0\", \"\\uc0c1\\ud558\", \"\\ub9d0\\ub791\\ub9d0\\ub791\", \"\\ubb34\\ub108\\uc9c0\", \"\\uc120\\uba85\", \"\\uc2f6\\uc744\\ub550\", \"\\ub9dd\\uc124\\uc774\", \"\\uc5b4\\ub5a1\", \"\\uc11c\\ud234\", \"\\ub418\\ub3cc\\ub9ac\", \"\\uc5c4\\uc9c0\\uc190\\uac00\\ub77d\", \"\\ud53c\\ubd80\", \"\\uc6c3\\uae30\", \"\\uac8c\\uc784\", \"\\ucd5c\\uc545\", \"\\uc0ac\\ub791\\ub2c8\", \"\\ub77c\\uc77c\\ub77d\", \"\\ud558\\uc774\\uc580\", \"\\ub3c4\\ubb34\\uc9c0\", \"\\ucfe0\\ud0a4\", \"\\ud1b5\\ud1b5\\ud558\", \"We\\u2019re\", \"\\uba38\\ub9bf\\uc18d\", \"\\uc804\\ud654\", \"\\uc5b4\\uca4c\", \"\\ubbf8\\uce58\", \"\\ube68\\ub9ac\", \"\\uc548\\ub155\", \"I\\u2019m\", \"\\uc5b4\\ub5a1\\ud558\", \"\\uc5bc\\ub9c8\\ub098\", \"\\ub108\\ubb34\", \"\\uc774\\uc0c1\", \"\\ubd04\\ubc14\\ub78c\", \"\\ub72c\\uad6c\\ub984\", \"\\ub2e4\\ub974\", \"\\uc0ac\\ub791\", \"\\uc6b0\\ub9ac\", \"\\uba38\\ub9ac\", \"\\uad1c\\ucc2e\", \"\\uc9c0\\uae08\", \"\\uc544\\ud504\", \"\\uc774\\ub7f0\", \"\\uc544\\ub2c8\", \"\\uc5b4\\ub5bb\", \"\\uae30\\uc5b5\", \"\\ub2e4\\uc2dc\", \"\\ub9c8\\uc74c\", \"\\uc0dd\\uac01\", \"\\ubaa8\\ub974\", \"\\ub204\\uad6c\", \"\\uc774\\ub807\", \"\\ubc84\\ub9ac\", \"\\ud589\\ubcf5\", \"\\uc624\\ub298\", \"\\uc5bc\\uad74\", \"\\uc5c6\\uc774\"], \"Freq\": [57.0, 16.0, 41.0, 20.0, 14.0, 125.0, 32.0, 26.0, 41.0, 10.0, 13.0, 51.0, 12.0, 11.0, 87.0, 18.0, 16.0, 20.0, 11.0, 8.0, 17.0, 27.0, 11.0, 28.0, 20.0, 31.0, 31.0, 12.0, 10.0, 76.0, 6.979159926553557, 6.979126546814721, 5.276898079204015, 5.2768819108930165, 5.276872522841469, 5.276867307257276, 5.276721792458292, 5.276664942590588, 4.425744989296423, 4.425737687478553, 4.425716303583362, 4.425630246444178, 9.487529427811095, 3.574602591336428, 3.5745992012067025, 3.5745947679601384, 3.5745770349738826, 3.574566343026287, 3.574563213675771, 3.57455669419553, 3.574553564845014, 3.57454156900137, 3.5745384396508544, 3.5745353103003383, 3.574537135754806, 3.5745360926379672, 3.5745332240666614, 3.5744758526405382, 3.5722944345518206, 7.830443406065973, 6.979278320314737, 6.979578737964254, 6.8988941720571235, 18.61939773833384, 7.830109087119202, 12.0878674113773, 6.979763891203105, 5.2768819108930165, 8.222210969605552, 5.277078538417093, 7.790271411936309, 11.244403135687014, 25.469537672471738, 10.385673888180685, 6.979635066273538, 6.9794968532924235, 11.586108392791761, 32.873572647905135, 13.56669832592494, 8.136758316629189, 9.534470728664841, 6.9518683391469, 14.218554555766847, 15.515542041192226, 12.003453181213763, 10.062884511827072, 15.059813682460337, 10.131418331239795, 9.496270746918547, 15.175411890513761, 14.642388574041766, 20.700543091591022, 13.07524321547107, 10.173942032282078, 9.691462942224346, 10.903088004279901, 10.192293586823531, 8.936104487189395, 9.654408302766832, 8.68185310271586, 8.866510861068658, 8.972767957832435, 11.823645006393258, 10.990343989956452, 10.159805339738323, 8.494435884489262, 8.494126178163613, 6.828039578728218, 5.163182879341074, 5.163164136306956, 5.163086040331469, 5.163083362755167, 4.33027457409529, 4.330212989840334, 4.330042517482412, 4.330036269804373, 3.4975563767669793, 3.497500593927345, 3.4974840822068134, 3.4974622153336767, 3.497325882073611, 3.4966687602227218, 3.4510292490163623, 2.6647455799248756, 2.6647455799248756, 2.6647455799248756, 2.6647455799248756, 2.664743125479932, 2.6647404479036294, 2.6647395553781954, 2.664730630123854, 2.6647297375984196, 10.996584527791994, 5.163804523305956, 5.099706024201969, 5.132842815995468, 18.771735949954724, 10.165301511361788, 10.162068784239315, 20.159075699738736, 4.9441102802166155, 28.67986429019656, 10.908724324054766, 21.800453178792544, 50.72514433577853, 13.49228110473129, 9.238604848445187, 31.83437940887537, 11.763579829726174, 13.893311525326723, 11.827503393845067, 18.822788404787815, 14.088837072184853, 14.219808931967583, 8.229820836299409, 13.154777074436556, 11.731230245365591, 16.891831048625683, 14.172635392671285, 7.994643954503956, 10.160950449870331, 11.82645556898538, 11.695912121411041, 10.679169459968993, 9.88361869929478, 9.328080523218215, 8.47219211942813, 7.64166124469769, 7.6416506320826105, 7.6416453257750705, 7.641623216160322, 6.811016726547442, 6.810293299952862, 5.980320471898682, 5.149751568630875, 5.1497493576694, 5.149710444747442, 5.149497750253559, 5.149496865868969, 5.149486253253889, 4.319017727637042, 4.319009768175732, 4.318892587217563, 17.89627390455812, 3.4884890638680774, 3.4884125646010467, 3.488380063467366, 3.488370556333024, 3.484280277604501, 3.4839935159012096, 10.134353158934317, 6.811702566796949, 2.657827079122178, 2.6578224361030807, 2.657816687603246, 2.657799884296037, 8.422999110996699, 5.149878477819533, 5.149918275126081, 7.642527941595842, 10.837754633243902, 19.270786203029004, 18.442855418993023, 9.638260276355123, 12.947052561967961, 21.39145731757983, 9.581913480975581, 17.73326236816919, 13.973647962752157, 11.797448992952082, 13.983024208174816, 16.515669965031655, 13.190395403815904, 14.214237715371581, 12.74980826687121, 13.55398094328275, 12.156065175407996, 23.236775290049444, 18.902026129326355, 21.24175400050048, 18.394168278547046, 10.567035666414029, 12.625621213981121, 11.514900497847025, 12.26517435542401, 9.70714676083558, 11.226256824148027, 10.964599261826791, 10.22834820630807, 10.468690331242309, 9.423355138195976, 7.105225918827681, 6.334897820986015, 6.3348827562018295, 6.334865883643542, 6.332382002027108, 4.7898698249321745, 11.742049588266894, 3.2447020276810967, 3.2446990147242594, 3.244698713428576, 3.24469660435879, 3.2446818408702884, 3.2446676799731544, 3.2446131454544047, 3.2446113376803023, 3.2446074208364144, 3.2444760559183203, 3.244474549439902, 3.239010853511661, 2.4720938747530194, 2.472090560500499, 2.4720869449522946, 2.4720842332911412, 2.4720798645037276, 2.47207353729437, 2.4720474752177295, 2.4720131275097876, 2.4717818830725466, 2.4715092104787972, 10.199249372498342, 12.513054396214155, 7.880621207477838, 4.013431450625044, 10.972213807572397, 29.439591613001557, 6.333801707288709, 7.881466643166304, 6.038183639450982, 9.423782978066832, 7.883155104177767, 14.663876532788533, 8.060770114902475, 13.389049903286738, 6.8709757558462545, 14.617413122813574, 9.72769089534592, 4.541180367605042, 5.563090963928742, 9.95177353418516, 10.285350037438322, 9.151417103323077, 7.444868106785122, 8.870762584320696, 11.140190971966863, 6.902857057321434, 7.207214507760604, 6.62191570482817, 7.835226298008702, 5.530888640020124, 4.7625515202966975, 4.762549190158586, 4.762505791336245, 3.994482657723443, 3.9941031364784125, 3.22620000497839, 3.2261991311765983, 3.2261901018914134, 3.2261333047749274, 3.2261027217122042, 3.2260584490880717, 3.226042138121286, 3.2260258271545004, 2.4580758016249695, 2.4580653160034647, 2.4580624033308243, 2.4580624033308243, 2.458061820796296, 2.4580367718115896, 2.4580219171811244, 2.458020460844804, 2.4580125966286754, 2.4580024022744342, 2.457999489601794, 2.45800065467085, 2.457998907067266, 2.457991042851137, 2.457990751583873, 8.603607399088997, 8.607413097160807, 7.0676677356820266, 6.299781206416054, 9.314460302850817, 8.604983345644273, 5.531569622883425, 7.069461942028449, 15.481653155473456, 3.9948461592689517, 3.227033611888043, 3.226424572038957, 6.301017927219124, 24.74151133194024, 14.538186059174253, 7.836950017677228, 6.113372487575261, 10.603901645778643, 9.361765601736382, 6.931181060826841, 11.396026271688099, 5.531746130845427, 8.606593471079828, 10.090878632814743, 10.02916608998122, 6.300725494886038, 10.909584309239532, 7.070658467949082, 6.978675100899498, 7.835277561047171, 6.1690668661994055, 6.300303157353195, 6.3002769432994326, 6.144597503348284], \"Total\": [57.0, 16.0, 41.0, 20.0, 14.0, 125.0, 32.0, 26.0, 41.0, 10.0, 13.0, 51.0, 12.0, 11.0, 87.0, 18.0, 16.0, 20.0, 11.0, 8.0, 17.0, 27.0, 11.0, 28.0, 20.0, 31.0, 31.0, 12.0, 10.0, 76.0, 7.62017616116266, 7.620166687219835, 5.917829473659764, 5.91782938364782, 5.917827243293886, 5.917827407198405, 5.917815030482845, 5.9178085202332715, 5.066657329104915, 5.066658406579834, 5.06665649811604, 5.066652051868573, 11.002607584117372, 4.215484107118836, 4.215482856711396, 4.215484049744727, 4.215481177992372, 4.215476496730412, 4.2154799017984494, 4.215480943794588, 4.215480731029001, 4.215477304489833, 4.215477708506616, 4.215477371908506, 4.215479640873113, 4.215479599869233, 4.215479937102711, 4.215477006457739, 4.215318255021205, 9.243746774794479, 8.388184726008003, 8.450522781663174, 8.450746471687271, 24.391468255046743, 10.136679876781802, 17.658532667805346, 9.28122946564246, 6.685830648542182, 11.58877446633886, 6.748184676151746, 10.963279558615993, 17.38720349432633, 51.71959397957582, 16.666503202537566, 10.057944166200743, 10.057930476414704, 19.82109065543156, 87.77364196361535, 26.07661394260503, 12.54180039236288, 15.8736219731573, 10.10926780462139, 32.62940408595174, 41.814106356660275, 29.46464439790512, 21.475168318885782, 49.0856964859961, 22.4793597285306, 20.235400510506995, 60.14508862637638, 55.48215206240751, 125.7015580098237, 46.71094591444196, 24.25352669290869, 24.833685008803734, 40.519103452762266, 39.11913378389744, 24.050956011078785, 58.98877664945019, 28.607184462835, 37.42940631786541, 44.80950748184175, 12.470153690769967, 11.63724008558614, 10.804603027603811, 9.138980183689256, 9.138978543980087, 7.473308635970819, 5.807721635047563, 5.80772429492684, 5.80771885060247, 5.807718299648373, 4.974898669979595, 4.974904998502575, 4.974890263883962, 4.974889028551612, 4.142089658037858, 4.142087053239884, 4.142091491157958, 4.142089671792489, 4.142091706466272, 4.1420675071917525, 4.1418728629566, 3.3092714690528178, 3.309271478468308, 3.3092714872570217, 3.3092715067147784, 3.3092714084634967, 3.3092721832848127, 3.3092719816848395, 3.3092715785530578, 3.3092704801615893, 14.834748282949576, 6.6585090260789075, 6.5756620287487415, 6.633853539927528, 26.537015979957523, 14.104996191853203, 14.147047233615941, 31.494332188195486, 6.622167788855147, 53.548681458207554, 17.413468390173005, 41.814106356660275, 125.7015580098237, 23.625510727605082, 14.802003858236212, 76.99126700512906, 22.245053827734022, 28.168891663622347, 22.519590637723343, 49.0856964859961, 34.425042349562645, 35.517997295720384, 15.040774648910803, 40.519103452762266, 37.089119584039935, 87.77364196361535, 58.98877664945019, 15.904908634320094, 29.531092103748563, 55.48215206240751, 55.696520743147566, 44.80950748184175, 42.1807063226189, 26.07661394260503, 9.117403893842736, 8.286739802393852, 8.286740822704921, 8.286748754432047, 8.286739419764581, 7.456086483101419, 7.456063018131623, 6.625424048000619, 5.794775109567718, 5.794775342766865, 5.794772480473742, 5.7947757833829865, 5.794774824947945, 5.794768571277695, 4.964117365924485, 4.96411910077997, 4.964113658406097, 20.691697845504656, 4.133461019950255, 4.133456469271368, 4.13346034033448, 4.13345992176931, 4.133389859698825, 4.1332642584965615, 12.31498995965665, 8.306882104288151, 3.302797076625828, 3.3027991806685284, 3.302797961189798, 3.3027967974623142, 10.784937468447747, 6.562787723324168, 6.567170633717703, 9.988754234498174, 14.940611198325211, 32.149080005151646, 31.631039431474566, 14.861543077659512, 23.11365340846303, 44.80950748184175, 15.616151079557115, 37.42515829971302, 28.60829176439556, 22.53812350308205, 29.531092103748563, 41.990838561686544, 28.614746731549562, 32.62940408595174, 27.07268778803852, 31.233686012050907, 26.40529164296493, 87.77364196361535, 60.14508862637638, 76.99126700512906, 125.7015580098237, 26.180419173802044, 46.71094591444196, 42.1807063226189, 55.696520743147566, 24.050956011078785, 55.48215206240751, 49.0856964859961, 40.519103452762266, 58.98877664945019, 10.082236865256359, 7.764353905414457, 6.991674095976267, 6.991675067294788, 6.99167632560545, 6.991775026087599, 5.446475246713417, 14.065309672408763, 3.9012864730346632, 3.901286412048138, 3.9012865163144665, 3.90128646278646, 3.9012883857374225, 3.9012885174166425, 3.9012941217503223, 3.9012936631110815, 3.9012947659142174, 3.9013084506799656, 3.9013084535656346, 3.9018596123911244, 3.1286916752358107, 3.128692155517403, 3.1286922728492765, 3.1286924141201484, 3.128692705563852, 3.1286917176922495, 3.1286958538373044, 3.1286970736841013, 3.1287223154342882, 3.1287499566749175, 13.389098429115638, 16.577045914224527, 11.867819367429382, 5.506528800189382, 18.049847643704172, 57.7228001599052, 9.526045484367396, 12.695487971940773, 9.464367601863504, 20.148862796971912, 15.934142680334443, 58.98877664945019, 20.22394070390034, 51.71959397957582, 16.046065530727667, 87.77364196361535, 39.11913378389744, 7.983935850291315, 13.422888525259136, 55.48215206240751, 60.14508862637638, 46.71094591444196, 30.989565652676486, 55.696520743147566, 125.7015580098237, 28.122165252668875, 37.42940631786541, 26.180419173802044, 8.492967938383066, 6.18833614819173, 5.420144754846573, 5.4201484556417485, 5.420145057767357, 4.651931136875383, 4.6519686226966535, 3.8837322853537857, 3.8837315941052206, 3.883737880590003, 3.8837393423455637, 3.883741341909121, 3.8837478756730155, 3.883748998126065, 3.88375177938788, 3.115523309796575, 3.1155243068619125, 3.1155230925791395, 3.115524949789585, 3.1155246277067157, 3.1155240685139827, 3.1155259742868786, 3.115527903059097, 3.1155259049893256, 3.115526411256545, 3.1155271530439483, 3.115531160750186, 3.115531806412124, 3.115528053504707, 3.11552801702338, 11.814319909969573, 12.607308764502552, 10.21631738966561, 10.282125247932157, 17.263704219977058, 16.051456124184725, 9.394596638962657, 13.579282092476072, 41.990838561686544, 6.312870224855347, 4.7344478143204025, 4.734520372187553, 13.550464912592517, 125.7015580098237, 55.696520743147566, 21.058419259549808, 14.307685705021544, 42.1807063226189, 37.089119584039935, 20.235400510506995, 60.14508862637638, 12.761473129736117, 37.42515829971302, 57.7228001599052, 58.98877664945019, 19.37256442244164, 76.99126700512906, 28.168891663622347, 28.122165252668875, 55.48215206240751, 23.532172346593754, 27.07268778803852, 34.425042349562645, 28.607184462835], \"Category\": [\"Default\", \"Default\", \"Default\", \"Default\", \"Default\", \"Default\", \"Default\", \"Default\", \"Default\", \"Default\", \"Default\", \"Default\", \"Default\", \"Default\", \"Default\", \"Default\", \"Default\", \"Default\", \"Default\", \"Default\", \"Default\", \"Default\", \"Default\", \"Default\", \"Default\", \"Default\", \"Default\", \"Default\", \"Default\", \"Default\", \"Topic1\", \"Topic1\", \"Topic1\", \"Topic1\", \"Topic1\", \"Topic1\", \"Topic1\", \"Topic1\", \"Topic1\", \"Topic1\", \"Topic1\", \"Topic1\", \"Topic1\", \"Topic1\", \"Topic1\", \"Topic1\", \"Topic1\", \"Topic1\", \"Topic1\", \"Topic1\", \"Topic1\", \"Topic1\", \"Topic1\", \"Topic1\", \"Topic1\", \"Topic1\", \"Topic1\", \"Topic1\", \"Topic1\", \"Topic1\", \"Topic1\", \"Topic1\", \"Topic1\", \"Topic1\", \"Topic1\", \"Topic1\", \"Topic1\", \"Topic1\", \"Topic1\", \"Topic1\", \"Topic1\", \"Topic1\", \"Topic1\", \"Topic1\", \"Topic1\", \"Topic1\", \"Topic1\", \"Topic1\", \"Topic1\", \"Topic1\", \"Topic1\", \"Topic1\", \"Topic1\", \"Topic1\", \"Topic1\", \"Topic1\", \"Topic1\", \"Topic1\", \"Topic1\", \"Topic1\", \"Topic1\", \"Topic1\", \"Topic1\", \"Topic1\", \"Topic1\", \"Topic1\", \"Topic1\", \"Topic1\", \"Topic1\", \"Topic1\", \"Topic1\", \"Topic1\", \"Topic2\", \"Topic2\", \"Topic2\", \"Topic2\", \"Topic2\", \"Topic2\", \"Topic2\", \"Topic2\", \"Topic2\", \"Topic2\", \"Topic2\", \"Topic2\", \"Topic2\", \"Topic2\", \"Topic2\", \"Topic2\", \"Topic2\", \"Topic2\", \"Topic2\", \"Topic2\", \"Topic2\", \"Topic2\", \"Topic2\", \"Topic2\", \"Topic2\", \"Topic2\", \"Topic2\", \"Topic2\", \"Topic2\", \"Topic2\", \"Topic2\", \"Topic2\", \"Topic2\", \"Topic2\", \"Topic2\", \"Topic2\", \"Topic2\", \"Topic2\", \"Topic2\", \"Topic2\", \"Topic2\", \"Topic2\", \"Topic2\", \"Topic2\", \"Topic2\", \"Topic2\", \"Topic2\", \"Topic2\", \"Topic2\", \"Topic2\", \"Topic2\", \"Topic2\", \"Topic2\", \"Topic2\", \"Topic2\", \"Topic2\", \"Topic2\", \"Topic2\", \"Topic2\", \"Topic2\", \"Topic2\", \"Topic2\", \"Topic2\", \"Topic2\", \"Topic3\", \"Topic3\", \"Topic3\", \"Topic3\", \"Topic3\", \"Topic3\", \"Topic3\", \"Topic3\", \"Topic3\", \"Topic3\", \"Topic3\", \"Topic3\", \"Topic3\", \"Topic3\", \"Topic3\", \"Topic3\", \"Topic3\", \"Topic3\", \"Topic3\", \"Topic3\", \"Topic3\", \"Topic3\", \"Topic3\", \"Topic3\", \"Topic3\", \"Topic3\", \"Topic3\", \"Topic3\", \"Topic3\", \"Topic3\", \"Topic3\", \"Topic3\", \"Topic3\", \"Topic3\", \"Topic3\", \"Topic3\", \"Topic3\", \"Topic3\", \"Topic3\", \"Topic3\", \"Topic3\", \"Topic3\", \"Topic3\", \"Topic3\", \"Topic3\", \"Topic3\", \"Topic3\", \"Topic3\", \"Topic3\", \"Topic3\", \"Topic3\", \"Topic3\", \"Topic3\", \"Topic3\", \"Topic3\", \"Topic3\", \"Topic3\", \"Topic3\", \"Topic3\", \"Topic3\", \"Topic3\", \"Topic3\", \"Topic3\", \"Topic3\", \"Topic4\", \"Topic4\", \"Topic4\", \"Topic4\", \"Topic4\", \"Topic4\", \"Topic4\", \"Topic4\", \"Topic4\", \"Topic4\", \"Topic4\", \"Topic4\", \"Topic4\", \"Topic4\", \"Topic4\", \"Topic4\", \"Topic4\", \"Topic4\", \"Topic4\", \"Topic4\", \"Topic4\", \"Topic4\", \"Topic4\", \"Topic4\", \"Topic4\", \"Topic4\", \"Topic4\", \"Topic4\", \"Topic4\", \"Topic4\", \"Topic4\", \"Topic4\", \"Topic4\", \"Topic4\", \"Topic4\", \"Topic4\", \"Topic4\", \"Topic4\", \"Topic4\", \"Topic4\", \"Topic4\", \"Topic4\", \"Topic4\", \"Topic4\", \"Topic4\", \"Topic4\", \"Topic4\", \"Topic4\", \"Topic4\", \"Topic4\", \"Topic4\", \"Topic4\", \"Topic4\", \"Topic4\", \"Topic4\", \"Topic4\", \"Topic4\", \"Topic4\", \"Topic5\", \"Topic5\", \"Topic5\", \"Topic5\", \"Topic5\", \"Topic5\", \"Topic5\", \"Topic5\", \"Topic5\", \"Topic5\", \"Topic5\", \"Topic5\", \"Topic5\", \"Topic5\", \"Topic5\", \"Topic5\", \"Topic5\", \"Topic5\", \"Topic5\", \"Topic5\", \"Topic5\", \"Topic5\", \"Topic5\", \"Topic5\", \"Topic5\", \"Topic5\", \"Topic5\", \"Topic5\", \"Topic5\", \"Topic5\", \"Topic5\", \"Topic5\", \"Topic5\", \"Topic5\", \"Topic5\", \"Topic5\", \"Topic5\", \"Topic5\", \"Topic5\", \"Topic5\", \"Topic5\", \"Topic5\", \"Topic5\", \"Topic5\", \"Topic5\", \"Topic5\", \"Topic5\", \"Topic5\", \"Topic5\", \"Topic5\", \"Topic5\", \"Topic5\", \"Topic5\", \"Topic5\", \"Topic5\", \"Topic5\", \"Topic5\", \"Topic5\", \"Topic5\", \"Topic5\", \"Topic5\", \"Topic5\", \"Topic5\", \"Topic5\"], \"logprob\": [30.0, 29.0, 28.0, 27.0, 26.0, 25.0, 24.0, 23.0, 22.0, 21.0, 20.0, 19.0, 18.0, 17.0, 16.0, 15.0, 14.0, 13.0, 12.0, 11.0, 10.0, 9.0, 8.0, 7.0, 6.0, 5.0, 4.0, 3.0, 2.0, 1.0, -5.7713, -5.7713, -6.0509, -6.0509, -6.0509, -6.0509, -6.051, -6.051, -6.2268, -6.2268, -6.2268, -6.2269, -5.4643, -6.4404, -6.4404, -6.4404, -6.4404, -6.4404, -6.4404, -6.4404, -6.4404, -6.4404, -6.4404, -6.4404, -6.4404, -6.4404, -6.4404, -6.4404, -6.4411, -5.6562, -5.7713, -5.7713, -5.7829, -4.7901, -5.6563, -5.2221, -5.7713, -6.0509, -5.6074, -6.0509, -5.6614, -5.2944, -4.4768, -5.3738, -5.7713, -5.7713, -5.2645, -4.2216, -5.1066, -5.6179, -5.4594, -5.7753, -5.0597, -4.9724, -5.2291, -5.4054, -5.0022, -5.3986, -5.4634, -4.9946, -5.0303, -4.6841, -5.1435, -5.3944, -5.443, -5.3252, -5.3926, -5.5242, -5.4469, -5.553, -5.532, -5.5201, -5.0883, -5.1613, -5.2399, -5.4189, -5.419, -5.6373, -5.9168, -5.9168, -5.9168, -5.9168, -6.0927, -6.0927, -6.0928, -6.0928, -6.3063, -6.3063, -6.3063, -6.3063, -6.3064, -6.3065, -6.3197, -6.5782, -6.5782, -6.5782, -6.5782, -6.5782, -6.5782, -6.5782, -6.5782, -6.5782, -5.1608, -5.9167, -5.9292, -5.9227, -4.626, -5.2394, -5.2397, -4.5547, -5.9602, -4.2022, -5.1688, -4.4764, -3.6319, -4.9562, -5.335, -4.0978, -5.0933, -4.9269, -5.0879, -4.6233, -4.913, -4.9037, -5.4506, -4.9816, -5.0961, -4.7315, -4.907, -5.4796, -5.2398, -5.088, -5.0991, -5.1901, -5.2675, -5.3253, -5.4124, -5.5156, -5.5156, -5.5156, -5.5156, -5.6306, -5.6308, -5.7607, -5.9102, -5.9102, -5.9102, -5.9103, -5.9103, -5.9103, -6.0862, -6.0862, -6.0862, -4.6646, -6.2997, -6.2997, -6.2998, -6.2998, -6.3009, -6.301, -5.2333, -5.6305, -6.5717, -6.5717, -6.5717, -6.5717, -5.4182, -5.9102, -5.9102, -5.5155, -5.1662, -4.5906, -4.6345, -5.2834, -4.9883, -4.4862, -5.2893, -4.6737, -4.912, -5.0813, -4.9113, -4.7449, -4.9697, -4.8949, -5.0037, -4.9425, -5.0514, -4.4035, -4.6099, -4.4932, -4.6372, -5.1914, -5.0135, -5.1055, -5.0424, -5.2763, -5.1309, -5.1545, -5.224, -5.2008, -4.9223, -5.2047, -5.3195, -5.3195, -5.3195, -5.3199, -5.599, -4.7024, -5.9885, -5.9885, -5.9885, -5.9885, -5.9885, -5.9885, -5.9885, -5.9885, -5.9885, -5.9886, -5.9886, -5.9903, -6.2605, -6.2605, -6.2605, -6.2605, -6.2605, -6.2605, -6.2605, -6.2605, -6.2606, -6.2607, -4.8432, -4.6388, -5.1011, -5.7759, -4.7702, -3.7832, -5.3196, -5.101, -5.3674, -4.9223, -5.1008, -4.4801, -5.0785, -4.5711, -5.2382, -4.4833, -4.8906, -5.6523, -5.4494, -4.8678, -4.8348, -4.9516, -5.158, -4.9828, -4.755, -5.2336, -5.1905, -5.2752, -5.0731, -5.4213, -5.5709, -5.5709, -5.5709, -5.7468, -5.7469, -5.9604, -5.9604, -5.9604, -5.9604, -5.9604, -5.9604, -5.9604, -5.9604, -6.2323, -6.2323, -6.2323, -6.2323, -6.2323, -6.2323, -6.2323, -6.2323, -6.2323, -6.2323, -6.2323, -6.2323, -6.2323, -6.2323, -6.2323, -4.9795, -4.9791, -5.1762, -5.2912, -4.9001, -4.9793, -5.4212, -5.1759, -4.392, -5.7467, -5.9601, -5.9603, -5.291, -3.9232, -4.4549, -5.0728, -5.3212, -4.7705, -4.8951, -5.1957, -4.6984, -5.4212, -4.9792, -4.8201, -4.8262, -5.291, -4.742, -5.1757, -5.1888, -5.073, -5.3121, -5.2911, -5.2911, -5.3161], \"loglift\": [30.0, 29.0, 28.0, 27.0, 26.0, 25.0, 24.0, 23.0, 22.0, 21.0, 20.0, 19.0, 18.0, 17.0, 16.0, 15.0, 14.0, 13.0, 12.0, 11.0, 10.0, 9.0, 8.0, 7.0, 6.0, 5.0, 4.0, 3.0, 2.0, 1.0, 1.2575, 1.2575, 1.2307, 1.2307, 1.2307, 1.2307, 1.2307, 1.2307, 1.2101, 1.2101, 1.2101, 1.2101, 1.1972, 1.1805, 1.1805, 1.1805, 1.1805, 1.1804, 1.1804, 1.1804, 1.1804, 1.1804, 1.1804, 1.1804, 1.1804, 1.1804, 1.1804, 1.1804, 1.1799, 1.1794, 1.1615, 1.1541, 1.1425, 1.0753, 1.0872, 0.9664, 1.0604, 1.1087, 1.0022, 1.0995, 1.0037, 0.9095, 0.637, 0.8724, 0.98, 0.98, 0.8084, 0.3633, 0.6919, 0.9127, 0.8356, 0.9709, 0.5147, 0.354, 0.4474, 0.5873, 0.1638, 0.5484, 0.5888, -0.0317, 0.0132, -0.4584, 0.0721, 0.4766, 0.4044, 0.0326, 0.0004, 0.3553, -0.4646, 0.1529, -0.0948, -0.2629, 1.448, 1.4441, 1.4397, 1.4281, 1.4281, 1.411, 1.3836, 1.3836, 1.3836, 1.3836, 1.3625, 1.3625, 1.3625, 1.3625, 1.3321, 1.3321, 1.3321, 1.3321, 1.3321, 1.3319, 1.3188, 1.2847, 1.2847, 1.2847, 1.2847, 1.2847, 1.2847, 1.2847, 1.2847, 1.2847, 1.2019, 1.2471, 1.2471, 1.2448, 1.1551, 1.1737, 1.1704, 1.0551, 1.2091, 0.8769, 1.0336, 0.85, 0.5938, 0.9411, 1.0299, 0.6181, 0.8642, 0.7945, 0.8573, 0.5428, 0.6079, 0.5859, 0.8983, 0.3763, 0.3502, -0.1466, 0.0752, 0.8134, 0.4344, -0.0444, -0.0594, 0.0672, 0.0502, 0.4733, 1.437, 1.4294, 1.4294, 1.4294, 1.4294, 1.42, 1.4199, 1.408, 1.3924, 1.3924, 1.3924, 1.3924, 1.3924, 1.3924, 1.3712, 1.3712, 1.3712, 1.3653, 1.3408, 1.3408, 1.3408, 1.3408, 1.3396, 1.3396, 1.3156, 1.312, 1.2932, 1.2932, 1.2932, 1.2932, 1.2633, 1.268, 1.2673, 1.2427, 1.1894, 0.9987, 0.971, 1.0774, 0.9309, 0.771, 1.022, 0.7635, 0.7939, 0.8631, 0.7628, 0.5773, 0.736, 0.6795, 0.7574, 0.6756, 0.7347, 0.1814, 0.353, 0.2227, -0.4114, 0.6032, 0.2022, 0.2121, -0.0027, 0.6031, -0.0874, 0.0115, 0.1338, -0.2185, 1.8265, 1.8054, 1.7955, 1.7954, 1.7954, 1.795, 1.7656, 1.7136, 1.7098, 1.7098, 1.7098, 1.7098, 1.7098, 1.7098, 1.7098, 1.7098, 1.7098, 1.7097, 1.7097, 1.7079, 1.6585, 1.6585, 1.6585, 1.6585, 1.6585, 1.6585, 1.6585, 1.6585, 1.6584, 1.6583, 1.622, 1.6129, 1.4847, 1.5778, 1.3963, 1.2208, 1.486, 1.4174, 1.4447, 1.1342, 1.1904, 0.5021, 0.9742, 0.5427, 1.0459, 0.1015, 0.5025, 1.3299, 1.0133, 0.1758, 0.1281, 0.264, 0.468, 0.0569, -0.5293, 0.4895, 0.2467, 0.5195, 1.8473, 1.8156, 1.7986, 1.7986, 1.7986, 1.7756, 1.7755, 1.7425, 1.7425, 1.7425, 1.7424, 1.7424, 1.7424, 1.7424, 1.7424, 1.6909, 1.6909, 1.6909, 1.6909, 1.6909, 1.6909, 1.6909, 1.6909, 1.6909, 1.6909, 1.6909, 1.6909, 1.6909, 1.6909, 1.6909, 1.6108, 1.5463, 1.5595, 1.4381, 1.3109, 1.3045, 1.3983, 1.2752, 0.9302, 1.4704, 1.5446, 1.5444, 1.1622, 0.3025, 0.5848, 0.9395, 1.0776, 0.5472, 0.5513, 0.8565, 0.2645, 1.092, 0.4581, 0.1839, 0.1561, 0.8048, -0.0261, 0.5457, 0.5342, -0.0295, 0.5891, 0.47, 0.2298, 0.3899]}, \"token.table\": {\"Topic\": [2, 1, 2, 5, 2, 5, 5, 2, 1, 5, 1, 3, 1, 2, 3, 4, 5, 5, 1, 3, 4, 3, 2, 1, 1, 3, 4, 5, 4, 1, 1, 2, 4, 5, 1, 2, 4, 1, 4, 1, 2, 3, 4, 1, 2, 4, 1, 2, 5, 1, 3, 1, 2, 3, 1, 2, 3, 1, 2, 3, 4, 5, 1, 3, 4, 5, 2, 3, 1, 4, 5, 1, 1, 2, 3, 4, 5, 2, 3, 4, 1, 2, 3, 4, 5, 2, 1, 2, 1, 3, 5, 1, 5, 4, 5, 3, 3, 2, 1, 2, 4, 5, 1, 2, 3, 4, 1, 2, 3, 4, 5, 2, 3, 1, 2, 3, 4, 5, 2, 3, 5, 1, 4, 2, 3, 4, 5, 2, 1, 2, 3, 4, 5, 1, 2, 5, 3, 2, 4, 1, 2, 3, 2, 3, 5, 5, 3, 4, 4, 1, 1, 2, 3, 5, 2, 2, 4, 2, 4, 1, 1, 1, 4, 1, 5, 5, 1, 4, 1, 2, 4, 5, 3, 1, 2, 3, 4, 5, 1, 2, 3, 4, 5, 1, 4, 5, 5, 5, 3, 1, 2, 3, 4, 3, 1, 2, 3, 5, 5, 2, 1, 2, 3, 4, 2, 3, 4, 4, 1, 2, 3, 5, 1, 2, 3, 4, 5, 4, 1, 2, 3, 4, 5, 1, 3, 4, 5, 3, 5, 1, 3, 3, 3, 1, 2, 3, 4, 5, 5, 3, 2, 3, 4, 1, 2, 2, 3, 2, 1, 3, 5, 1, 2, 3, 4, 5, 1, 3, 1, 1, 2, 3, 4, 5, 1, 2, 3, 4, 5, 5, 1, 5, 4, 1, 1, 2, 5, 3, 4, 4, 4, 1, 2, 3, 4, 5, 1, 4, 5, 3, 1, 2, 3, 4, 5, 2, 1, 2, 3, 4, 5, 5, 2, 1, 4, 2, 3, 3, 1, 5, 1, 2, 4, 5, 4, 4, 5, 5, 1, 2, 1, 3, 4, 1, 2, 3, 4, 1, 2, 4, 1, 2, 4, 2, 3, 4, 5, 1, 2, 3, 4, 5, 1, 1, 5, 3, 1, 2, 3, 4, 5, 1, 2, 3, 4, 5, 3, 1, 2, 3, 4, 1, 2, 3, 4, 5, 1, 2, 3, 4, 5, 2, 1, 2, 3, 4, 1, 2, 3, 4, 5, 2, 1, 2, 4, 5, 4, 4, 1, 1, 2, 3, 5, 1, 2, 3, 4, 5, 1, 5, 3, 4, 5, 1, 4, 5, 3, 4, 1, 2, 4, 2, 1, 2, 3, 5, 1, 2, 3, 1, 2, 3, 4, 5, 1, 3, 5, 5, 1, 2, 3, 4, 5, 4, 3, 2, 3, 5, 1, 1, 3, 5, 3, 3, 1, 2, 3, 4, 5, 2, 2, 3, 4, 4, 3, 4, 4, 5, 1, 2, 3, 4, 1, 2, 4, 1, 3, 4, 5, 1, 2, 3, 4, 5, 1, 2, 3, 4, 5, 3, 5, 1, 2, 3, 4, 5, 2, 3, 4, 5, 1, 1, 2, 3, 4, 5, 1, 5, 1, 2, 3, 4, 5, 3, 1, 2, 3, 4, 5, 2, 1, 1, 1, 2, 3, 1, 2, 3, 4, 5, 1, 2, 3, 4, 5, 1, 3, 1, 2, 3, 5, 2, 1, 3, 4, 5, 3, 5, 5, 1, 2, 2, 5, 4, 3, 5, 1, 4, 2, 5, 2, 2, 5, 1, 2, 3, 4, 5, 1, 2, 3, 4, 5, 1, 2, 3, 4, 5, 1, 3, 4, 5, 3, 1, 2, 3, 1, 2, 4, 5, 2, 2, 2, 1, 3, 4, 5, 1, 2, 3, 4, 2, 1, 4, 1, 2, 3, 5], \"Freq\": [0.8753711945100784, 0.37379786317079366, 0.062299643861798946, 0.5606967947561905, 0.9065438007523997, 0.6419457522618576, 0.8598579562565766, 0.9065437455259947, 0.7478502317569515, 0.1495700463513903, 0.8179879116103166, 0.09088754573447962, 0.17981525380770264, 0.5394457614231079, 0.08990762690385132, 0.13486144035577696, 0.04495381345192566, 0.9695659473432511, 0.14833904252010724, 0.4450171275603217, 0.3955707800536193, 0.725784829791332, 0.9065439308659802, 0.9488844269686858, 0.7409400068243723, 0.14818800136487448, 0.8926590517838582, 0.6419465733589866, 0.6392447149104297, 0.9488842451457793, 0.13978501074412497, 0.20967751611618748, 0.20967751611618748, 0.41935503223237497, 0.2099507086421198, 0.1049753543210599, 0.6298521259263594, 0.7894751391656967, 0.6392448370129854, 0.37596708148078706, 0.1936800116719206, 0.2620376628502455, 0.1708941279458123, 0.6959682229276307, 0.19884806369360877, 0.09942403184680439, 0.13511684087875367, 0.6080257839543914, 0.13511684087875367, 0.12038211057356686, 0.842674774014968, 0.17762312221162058, 0.5328693666348617, 0.31084046387033604, 0.0706861285953594, 0.7068612859535941, 0.21205838578607822, 0.24045265168163288, 0.18701872908571446, 0.21373569038367368, 0.18701872908571446, 0.16030176778775526, 0.2492822924311344, 0.2492822924311344, 0.4362440117544852, 0.1246411462155672, 0.9452413045619448, 0.7258185812419415, 0.6903232109000884, 0.08629040136251105, 0.1725808027250221, 0.7894749712760161, 0.25562938216480363, 0.17894056751536255, 0.2300664439483233, 0.25562938216480363, 0.07668881464944109, 0.18544381975798843, 0.7417752790319537, 0.6392439832548844, 0.10687997544236634, 0.10687997544236634, 0.4809598894906485, 0.08015998158177474, 0.24047994474532425, 0.8040364769914814, 0.7892130458143504, 0.1973032614535876, 0.6924339265005911, 0.2967573970716819, 0.922484536245895, 0.8345071345765832, 0.11921530493951188, 0.8581632959790119, 0.859851027473457, 0.9653976359536578, 0.8628462546794147, 0.8040354541853528, 0.6326491780917756, 0.11502712328941374, 0.05751356164470687, 0.17254068493412061, 0.41231117134498324, 0.2886178199414883, 0.24738670280698996, 0.04123111713449833, 0.1190735925088698, 0.09525887400709585, 0.4048502145301573, 0.02381471850177396, 0.3572207775266094, 0.26772666438494735, 0.7362483270586052, 0.03550015428159044, 0.4970021599422661, 0.03550015428159044, 0.17750077140795217, 0.24850107997113305, 0.2799458024477782, 0.5909966940564207, 0.09331526748259275, 0.9488837284668826, 0.6392385767614491, 0.22139461777522368, 0.22139461777522368, 0.07379820592507456, 0.44278923555044736, 0.8609232176384227, 0.069296707521449, 0.12126923816253575, 0.12126923816253575, 0.5024011295305052, 0.1732417688036225, 0.6795581618102471, 0.22651938727008236, 0.05662984681752059, 0.725796525812978, 0.760379712056374, 0.15207594241127478, 0.3143683572762467, 0.5029893716419946, 0.12574734291049866, 0.7550397633256601, 0.15100795266513203, 0.6419459377993062, 0.6419465242479473, 0.9083210171255303, 0.6392446264995401, 0.9180249195141693, 0.8449046678715291, 0.6054157265413469, 0.10090262109022448, 0.05045131054511224, 0.2522565527255612, 0.724272103626803, 0.18160260960872623, 0.7264104384349049, 0.2527844338643496, 0.6740918236382656, 0.8449046912726333, 0.8449043728372, 0.8449043856884465, 0.768977102157083, 0.21121463662389034, 0.6336439098716711, 0.6419461949576865, 0.9186139338453252, 0.7689767077228479, 0.19852237023526426, 0.34741414791171243, 0.4466753330293446, 0.9419557518691258, 0.8057824397024467, 0.169523773300581, 0.2373332826208134, 0.169523773300581, 0.2542856599508715, 0.169523773300581, 0.48337579776578593, 0.019335031910631437, 0.17401528719568293, 0.25135541483820867, 0.05800509573189431, 0.948884312231416, 0.6392447388833156, 0.7724517184831874, 0.9224839579431773, 0.7724495072795693, 0.805783323116808, 0.3549541291184252, 0.0887385322796063, 0.5324311936776378, 0.04436926613980315, 0.9083210938998831, 0.1899477805384673, 0.14246083540385046, 0.2849216708077009, 0.3798955610769346, 0.641945759778732, 0.7242717854987129, 0.6299759448039178, 0.06299759448039177, 0.18899278344117534, 0.12599518896078354, 0.236304426157586, 0.15753628410505735, 0.6301451364202294, 0.7689767336779281, 0.3826459870629633, 0.5261382322115745, 0.07174612257430563, 0.047830748382870415, 0.1290757038943697, 0.29042033376233184, 0.29042033376233184, 0.22588248181514697, 0.06453785194718485, 0.7688641565864924, 0.09091940258021301, 0.4156315546524023, 0.272758207740639, 0.07793091649732543, 0.14287334691176332, 0.2446291090978645, 0.4543112026103198, 0.13978806234163688, 0.13978806234163688, 0.8120185264267001, 0.16240370528534, 0.7542104228661531, 0.21548869224747233, 0.9388303121033936, 0.9653977993949365, 0.1747745038808206, 0.06990980155232825, 0.4893686108662977, 0.1398196031046565, 0.10486470232849236, 0.7724514277490533, 0.8628461543478397, 0.19210879714959073, 0.6403626571653024, 0.1280725314330605, 0.9488829953682935, 0.9065439361962504, 0.7537097359636045, 0.1507419471927209, 0.8753713515685688, 0.8449064349333071, 0.2936478855908169, 0.6851783997119061, 0.27147688528755215, 0.320836318976198, 0.24679716844322921, 0.12339858422161461, 0.04935943368864584, 0.9488837192371109, 0.9056024122426766, 0.9488842299701514, 0.27035721294890797, 0.21628577035912638, 0.1982619561625325, 0.18023814196593865, 0.14419051357275092, 0.4026788612505523, 0.1208036583751657, 0.28187520287538664, 0.08053577225011047, 0.08053577225011047, 0.772452831343064, 0.21121787359769287, 0.6336536207930785, 0.9015560193770358, 0.9489200477888657, 0.18841606018462378, 0.7159810287015704, 0.07536642407384951, 0.9388332666954973, 0.8581635696453617, 0.768975603063233, 0.768975476093509, 0.6000058847663645, 0.18000176542990937, 0.06000058847663645, 0.1200011769532729, 0.06000058847663645, 0.29176847467437056, 0.0972561582247902, 0.5835369493487411, 0.9653967119156733, 0.14939676911080726, 0.5415632880266763, 0.14939676911080726, 0.11204757683310544, 0.07469838455540363, 0.9622976827368246, 0.16706236845814457, 0.40572289482692253, 0.14319631582126677, 0.08750885966855192, 0.19888377197398163, 0.6419457832607519, 0.9065442120806977, 0.2412975158962223, 0.7842169266627225, 0.9065439111865569, 0.9653977548189676, 0.8774427559804219, 0.7894752686485338, 0.7724529688285977, 0.412955137252382, 0.1032387843130955, 0.15485817646964326, 0.3097163529392865, 0.768972778729435, 0.85816345042498, 0.6419467296910026, 0.7724510300485916, 0.8283291923917325, 0.1183327417702475, 0.8283511187247883, 0.11833587410354118, 0.6392446860464039, 0.7297086567233283, 0.09121358209041604, 0.18242716418083207, 0.8581511815830595, 0.14937525559232906, 0.07468762779616453, 0.7468762779616454, 0.12525150737070517, 0.25050301474141035, 0.6262575368535259, 0.3386261491741661, 0.47407660884383257, 0.13545045966966646, 0.06772522983483323, 0.278307359131871, 0.17126606715807446, 0.278307359131871, 0.19267432555283376, 0.06422477518427792, 0.7894759614536401, 0.948883652557291, 0.7724497305274044, 0.8628462970595092, 0.24939692238514405, 0.06650584596937174, 0.3159027683545158, 0.16626461492342937, 0.18289107641577232, 0.305588003712638, 0.38707813803600816, 0.22409786938926787, 0.04074506716168507, 0.04074506716168507, 0.8057827213066034, 0.46565409181010975, 0.13969622754303293, 0.13969622754303293, 0.23282704590505487, 0.4448525278639538, 0.17794101114558153, 0.2224262639319769, 0.08897050557279076, 0.04448525278639538, 0.374205499184908, 0.08315677759664622, 0.41578388798323107, 0.08315677759664622, 0.04157838879832311, 0.8609228048787245, 0.778960897364954, 0.08199588393315306, 0.08199588393315306, 0.08199588393315306, 0.02696208514020151, 0.32354502168241817, 0.2426587662618136, 0.16177251084120908, 0.2426587662618136, 0.7242725614985425, 0.057924996122375, 0.17377498836712502, 0.2316999844895, 0.521324965101375, 0.6392448283384141, 0.6392437340202327, 0.948882713908246, 0.13457552755786734, 0.06728776377893367, 0.6728776377893366, 0.13457552755786734, 0.1905104691265333, 0.6350348970884443, 0.06350348970884444, 0.03175174485442222, 0.06350348970884444, 0.9488827268228484, 0.7724489541071626, 0.2128883311184756, 0.2128883311184756, 0.6386649933554268, 0.31344343708089695, 0.15672171854044847, 0.4701651556213454, 0.761362888049321, 0.1522725776098642, 0.6959672756509404, 0.19884779304312583, 0.09942389652156292, 0.9366667885636796, 0.07931906949210482, 0.15863813898420964, 0.07931906949210482, 0.7138716254289433, 0.5368795208923285, 0.345136834859354, 0.11504561161978467, 0.11619448305633873, 0.40668069069718554, 0.26143758687676216, 0.02904862076408468, 0.1742917245845081, 0.14728319114219948, 0.29456638228439896, 0.5154911689976982, 0.6419467744481809, 0.3146062840155536, 0.3146062840155536, 0.0699125075590119, 0.10486876133851786, 0.20973752267703571, 0.7689756934646274, 0.8628472282366826, 0.7415023019057848, 0.13481860034650633, 0.13481860034650633, 0.9488833732392572, 0.2955007667740558, 0.48018874600784067, 0.22162557508054184, 0.8628462199558924, 0.725784223575068, 0.1436355429972572, 0.2154533144958858, 0.2154533144958858, 0.16158998587191437, 0.26931664311985726, 0.7242759792763364, 0.09665712378621975, 0.8699141140759777, 0.04832856189310988, 0.7689771106879043, 0.725784030748185, 0.7689771127079132, 0.768977122708873, 0.64194645813863, 0.05742681340635924, 0.6316949474699517, 0.22970725362543695, 0.05742681340635924, 0.9488834738484495, 0.14219381205117035, 0.8531628723070221, 0.4447651033804275, 0.049418344820047505, 0.14825503446014252, 0.3459284137403325, 0.17779569798685702, 0.10667741879211422, 0.21335483758422844, 0.24891397718159983, 0.24891397718159983, 0.12551663682968991, 0.18827495524453486, 0.12551663682968991, 0.5020665473187597, 0.12551663682968991, 0.31681310224396825, 0.6336262044879365, 0.12806685699717538, 0.25613371399435075, 0.4482339994901138, 0.06403342849858769, 0.12806685699717538, 0.5502526548478053, 0.12698138188795507, 0.16930850918394008, 0.08465425459197004, 0.9488834259559904, 0.05540212968771525, 0.1108042593754305, 0.05540212968771525, 0.6094234265648677, 0.16620638906314575, 0.25392913200771167, 0.761787396023135, 0.4072677693966392, 0.2036338846983196, 0.06787796156610654, 0.2036338846983196, 0.13575592313221307, 0.8628466461536094, 0.2272271816243529, 0.1514847877495686, 0.4544543632487058, 0.11361359081217645, 0.03787119693739215, 0.8040380352292118, 0.8449073644246446, 0.9488836605041056, 0.9488841542034979, 0.8609224105847444, 0.9083204384811437, 0.14224512871143108, 0.23707521451905178, 0.28449025742286216, 0.09483008580762071, 0.26078273597095697, 0.08652894307343481, 0.21632235768358704, 0.5624381299773262, 0.043264471536717405, 0.08652894307343481, 0.2002251685292844, 0.8009006741171376, 0.14179372846305088, 0.7089686423152545, 0.07089686423152544, 0.07089686423152544, 0.9255314586247921, 0.10565946316403678, 0.10565946316403678, 0.6339567789842206, 0.10565946316403678, 0.7257841500802302, 0.9224845878016654, 0.641946180679102, 0.15018377178485023, 0.7509188589242511, 0.9065439386038362, 0.6419451120233449, 0.6392329293471256, 0.7618713587565822, 0.15237427175131643, 0.8654499300883184, 0.1081812412610398, 0.7242721060318923, 0.6419449789868199, 0.9065439577809993, 0.86092329931063, 0.6419463917742257, 0.20085023259064136, 0.2454836176107839, 0.46865054271149653, 0.06695007753021379, 0.022316692510071262, 0.42906085453235593, 0.09194161168550484, 0.42906085453235593, 0.03064720389516828, 0.03064720389516828, 0.2252379246890683, 0.39416636820586953, 0.2252379246890683, 0.02815474058613354, 0.11261896234453415, 0.6378669528875189, 0.2392001073328196, 0.07973336911093987, 0.6419460906426294, 0.9083207738566248, 0.26594374913327123, 0.5318874982665425, 0.1994578118499534, 0.2974650999873898, 0.2974650999873898, 0.12748504285173848, 0.25497008570347696, 0.724271747850648, 0.9065439411831215, 0.8040378355757234, 0.14899922592938236, 0.14899922592938236, 0.4469976777881471, 0.2979984518587647, 0.15278594179281435, 0.19098242724101794, 0.42016133993023946, 0.2673753981374251, 0.7243100160873854, 0.9186150759326633, 0.7689727781606512, 0.18968709558212243, 0.18968709558212243, 0.5690612867463674, 0.03161451593035374], \"Term\": [\"50cm\", \"I\\u2019m\", \"I\\u2019m\", \"I\\u2019m\", \"There\\u2019s\", \"We\\u2019re\", \"can\\u2019t\", \"we\\u2019re\", \"you\\u2019re\", \"you\\u2019re\", \"\\uac00\\uae4c\\uc774\", \"\\uac00\\uae4c\\uc774\", \"\\uac00\\ub4dd\", \"\\uac00\\ub4dd\", \"\\uac00\\ub4dd\", \"\\uac00\\ub4dd\", \"\\uac00\\ub4dd\", \"\\uac00\\ub974\\uce58\", \"\\uac00\\uc2b4\", \"\\uac00\\uc2b4\", \"\\uac00\\uc2b4\", \"\\uac00\\uc5fd\", \"\\uac04\\uc774\\uc5ed\", \"\\uac19\\uc9c4\", \"\\uac70\\uc9c0\", \"\\uac70\\uc9c0\", \"\\uac83\\uc774\\uae38\", \"\\uac8c\\uc784\", \"\\uaca8\\ub97c\", \"\\uace0\\ud1b5\", \"\\uad1c\\ucc2e\", \"\\uad1c\\ucc2e\", \"\\uad1c\\ucc2e\", \"\\uad1c\\ucc2e\", \"\\uad1c\\ud788\", \"\\uad1c\\ud788\", \"\\uad1c\\ud788\", \"\\uadf8\\uac83\", \"\\uadf8\\uae5f\", \"\\uadf8\\ub300\", \"\\uadf8\\ub300\", \"\\uadf8\\ub300\", \"\\uadf8\\ub300\", \"\\uadf8\\ub304\", \"\\uadf8\\ub304\", \"\\uadf8\\ub304\", \"\\uadf8\\ub54c\", \"\\uadf8\\ub54c\", \"\\uadf8\\ub54c\", \"\\uadf8\\ub550\", \"\\uadf8\\ub550\", \"\\uadf8\\ub798\\ub3c4\", \"\\uadf8\\ub798\\ub3c4\", \"\\uadf8\\ub798\\ub3c4\", \"\\uadf8\\ub798\\uc11c\", \"\\uadf8\\ub798\\uc11c\", \"\\uadf8\\ub798\\uc11c\", \"\\uadf8\\ub807\", \"\\uadf8\\ub807\", \"\\uadf8\\ub807\", \"\\uadf8\\ub807\", \"\\uadf8\\ub807\", \"\\uadf8\\ub9ac\", \"\\uadf8\\ub9ac\", \"\\uadf8\\ub9ac\", \"\\uadf8\\ub9ac\", \"\\uadf8\\ub9ac\\uace0\", \"\\uadf8\\ub9ac\\uc6c0\", \"\\uadf8\\ub9bd\", \"\\uadf8\\ub9bd\", \"\\uadf8\\ub9bd\", \"\\uae08\\uc694\\uc77c\", \"\\uae30\\ub2e4\\ub9ac\", \"\\uae30\\ub2e4\\ub9ac\", \"\\uae30\\ub2e4\\ub9ac\", \"\\uae30\\ub2e4\\ub9ac\", \"\\uae30\\ub2e4\\ub9ac\", \"\\uae30\\ub3c4\", \"\\uae30\\ub3c4\", \"\\uae30\\uc5b4\", \"\\uae30\\uc5b5\", \"\\uae30\\uc5b5\", \"\\uae30\\uc5b5\", \"\\uae30\\uc5b5\", \"\\uae30\\uc5b5\", \"\\uae30\\ucc28\", \"\\uae68\\uc6b0\", \"\\uae68\\uc6b0\", \"\\uaebc\\ub0b4\", \"\\uaebc\\ub0b4\", \"\\uaf2c\\ub9ac\", \"\\uafc8\\uafb8\", \"\\uafc8\\uafb8\", \"\\uafcd\\ub530\\ub9ac\", \"\\ub098\\ub09c\\ub098\\ub098\", \"\\ub098\\ubb34\", \"\\ub0a0\\uac1c\\uc9d3\", \"\\ub0a0\\ub9ac\", \"\\ub0b4\\uac90\", \"\\ub0b4\\uac90\", \"\\ub0b4\\uac90\", \"\\ub0b4\\uac90\", \"\\ub0b4\\ub9ac\", \"\\ub0b4\\ub9ac\", \"\\ub0b4\\ub9ac\", \"\\ub0b4\\ub9ac\", \"\\ub108\\ubb34\", \"\\ub108\\ubb34\", \"\\ub108\\ubb34\", \"\\ub108\\ubb34\", \"\\ub108\\ubb34\", \"\\ub178\\ub798\", \"\\ub178\\ub798\", \"\\ub204\\uad6c\", \"\\ub204\\uad6c\", \"\\ub204\\uad6c\", \"\\ub204\\uad6c\", \"\\ub204\\uad6c\", \"\\ub208\\ubb3c\", \"\\ub208\\ubb3c\", \"\\ub208\\ubb3c\", \"\\ub2e4\\ub2c8\", \"\\ub2e4\\ub4ec\", \"\\ub2e4\\ub974\", \"\\ub2e4\\ub974\", \"\\ub2e4\\ub974\", \"\\ub2e4\\ub974\", \"\\ub2e4\\ubb3c\", \"\\ub2e4\\uc2dc\", \"\\ub2e4\\uc2dc\", \"\\ub2e4\\uc2dc\", \"\\ub2e4\\uc2dc\", \"\\ub2e4\\uc2dc\", \"\\ub2e4\\uc74c\", \"\\ub2e4\\uc74c\", \"\\ub2e4\\uc74c\", \"\\ub2ec\\ub798\", \"\\ub2ec\\ube5b\", \"\\ub2ec\\ube5b\", \"\\ub2f9\\uc2e0\", \"\\ub2f9\\uc2e0\", \"\\ub2f9\\uc2e0\", \"\\ub300\\uc2e0\", \"\\ub300\\uc2e0\", \"\\ub3c4\\ubb34\\uc9c0\", \"\\ub418\\ub3cc\\ub9ac\", \"\\ub41c\\uac70\\uc8e0\", \"\\ub420\\ub798\", \"\\ub450\\ube44\\ub450\\ubc14\\ub460\", \"\\ub4e4\\ub728\", \"\\ub4e4\\ub9ac\", \"\\ub4e4\\ub9ac\", \"\\ub4e4\\ub9ac\", \"\\ub4e4\\ub9ac\", \"\\ub4e4\\uc744\\ub798\\uc694\", \"\\ub5a8\\ub9ac\", \"\\ub5a8\\ub9ac\", \"\\ub610\\ub2e4\\uc2dc\", \"\\ub610\\ub2e4\\uc2dc\", \"\\ub69c\\ub69c\", \"\\ub69c\\ub8e8\\ub69c\", \"\\ub69c\\ub8e8\\ub69c\\ub69c\", \"\\ub69c\\ubc85\", \"\\ub72c\\uad6c\\ub984\", \"\\ub72c\\uad6c\\ub984\", \"\\ub77c\\uc77c\\ub77d\", \"\\ub784\\ub77c\\ub77c\\ub77c\", \"\\ub784\\ub77c\\ub77c\\ub9b4\\ub77c\", \"\\ub9c8\\ub514\", \"\\ub9c8\\ub514\", \"\\ub9c8\\ub514\", \"\\ub9c8\\uc26c\\uba5c\\ub85c\\uc6b0\", \"\\ub9c8\\uc2dc\", \"\\ub9c8\\uc74c\", \"\\ub9c8\\uc74c\", \"\\ub9c8\\uc74c\", \"\\ub9c8\\uc74c\", \"\\ub9c8\\uc74c\", \"\\ub9cc\\ub098\", \"\\ub9cc\\ub098\", \"\\ub9cc\\ub098\", \"\\ub9cc\\ub098\", \"\\ub9cc\\ub098\", \"\\ub9cc\\uc9c0\\uc791\", \"\\ub9cc\\ud55c\", \"\\ub9d0\\ub791\\ub9d0\\ub791\", \"\\ub9d0\\ub791\\ud574\", \"\\ub9dd\\uc124\\uc774\", \"\\ub9de\\ud788\", \"\\ub9e4\\uc77c\", \"\\ub9e4\\uc77c\", \"\\ub9e4\\uc77c\", \"\\ub9e4\\uc77c\", \"\\uba38\\uae08\", \"\\uba38\\ub9ac\", \"\\uba38\\ub9ac\", \"\\uba38\\ub9ac\", \"\\uba38\\ub9ac\", \"\\uba38\\ub9bf\\uc18d\", \"\\uba38\\ubb34\\ub974\", \"\\uba40\\ub9ac\", \"\\uba40\\ub9ac\", \"\\uba40\\ub9ac\", \"\\uba40\\ub9ac\", \"\\uba48\\ucd94\", \"\\uba48\\ucd94\", \"\\uba48\\ucd94\", \"\\uba4d\\uccad\\uc774\", \"\\ubaa8\\ub450\", \"\\ubaa8\\ub450\", \"\\ubaa8\\ub450\", \"\\ubaa8\\ub450\", \"\\ubaa8\\ub4e0\", \"\\ubaa8\\ub4e0\", \"\\ubaa8\\ub4e0\", \"\\ubaa8\\ub4e0\", \"\\ubaa8\\ub4e0\", \"\\ubaa8\\ub4e0\\uac8c\", \"\\ubaa8\\ub974\", \"\\ubaa8\\ub974\", \"\\ubaa8\\ub974\", \"\\ubaa8\\ub974\", \"\\ubaa8\\ub974\", \"\\ubaa8\\uc2b5\", \"\\ubaa8\\uc2b5\", \"\\ubaa8\\uc2b5\", \"\\ubaa8\\uc2b5\", \"\\ubaa8\\uc73c\", \"\\ubaa8\\uc73c\", \"\\ubab0\\ub798\", \"\\ubab0\\ub798\", \"\\ubab0\\uc544\\uce58\", \"\\ubabb\\uc4f0\", \"\\ubabb\\ud558\", \"\\ubabb\\ud558\", \"\\ubabb\\ud558\", \"\\ubabb\\ud558\", \"\\ubabb\\ud558\", \"\\ubb34\\ub108\\uc9c0\", \"\\ubb34\\ub514\", \"\\ubb34\\uc12d\", \"\\ubb34\\uc12d\", \"\\ubb34\\uc12d\", \"\\ubb3c\\ub4e4\", \"\\ubb49\\uac8c\\uad6c\\ub984\", \"\\ubbf8\\uc18c\", \"\\ubbf8\\uc18c\", \"\\ubbf8\\uc2a4\\ud130\", \"\\ubbf8\\uc9c0\", \"\\ubbf8\\uce58\", \"\\ubbf8\\uce58\", \"\\ubc14\\ub77c\", \"\\ubc14\\ub77c\", \"\\ubc14\\ub77c\", \"\\ubc14\\ub77c\", \"\\ubc14\\ub77c\", \"\\ubc14\\ud034\", \"\\ubc18\\ucabd\", \"\\ubc1c\\uac78\\uc74c\", \"\\ubc84\\ub9ac\", \"\\ubc84\\ub9ac\", \"\\ubc84\\ub9ac\", \"\\ubc84\\ub9ac\", \"\\ubc84\\ub9ac\", \"\\ubcf4\\uc774\", \"\\ubcf4\\uc774\", \"\\ubcf4\\uc774\", \"\\ubcf4\\uc774\", \"\\ubcf4\\uc774\", \"\\ubd04\\ub0a0\", \"\\ubd04\\ubc14\\ub78c\", \"\\ubd04\\ubc14\\ub78c\", \"\\ubd80\\ub4dc\\ub7fd\", \"\\ubd80\\ub9ac\", \"\\ube44\\ubc00\", \"\\ube44\\ubc00\", \"\\ube44\\ubc00\", \"\\ube57\\ubb3c\", \"\\ube60\\ube60\\ube60\", \"\\ube60\\ube60\\ube60\\ube60\", \"\\ube60\\ube60\\ube60\\ube60\\ube60\", \"\\ube60\\uc9c0\", \"\\ube60\\uc9c0\", \"\\ube60\\uc9c0\", \"\\ube60\\uc9c0\", \"\\ube60\\uc9c0\", \"\\ube68\\ub9ac\", \"\\ube68\\ub9ac\", \"\\ube68\\ub9ac\", \"\\uc090\\uc5d0\\ub85c\", \"\\uc0ac\\ub78c\", \"\\uc0ac\\ub78c\", \"\\uc0ac\\ub78c\", \"\\uc0ac\\ub78c\", \"\\uc0ac\\ub78c\", \"\\uc0ac\\ub78c\\ub4e4\", \"\\uc0ac\\ub791\", \"\\uc0ac\\ub791\", \"\\uc0ac\\ub791\", \"\\uc0ac\\ub791\", \"\\uc0ac\\ub791\", \"\\uc0ac\\ub791\\ub2c8\", \"\\uc0ac\\ub791\\ud558\\uace0\\ud30c\", \"\\uc0ac\\ub791\\ud55c\\ub2e8\", \"\\uc0ac\\ub791\\ud55c\\ub2e8\", \"\\uc0ac\\uc18c\", \"\\uc0ac\\uc9c4\", \"\\uc0bc\\ucd0c\", \"\\uc0c1\\ud07c\", \"\\uc0c1\\ud558\", \"\\uc0dd\\uac01\", \"\\uc0dd\\uac01\", \"\\uc0dd\\uac01\", \"\\uc0dd\\uac01\", \"\\uc0dd\\uae00\", \"\\uc0e4\\ubc14\\ub77c\", \"\\uc11c\\ud234\", \"\\uc120\\uba85\", \"\\uc120\\ubb3c\", \"\\uc120\\ubb3c\", \"\\uc124\\ub808\\uc774\", \"\\uc124\\ub808\\uc774\", \"\\uc124\\ud0d5\", \"\\uc18c\\uc911\", \"\\uc18c\\uc911\", \"\\uc18c\\uc911\", \"\\uc18d\\uc0ad\\uc774\", \"\\uc194\\uc9c1\\ud788\", \"\\uc194\\uc9c1\\ud788\", \"\\uc194\\uc9c1\\ud788\", \"\\uc228\\uae30\", \"\\uc228\\uae30\", \"\\uc228\\uae30\", \"\\uc2ac\\ud504\", \"\\uc2ac\\ud504\", \"\\uc2ac\\ud504\", \"\\uc2ac\\ud504\", \"\\uc2dc\\uac04\", \"\\uc2dc\\uac04\", \"\\uc2dc\\uac04\", \"\\uc2dc\\uac04\", \"\\uc2dc\\uac04\", \"\\uc2dc\\ub9ac\", \"\\uc2dc\\uc791\\ud574\", \"\\uc2f6\\uc744\\ub550\", \"\\uc501\\uc4f8\", \"\\uc544\\ub2c8\", \"\\uc544\\ub2c8\", \"\\uc544\\ub2c8\", \"\\uc544\\ub2c8\", \"\\uc544\\ub2c8\", \"\\uc544\\ubb34\", \"\\uc544\\ubb34\", \"\\uc544\\ubb34\", \"\\uc544\\ubb34\", \"\\uc544\\ubb34\", \"\\uc544\\uc608\", \"\\uc544\\uc774\", \"\\uc544\\uc774\", \"\\uc544\\uc774\", \"\\uc544\\uc774\", \"\\uc544\\uc8fc\", \"\\uc544\\uc8fc\", \"\\uc544\\uc8fc\", \"\\uc544\\uc8fc\", \"\\uc544\\uc8fc\", \"\\uc544\\uc9c1\", \"\\uc544\\uc9c1\", \"\\uc544\\uc9c1\", \"\\uc544\\uc9c1\", \"\\uc544\\uc9c1\", \"\\uc544\\uc9c1\\uae4c\\uc9c4\", \"\\uc544\\uce68\", \"\\uc544\\uce68\", \"\\uc544\\uce68\", \"\\uc544\\uce68\", \"\\uc544\\ud504\", \"\\uc544\\ud504\", \"\\uc544\\ud504\", \"\\uc544\\ud504\", \"\\uc544\\ud504\", \"\\uc548\\uacbd\", \"\\uc548\\ub155\", \"\\uc548\\ub155\", \"\\uc548\\ub155\", \"\\uc548\\ub155\", \"\\uc548\\ubd80\", \"\\uc54a\\uc744\\uac8c\", \"\\uc57d\\uc18d\\ub4e4\", \"\\uc5b4\\ub290\", \"\\uc5b4\\ub290\", \"\\uc5b4\\ub290\", \"\\uc5b4\\ub290\", \"\\uc5b4\\ub514\", \"\\uc5b4\\ub514\", \"\\uc5b4\\ub514\", \"\\uc5b4\\ub514\", \"\\uc5b4\\ub514\", \"\\uc5b4\\ub514\\uac04\", \"\\uc5b4\\ub5a1\", \"\\uc5b4\\ub5a1\\ud558\", \"\\uc5b4\\ub5a1\\ud558\", \"\\uc5b4\\ub5a1\\ud558\", \"\\uc5b4\\ub5bb\", \"\\uc5b4\\ub5bb\", \"\\uc5b4\\ub5bb\", \"\\uc5b4\\uc11c\", \"\\uc5b4\\uc11c\", \"\\uc5b4\\uc81c\", \"\\uc5b4\\uc81c\", \"\\uc5b4\\uc81c\", \"\\uc5b4\\uc82f\\ubc24\", \"\\uc5b4\\uca4c\", \"\\uc5b4\\uca4c\", \"\\uc5b4\\uca4c\", \"\\uc5b4\\uca4c\", \"\\uc5b8\\uc81c\\ub098\", \"\\uc5b8\\uc81c\\ub098\", \"\\uc5b8\\uc81c\\ub098\", \"\\uc5bc\\uad74\", \"\\uc5bc\\uad74\", \"\\uc5bc\\uad74\", \"\\uc5bc\\uad74\", \"\\uc5bc\\uad74\", \"\\uc5bc\\ub9c8\\ub098\", \"\\uc5bc\\ub9c8\\ub098\", \"\\uc5bc\\ub9c8\\ub098\", \"\\uc5c4\\uc9c0\\uc190\\uac00\\ub77d\", \"\\uc5c6\\uc774\", \"\\uc5c6\\uc774\", \"\\uc5c6\\uc774\", \"\\uc5c6\\uc774\", \"\\uc5c6\\uc774\", \"\\uc5c7\\uac08\\ub9ac\", \"\\uc5ec\\uc6b0\", \"\\uc5ec\\uc790\", \"\\uc5ec\\uc790\", \"\\uc5ec\\uc790\", \"\\uc5ec\\uc794\", \"\\uc624\\ub298\", \"\\uc624\\ub298\", \"\\uc624\\ub298\", \"\\uc624\\ub9ac\", \"\\uc624\\ube60\", \"\\uc6b0\\ub9ac\", \"\\uc6b0\\ub9ac\", \"\\uc6b0\\ub9ac\", \"\\uc6b0\\ub9ac\", \"\\uc6b0\\ub9ac\", \"\\uc6b0\\uc6b0\\uc6b0\", \"\\uc6b0\\uc6b8\", \"\\uc6b0\\uc6b8\", \"\\uc6b0\\uc6b8\", \"\\uc6b4\\uba85\", \"\\uc6b8\\uc801\", \"\\uc6c0\\ud30c\\ub8f8\\ud30c\\ub460\", \"\\uc6c0\\ud30c\\ub8f8\\ud30c\\ub8f8\", \"\\uc6c3\\uae30\", \"\\uc6c3\\uc74c\", \"\\uc6c3\\uc74c\", \"\\uc6c3\\uc74c\", \"\\uc6c3\\uc74c\", \"\\uc6cc\\uc5b4\\uc5b8\", \"\\uc6d0\\ud558\", \"\\uc6d0\\ud558\", \"\\uc774\\ub7f0\", \"\\uc774\\ub7f0\", \"\\uc774\\ub7f0\", \"\\uc774\\ub7f0\", \"\\uc774\\ub807\", \"\\uc774\\ub807\", \"\\uc774\\ub807\", \"\\uc774\\ub807\", \"\\uc774\\ub807\", \"\\uc774\\ub984\", \"\\uc774\\ub984\", \"\\uc774\\ub984\", \"\\uc774\\ub984\", \"\\uc774\\ub984\", \"\\uc774\\uc0c1\", \"\\uc774\\uc0c1\", \"\\uc774\\uc81c\", \"\\uc774\\uc81c\", \"\\uc774\\uc81c\", \"\\uc774\\uc81c\", \"\\uc774\\uc81c\", \"\\uc785\\uc220\", \"\\uc785\\uc220\", \"\\uc785\\uc220\", \"\\uc785\\uc220\", \"\\uc800\\uc800\\uc801\", \"\\uc804\\ubd80\", \"\\uc804\\ubd80\", \"\\uc804\\ubd80\", \"\\uc804\\ubd80\", \"\\uc804\\ubd80\", \"\\uc804\\ud654\", \"\\uc804\\ud654\", \"\\uc815\\ub9d0\", \"\\uc815\\ub9d0\", \"\\uc815\\ub9d0\", \"\\uc815\\ub9d0\", \"\\uc815\\ub9d0\", \"\\uc81c\\uc81c\", \"\\uc870\\uae08\", \"\\uc870\\uae08\", \"\\uc870\\uae08\", \"\\uc870\\uae08\", \"\\uc870\\uae08\", \"\\uc870\\uae09\", \"\\uc874\\uc7ac\", \"\\uc878\\uc5c5\", \"\\uc900\\ube44\", \"\\uc911\\uc694\", \"\\uc990\\uaca8\\ub4e3\\ub358\", \"\\uc9c0\\uae08\", \"\\uc9c0\\uae08\", \"\\uc9c0\\uae08\", \"\\uc9c0\\uae08\", \"\\uc9c0\\uae08\", \"\\uc9c0\\ub098\", \"\\uc9c0\\ub098\", \"\\uc9c0\\ub098\", \"\\uc9c0\\ub098\", \"\\uc9c0\\ub098\", \"\\ucc28\\ub77c\\ub9ac\", \"\\ucc28\\ub77c\\ub9ac\", \"\\ucc44\\uc6b0\", \"\\ucc44\\uc6b0\", \"\\ucc44\\uc6b0\", \"\\ucc44\\uc6b0\", \"\\ucc44\\ud50c\\ub9b0\", \"\\ucc98\\uc74c\", \"\\ucc98\\uc74c\", \"\\ucc98\\uc74c\", \"\\ucc98\\uc74c\", \"\\ucca0\\ubd80\\uc9c0\", \"\\uccab\\uc0ac\\ub791\", \"\\ucd5c\\uc545\", \"\\ucda9\\ubd84\\ud788\", \"\\ucda9\\ubd84\\ud788\", \"\\ucf54\\uc2a4\\ubaa8\\uc2a4\", \"\\ucfe0\\ud0a4\", \"\\ud06c\\ub808\\ud30c\\uc2a4\", \"\\ud0dc\\uc6b0\", \"\\ud0dc\\uc6b0\", \"\\ud150\\ub370\", \"\\ud150\\ub370\", \"\\ud15c\\ud3ec\", \"\\ud1b5\\ud1b5\\ud558\", \"\\ud480\\ub9ac\", \"\\ud53c\\uace4\", \"\\ud53c\\ubd80\", \"\\ud558\\ub098\", \"\\ud558\\ub098\", \"\\ud558\\ub098\", \"\\ud558\\ub098\", \"\\ud558\\ub098\", \"\\ud558\\ub298\", \"\\ud558\\ub298\", \"\\ud558\\ub298\", \"\\ud558\\ub298\", \"\\ud558\\ub298\", \"\\ud558\\ub8e8\", \"\\ud558\\ub8e8\", \"\\ud558\\ub8e8\", \"\\ud558\\ub8e8\", \"\\ud558\\ub8e8\", \"\\ud558\\uc597\", \"\\ud558\\uc597\", \"\\ud558\\uc597\", \"\\ud558\\uc774\\uc580\", \"\\ud55c\\uce58\", \"\\ud587\\uc0b4\", \"\\ud587\\uc0b4\", \"\\ud587\\uc0b4\", \"\\ud589\\ubcf5\", \"\\ud589\\ubcf5\", \"\\ud589\\ubcf5\", \"\\ud589\\ubcf5\", \"\\ud589\\uc5ec\", \"\\ud5a5\\uae0b\", \"\\ud5a5\\ud558\", \"\\ud639\\uc2dc\", \"\\ud639\\uc2dc\", \"\\ud639\\uc2dc\", \"\\ud639\\uc2dc\", \"\\ud63c\\uc790\", \"\\ud63c\\uc790\", \"\\ud63c\\uc790\", \"\\ud63c\\uc790\", \"\\ud63c\\uc790\\ub9cc\", \"\\ud6c4\\ud6c4\\ud6c4\\ud6c4\\ud6c4\", \"\\ud6cc\\uca4d\", \"\\ud750\\ub974\", \"\\ud750\\ub974\", \"\\ud750\\ub974\", \"\\ud750\\ub974\"]}, \"R\": 30, \"lambda.step\": 0.01, \"plot.opts\": {\"xlab\": \"PC1\", \"ylab\": \"PC2\"}, \"topic.order\": [1, 5, 4, 3, 2]};\n",
              "\n",
              "function LDAvis_load_lib(url, callback){\n",
              "  var s = document.createElement('script');\n",
              "  s.src = url;\n",
              "  s.async = true;\n",
              "  s.onreadystatechange = s.onload = callback;\n",
              "  s.onerror = function(){console.warn(\"failed to load library \" + url);};\n",
              "  document.getElementsByTagName(\"head\")[0].appendChild(s);\n",
              "}\n",
              "\n",
              "if(typeof(LDAvis) !== \"undefined\"){\n",
              "   // already loaded: just create the visualization\n",
              "   !function(LDAvis){\n",
              "       new LDAvis(\"#\" + \"ldavis_el3361401924219568161654591220\", ldavis_el3361401924219568161654591220_data);\n",
              "   }(LDAvis);\n",
              "}else if(typeof define === \"function\" && define.amd){\n",
              "   // require.js is available: use it to load d3/LDAvis\n",
              "   require.config({paths: {d3: \"https://d3js.org/d3.v5\"}});\n",
              "   require([\"d3\"], function(d3){\n",
              "      window.d3 = d3;\n",
              "      LDAvis_load_lib(\"https://cdn.jsdelivr.net/gh/bmabey/pyLDAvis@3.3.1/pyLDAvis/js/ldavis.v3.0.0.js\", function(){\n",
              "        new LDAvis(\"#\" + \"ldavis_el3361401924219568161654591220\", ldavis_el3361401924219568161654591220_data);\n",
              "      });\n",
              "    });\n",
              "}else{\n",
              "    // require.js not available: dynamically load d3 & LDAvis\n",
              "    LDAvis_load_lib(\"https://d3js.org/d3.v5.js\", function(){\n",
              "         LDAvis_load_lib(\"https://cdn.jsdelivr.net/gh/bmabey/pyLDAvis@3.3.1/pyLDAvis/js/ldavis.v3.0.0.js\", function(){\n",
              "                 new LDAvis(\"#\" + \"ldavis_el3361401924219568161654591220\", ldavis_el3361401924219568161654591220_data);\n",
              "            })\n",
              "         });\n",
              "}\n",
              "</script>"
            ]
          },
          "metadata": {},
          "execution_count": 74
        }
      ]
    },
    {
      "cell_type": "code",
      "source": [
        "dance_id = song_df.loc[song_df['genre']=='댄스'].index"
      ],
      "metadata": {
        "id": "2AnDOJCq14Jg"
      },
      "execution_count": null,
      "outputs": []
    },
    {
      "cell_type": "code",
      "source": [
        "for i, topic_list in enumerate(LDA_model[corpus]):\n",
        "    if i in dance_id : \n",
        "      print('[{}]의 topic 비율 {}'.format(song_df['song_title'][i], topic_list))"
      ],
      "metadata": {
        "colab": {
          "base_uri": "https://localhost:8080/"
        },
        "id": "n3Qcj3Su6ej5",
        "outputId": "1a620100-4b43-466d-c96f-d2fad74220ad"
      },
      "execution_count": null,
      "outputs": [
        {
          "output_type": "stream",
          "name": "stdout",
          "text": [
            "[라일락]의 topic 비율 [(4, 0.9910911)]\n",
            "[Flu]의 topic 비율 [(3, 0.9903812)]\n",
            "[Celebrity]의 topic 비율 [(2, 0.9896646)]\n",
            "[어푸 (Ah puh)]의 topic 비율 [(5, 0.99340963)]\n",
            "[어젯밤 이야기]의 topic 비율 [(4, 0.98289865)]\n",
            "[잼잼]의 topic 비율 [(4, 0.99210286)]\n",
            "[Black Out]의 topic 비율 [(3, 0.9892553)]\n",
            "[Zeze]의 topic 비율 [(5, 0.992778)]\n",
            "[스물셋]의 topic 비율 [(4, 0.9932509)]\n",
            "[Red Queen (Feat. Zion.T)]의 topic 비율 [(2, 0.9938324)]\n",
            "[삐에로는 우릴 보고 웃지]의 topic 비율 [(5, 0.9881665)]\n",
            "[크레파스 (드라마 '예쁜 남자' 삽입)]의 topic 비율 [(4, 0.9892328)]\n",
            "[누구나 비밀은 있다 (Feat. 가인 Of Brown Eyed Girls)]의 topic 비율 [(3, 0.9888372)]\n",
            "[분홍신]의 topic 비율 [(3, 0.9886861)]\n",
            "[기다려]의 topic 비율 [(0, 0.9535354)]\n",
            "[누구나 비밀은 있다 (Feat. 가인 Of Brown Eyed Girls)]의 topic 비율 [(3, 0.9888378)]\n",
            "[분홍신]의 topic 비율 [(3, 0.9886861)]\n",
            "[기다려]의 topic 비율 [(0, 0.95353323)]\n",
            "[잠자는 숲 속의 왕자 (Feat. 윤상)]의 topic 비율 [(3, 0.9891373)]\n",
            "[너랑 나]의 topic 비율 [(0, 0.9888259)]\n",
            "[삼촌 (Feat. 이적)]의 topic 비율 [(3, 0.9898965)]\n",
            "[Everything's Alright (Feat. 김현철)]의 topic 비율 [(0, 0.25649402), (3, 0.7282339)]\n",
            "[좋은 날]의 topic 비율 [(5, 0.9899849)]\n",
            "[미리 메리 크리스마스 (Feat. 천둥 Of MBLAQ)]의 topic 비율 [(2, 0.9892427)]\n",
            "[Love Attack]의 topic 비율 [(2, 0.9864572)]\n",
            "[마쉬멜로우]의 topic 비율 [(2, 0.98744273)]\n",
            "[두근 두근 데이트]의 topic 비율 [(2, 0.9890916)]\n",
            "[Boo]의 topic 비율 [(2, 0.9905829)]\n",
            "[나 말고 넷]의 topic 비율 [(3, 0.99335754)]\n",
            "[있잖아 (Feat. 마리오)]의 topic 비율 [(1, 0.9838815)]\n",
            "[있잖아 (Rock Ver.)]의 topic 비율 [(1, 0.9913712)]\n"
          ]
        }
      ]
    },
    {
      "cell_type": "code",
      "source": [
        "break_id = [0, 29, 33, 47, 65, 95, 100]"
      ],
      "metadata": {
        "id": "ken6NHFI3Z83"
      },
      "execution_count": null,
      "outputs": []
    },
    {
      "cell_type": "code",
      "source": [
        "for i, topic_list in enumerate(LDA_model[corpus]):\n",
        "    if i in break_id : \n",
        "      print('[{}]의 topic 비율 {}'.format(song_df['song_title'][i], topic_list))"
      ],
      "metadata": {
        "colab": {
          "base_uri": "https://localhost:8080/"
        },
        "id": "bBjKnfNZ2QXp",
        "outputId": "3adf57e9-8db6-4cc1-d60a-12591304a243"
      },
      "execution_count": null,
      "outputs": [
        {
          "output_type": "stream",
          "name": "stdout",
          "text": [
            "[드라마]의 topic 비율 [(3, 0.98348343)]\n",
            "[이런 엔딩]의 topic 비율 [(2, 0.4329982), (3, 0.5503236)]\n",
            "[마침표]의 topic 비율 [(1, 0.09205443), (3, 0.89332134)]\n",
            "[사랑이 지나가면]의 topic 비율 [(3, 0.9843548)]\n",
            "[(Bonus Track) Voice Mail (Korean Ver.)]의 topic 비율 [(3, 0.9892639)]\n",
            "[첫 이별 그날 밤]의 topic 비율 [(3, 0.9889753)]\n",
            "[기차를 타고]의 topic 비율 [(3, 0.9920505)]\n"
          ]
        }
      ]
    }
  ]
}
